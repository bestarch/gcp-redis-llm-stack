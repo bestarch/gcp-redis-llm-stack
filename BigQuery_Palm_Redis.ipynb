{
  "cells": [
    {
      "cell_type": "markdown",
      "metadata": {
        "id": "aiHV6ip2f5id"
      },
      "source": [
        "# LLM Reference Architecture using Redis & Google Cloud Platform\n",
        "\n",
        "<a href=\"https://colab.research.google.com/github/bestarch/gcp-redis-llm-stack/blob/main/BigQuery_Palm_Redis.ipynb\" target=\"_parent\"><img src=\"https://colab.research.google.com/assets/colab-badge.svg\" alt=\"Open In Colab\"/></a>\n",
        "\n",
        "This notebook serves as a getting started guide for working with LLMs on Google Cloud Platform with Redis Enterprise.\n",
        "\n",
        "## Intro\n",
        "Google's Vertex AI has expanded its capabilities by introducing [Generative AI](https://cloud.google.com/vertex-ai/docs/generative-ai/learn/overview). This advanced technology comes with a specialized [in-console studio experience](https://cloud.google.com/vertex-ai/docs/generative-ai/start/quickstarts/quickstart), a [dedicated API](https://cloud.google.com/vertex-ai/docs/generative-ai/start/quickstarts/api-quickstart) and [Python SDK](https://cloud.google.com/vertex-ai/docs/python-sdk/use-vertex-ai-python-sdk) designed for deploying and managing instances of Google's powerful PaLM language models (more sample code). With a distinct focus on text generation, summarization, chat completion, and embedding creation, PaLM models are reshaping the boundaries of natural language processing and machine learning.\n",
        "\n",
        "Redis Enterprise offers robust vector database features, with an efficient API for vector index creation, management, distance metric selection, similarity search, and hybrid filtering. When coupled with its versatile data structures - including lists, hashes, JSON, and sets - Redis Enterprise shines as the optimal solution for crafting high-quality Large Language Model (LLM)-based applications. It embodies a streamlined architecture and exceptional performance, making it an instrumental tool for production environments.\n",
        "\n",
        "![](https://github.com/RedisVentures/redis-google-llms/blob/main/assets/GCP_RE_GenAI.drawio.png?raw=true)\n",
        "\n",
        "Below we will work through several design patterns with Vertex AI LLMs and Redis Enterprise that will ensure optimal production performance.\n",
        "\n",
        "___\n",
        "## Contents\n",
        "- Setup\n",
        "    1. Prerequisites\n",
        "    2. Create BigQuery Table\n",
        "    3. Generate Embeddings\n",
        "        \n",
        "        a. Embed Text Data\n",
        "\n",
        "    4. Load Embeddings to Redis\n",
        "    5. Create Index\n",
        "- Build LLM Applications\n",
        "- LLM Design Patterns\n",
        "    1. Semantic Search\n",
        "    2. Retrieval Augmented Generation (RAG)\n",
        "    3. Caching\n",
        "    4. Memory\n",
        "- Cleanup\n",
        "\n",
        "___"
      ]
    },
    {
      "cell_type": "markdown",
      "metadata": {
        "id": "rK2rWODkw-kX"
      },
      "source": [
        "# Setup"
      ]
    },
    {
      "cell_type": "markdown",
      "metadata": {
        "id": "37rbBPKdL09o"
      },
      "source": [
        "## 1. Prerequisites\n",
        "Before we begin, we must install some required libraries, authenticate with Google, create a Redis database, and initialize other required components.\n",
        "\n",
        "### Install required libraries"
      ]
    },
    {
      "cell_type": "code",
      "execution_count": 4,
      "metadata": {
        "colab": {
          "base_uri": "https://localhost:8080/",
          "height": 915
        },
        "id": "pc-IxYu3wnQm",
        "outputId": "2068e319-3b83-45fc-c303-57aca4ff2a14"
      },
      "outputs": [
        {
          "output_type": "stream",
          "name": "stdout",
          "text": [
            "Collecting redis\n",
            "  Downloading redis-5.0.1-py3-none-any.whl (250 kB)\n",
            "\u001b[2K     \u001b[90m━━━━━━━━━━━━━━━━━━━━━━━━━━━━━━━━━━━━━━━━\u001b[0m \u001b[32m250.3/250.3 kB\u001b[0m \u001b[31m5.9 MB/s\u001b[0m eta \u001b[36m0:00:00\u001b[0m\n",
            "\u001b[?25hCollecting google-cloud-aiplatform==1.25.0\n",
            "  Downloading google_cloud_aiplatform-1.25.0-py2.py3-none-any.whl (2.6 MB)\n",
            "\u001b[2K     \u001b[90m━━━━━━━━━━━━━━━━━━━━━━━━━━━━━━━━━━━━━━━━\u001b[0m \u001b[32m2.6/2.6 MB\u001b[0m \u001b[31m61.7 MB/s\u001b[0m eta \u001b[36m0:00:00\u001b[0m\n",
            "\u001b[?25hRequirement already satisfied: google-api-core[grpc]!=2.0.*,!=2.1.*,!=2.2.*,!=2.3.*,!=2.4.*,!=2.5.*,!=2.6.*,!=2.7.*,<3.0.0dev,>=1.32.0 in /usr/local/lib/python3.10/dist-packages (from google-cloud-aiplatform==1.25.0) (2.11.1)\n",
            "Requirement already satisfied: proto-plus<2.0.0dev,>=1.22.0 in /usr/local/lib/python3.10/dist-packages (from google-cloud-aiplatform==1.25.0) (1.22.3)\n",
            "Requirement already satisfied: protobuf!=3.20.0,!=3.20.1,!=4.21.0,!=4.21.1,!=4.21.2,!=4.21.3,!=4.21.4,!=4.21.5,<5.0.0dev,>=3.19.5 in /usr/local/lib/python3.10/dist-packages (from google-cloud-aiplatform==1.25.0) (3.20.3)\n",
            "Requirement already satisfied: packaging>=14.3 in /usr/local/lib/python3.10/dist-packages (from google-cloud-aiplatform==1.25.0) (23.2)\n",
            "Requirement already satisfied: google-cloud-storage<3.0.0dev,>=1.32.0 in /usr/local/lib/python3.10/dist-packages (from google-cloud-aiplatform==1.25.0) (2.8.0)\n",
            "Requirement already satisfied: google-cloud-bigquery<4.0.0dev,>=1.15.0 in /usr/local/lib/python3.10/dist-packages (from google-cloud-aiplatform==1.25.0) (3.12.0)\n",
            "Requirement already satisfied: google-cloud-resource-manager<3.0.0dev,>=1.3.3 in /usr/local/lib/python3.10/dist-packages (from google-cloud-aiplatform==1.25.0) (1.10.4)\n",
            "Collecting shapely<2.0.0 (from google-cloud-aiplatform==1.25.0)\n",
            "  Downloading Shapely-1.8.5.post1-cp310-cp310-manylinux_2_12_x86_64.manylinux2010_x86_64.whl (2.0 MB)\n",
            "\u001b[2K     \u001b[90m━━━━━━━━━━━━━━━━━━━━━━━━━━━━━━━━━━━━━━━━\u001b[0m \u001b[32m2.0/2.0 MB\u001b[0m \u001b[31m88.3 MB/s\u001b[0m eta \u001b[36m0:00:00\u001b[0m\n",
            "\u001b[?25hRequirement already satisfied: async-timeout>=4.0.2 in /usr/local/lib/python3.10/dist-packages (from redis) (4.0.3)\n",
            "Requirement already satisfied: googleapis-common-protos<2.0.dev0,>=1.56.2 in /usr/local/lib/python3.10/dist-packages (from google-api-core[grpc]!=2.0.*,!=2.1.*,!=2.2.*,!=2.3.*,!=2.4.*,!=2.5.*,!=2.6.*,!=2.7.*,<3.0.0dev,>=1.32.0->google-cloud-aiplatform==1.25.0) (1.61.0)\n",
            "Requirement already satisfied: google-auth<3.0.dev0,>=2.14.1 in /usr/local/lib/python3.10/dist-packages (from google-api-core[grpc]!=2.0.*,!=2.1.*,!=2.2.*,!=2.3.*,!=2.4.*,!=2.5.*,!=2.6.*,!=2.7.*,<3.0.0dev,>=1.32.0->google-cloud-aiplatform==1.25.0) (2.17.3)\n",
            "Requirement already satisfied: requests<3.0.0.dev0,>=2.18.0 in /usr/local/lib/python3.10/dist-packages (from google-api-core[grpc]!=2.0.*,!=2.1.*,!=2.2.*,!=2.3.*,!=2.4.*,!=2.5.*,!=2.6.*,!=2.7.*,<3.0.0dev,>=1.32.0->google-cloud-aiplatform==1.25.0) (2.31.0)\n",
            "Requirement already satisfied: grpcio<2.0dev,>=1.33.2 in /usr/local/lib/python3.10/dist-packages (from google-api-core[grpc]!=2.0.*,!=2.1.*,!=2.2.*,!=2.3.*,!=2.4.*,!=2.5.*,!=2.6.*,!=2.7.*,<3.0.0dev,>=1.32.0->google-cloud-aiplatform==1.25.0) (1.59.2)\n",
            "Requirement already satisfied: grpcio-status<2.0.dev0,>=1.33.2 in /usr/local/lib/python3.10/dist-packages (from google-api-core[grpc]!=2.0.*,!=2.1.*,!=2.2.*,!=2.3.*,!=2.4.*,!=2.5.*,!=2.6.*,!=2.7.*,<3.0.0dev,>=1.32.0->google-cloud-aiplatform==1.25.0) (1.48.2)\n",
            "Requirement already satisfied: google-cloud-core<3.0.0dev,>=1.6.0 in /usr/local/lib/python3.10/dist-packages (from google-cloud-bigquery<4.0.0dev,>=1.15.0->google-cloud-aiplatform==1.25.0) (2.3.3)\n",
            "Requirement already satisfied: google-resumable-media<3.0dev,>=0.6.0 in /usr/local/lib/python3.10/dist-packages (from google-cloud-bigquery<4.0.0dev,>=1.15.0->google-cloud-aiplatform==1.25.0) (2.6.0)\n",
            "Requirement already satisfied: python-dateutil<3.0dev,>=2.7.2 in /usr/local/lib/python3.10/dist-packages (from google-cloud-bigquery<4.0.0dev,>=1.15.0->google-cloud-aiplatform==1.25.0) (2.8.2)\n",
            "Requirement already satisfied: grpc-google-iam-v1<1.0.0dev,>=0.12.4 in /usr/local/lib/python3.10/dist-packages (from google-cloud-resource-manager<3.0.0dev,>=1.3.3->google-cloud-aiplatform==1.25.0) (0.12.7)\n",
            "Requirement already satisfied: cachetools<6.0,>=2.0.0 in /usr/local/lib/python3.10/dist-packages (from google-auth<3.0.dev0,>=2.14.1->google-api-core[grpc]!=2.0.*,!=2.1.*,!=2.2.*,!=2.3.*,!=2.4.*,!=2.5.*,!=2.6.*,!=2.7.*,<3.0.0dev,>=1.32.0->google-cloud-aiplatform==1.25.0) (5.3.2)\n",
            "Requirement already satisfied: pyasn1-modules>=0.2.1 in /usr/local/lib/python3.10/dist-packages (from google-auth<3.0.dev0,>=2.14.1->google-api-core[grpc]!=2.0.*,!=2.1.*,!=2.2.*,!=2.3.*,!=2.4.*,!=2.5.*,!=2.6.*,!=2.7.*,<3.0.0dev,>=1.32.0->google-cloud-aiplatform==1.25.0) (0.3.0)\n",
            "Requirement already satisfied: six>=1.9.0 in /usr/local/lib/python3.10/dist-packages (from google-auth<3.0.dev0,>=2.14.1->google-api-core[grpc]!=2.0.*,!=2.1.*,!=2.2.*,!=2.3.*,!=2.4.*,!=2.5.*,!=2.6.*,!=2.7.*,<3.0.0dev,>=1.32.0->google-cloud-aiplatform==1.25.0) (1.16.0)\n",
            "Requirement already satisfied: rsa<5,>=3.1.4 in /usr/local/lib/python3.10/dist-packages (from google-auth<3.0.dev0,>=2.14.1->google-api-core[grpc]!=2.0.*,!=2.1.*,!=2.2.*,!=2.3.*,!=2.4.*,!=2.5.*,!=2.6.*,!=2.7.*,<3.0.0dev,>=1.32.0->google-cloud-aiplatform==1.25.0) (4.9)\n",
            "Requirement already satisfied: google-crc32c<2.0dev,>=1.0 in /usr/local/lib/python3.10/dist-packages (from google-resumable-media<3.0dev,>=0.6.0->google-cloud-bigquery<4.0.0dev,>=1.15.0->google-cloud-aiplatform==1.25.0) (1.5.0)\n",
            "Requirement already satisfied: charset-normalizer<4,>=2 in /usr/local/lib/python3.10/dist-packages (from requests<3.0.0.dev0,>=2.18.0->google-api-core[grpc]!=2.0.*,!=2.1.*,!=2.2.*,!=2.3.*,!=2.4.*,!=2.5.*,!=2.6.*,!=2.7.*,<3.0.0dev,>=1.32.0->google-cloud-aiplatform==1.25.0) (3.3.2)\n",
            "Requirement already satisfied: idna<4,>=2.5 in /usr/local/lib/python3.10/dist-packages (from requests<3.0.0.dev0,>=2.18.0->google-api-core[grpc]!=2.0.*,!=2.1.*,!=2.2.*,!=2.3.*,!=2.4.*,!=2.5.*,!=2.6.*,!=2.7.*,<3.0.0dev,>=1.32.0->google-cloud-aiplatform==1.25.0) (3.4)\n",
            "Requirement already satisfied: urllib3<3,>=1.21.1 in /usr/local/lib/python3.10/dist-packages (from requests<3.0.0.dev0,>=2.18.0->google-api-core[grpc]!=2.0.*,!=2.1.*,!=2.2.*,!=2.3.*,!=2.4.*,!=2.5.*,!=2.6.*,!=2.7.*,<3.0.0dev,>=1.32.0->google-cloud-aiplatform==1.25.0) (2.0.7)\n",
            "Requirement already satisfied: certifi>=2017.4.17 in /usr/local/lib/python3.10/dist-packages (from requests<3.0.0.dev0,>=2.18.0->google-api-core[grpc]!=2.0.*,!=2.1.*,!=2.2.*,!=2.3.*,!=2.4.*,!=2.5.*,!=2.6.*,!=2.7.*,<3.0.0dev,>=1.32.0->google-cloud-aiplatform==1.25.0) (2023.7.22)\n",
            "Requirement already satisfied: pyasn1<0.6.0,>=0.4.6 in /usr/local/lib/python3.10/dist-packages (from pyasn1-modules>=0.2.1->google-auth<3.0.dev0,>=2.14.1->google-api-core[grpc]!=2.0.*,!=2.1.*,!=2.2.*,!=2.3.*,!=2.4.*,!=2.5.*,!=2.6.*,!=2.7.*,<3.0.0dev,>=1.32.0->google-cloud-aiplatform==1.25.0) (0.5.0)\n",
            "Installing collected packages: shapely, redis, google-cloud-aiplatform\n",
            "\u001b[33m  WARNING: The script tb-gcp-uploader is installed in '/root/.local/bin' which is not on PATH.\n",
            "  Consider adding this directory to PATH or, if you prefer to suppress this warning, use --no-warn-script-location.\u001b[0m\u001b[33m\n",
            "\u001b[0m\u001b[31mERROR: pip's dependency resolver does not currently take into account all the packages that are installed. This behaviour is the source of the following dependency conflicts.\n",
            "lida 0.0.10 requires fastapi, which is not installed.\n",
            "lida 0.0.10 requires kaleido, which is not installed.\n",
            "lida 0.0.10 requires python-multipart, which is not installed.\n",
            "lida 0.0.10 requires uvicorn, which is not installed.\u001b[0m\u001b[31m\n",
            "\u001b[0mSuccessfully installed google-cloud-aiplatform-1.25.0 redis-5.0.1 shapely-1.8.5.post1\n"
          ]
        },
        {
          "output_type": "display_data",
          "data": {
            "application/vnd.colab-display-data+json": {
              "pip_warning": {
                "packages": [
                  "google",
                  "shapely"
                ]
              }
            }
          },
          "metadata": {}
        }
      ],
      "source": [
        "!pip install redis \"google-cloud-aiplatform==1.25.0\" --upgrade --user"
      ]
    },
    {
      "cell_type": "markdown",
      "metadata": {
        "id": "zvDp8WNz4XpU"
      },
      "source": [
        "### Connect to Redis server\n",
        "Replace the connection params below with your own if you are connecting to an external Redis instance."
      ]
    },
    {
      "cell_type": "code",
      "execution_count": 1,
      "metadata": {
        "colab": {
          "base_uri": "https://localhost:8080/"
        },
        "id": "duCyNgfZ4XpU",
        "outputId": "42e0d6cd-77a0-4d7c-fdb6-e8b6aee8a8eb"
      },
      "outputs": [
        {
          "output_type": "execute_result",
          "data": {
            "text/plain": [
              "True"
            ]
          },
          "metadata": {},
          "execution_count": 1
        }
      ],
      "source": [
        "import os\n",
        "import redis\n",
        "\n",
        "# Redis connection params\n",
        "REDIS_HOST = os.getenv(\"REDIS_HOST\", \"redis-15850.c1.asia-northeast1-1.gce.cloud.redislabs.com\")\n",
        "REDIS_PORT = os.getenv(\"REDIS_PORT\", \"15850\")\n",
        "REDIS_PASSWORD = os.getenv(\"REDIS_PASSWORD\", \"admin\")\n",
        "\n",
        "# Create Redis client\n",
        "redis_client = redis.Redis(\n",
        "  host=REDIS_HOST,\n",
        "  port=REDIS_PORT,\n",
        "  password=REDIS_PASSWORD\n",
        ")\n",
        "\n",
        "# Test connection\n",
        "redis_client.ping()"
      ]
    },
    {
      "cell_type": "code",
      "execution_count": 21,
      "metadata": {
        "colab": {
          "base_uri": "https://localhost:8080/"
        },
        "id": "0Rrz76w96dF3",
        "outputId": "b11e76d0-18f6-41d4-d795-ac59b65842ea"
      },
      "outputs": [
        {
          "output_type": "execute_result",
          "data": {
            "text/plain": [
              "True"
            ]
          },
          "metadata": {},
          "execution_count": 21
        }
      ],
      "source": [
        "# Clear Redis database (optional)\n",
        "redis_client.flushdb()"
      ]
    },
    {
      "cell_type": "markdown",
      "metadata": {
        "id": "BpjxW-kou-FY"
      },
      "source": [
        "### Authenticate to Google Cloud"
      ]
    },
    {
      "cell_type": "code",
      "execution_count": 3,
      "metadata": {
        "colab": {
          "base_uri": "https://localhost:8080/"
        },
        "id": "SeTJb51SKs_W",
        "outputId": "07c1aea6-6412-4d51-ae44-6dbac05f1b43"
      },
      "outputs": [
        {
          "output_type": "stream",
          "name": "stdout",
          "text": [
            "Authenticated\n"
          ]
        }
      ],
      "source": [
        "from google.colab import auth\n",
        "auth.authenticate_user()\n",
        "print('Authenticated')"
      ]
    },
    {
      "cell_type": "code",
      "execution_count": 6,
      "metadata": {
        "colab": {
          "base_uri": "https://localhost:8080/"
        },
        "id": "8Yil6twAvIuH",
        "outputId": "d39e12cf-3875-48d2-9548-c8b50d08e9f9"
      },
      "outputs": [
        {
          "name": "stdout",
          "output_type": "stream",
          "text": [
            "PROJECT_ID:··········\n",
            "REGION:asia-northeast1\n"
          ]
        }
      ],
      "source": [
        "from getpass import getpass\n",
        "\n",
        "# input your GCP project ID and region for Vertex AI\n",
        "PROJECT_ID = getpass(\"PROJECT_ID:\") #'central-beach-194106'\n",
        "REGION = input(\"REGION:\") #'asia-northeast1'"
      ]
    },
    {
      "cell_type": "markdown",
      "metadata": {
        "id": "FoH2gpfOq0WU"
      },
      "source": [
        "### Initialize Vertex AI Components\n",
        "\n"
      ]
    },
    {
      "cell_type": "code",
      "execution_count": 7,
      "metadata": {
        "id": "_LibO7HEsGmQ",
        "colab": {
          "base_uri": "https://localhost:8080/"
        },
        "outputId": "f374240c-7124-4002-952b-59bcd28b2dcc"
      },
      "outputs": [
        {
          "output_type": "stream",
          "name": "stdout",
          "text": [
            "asia-northeast1\n"
          ]
        }
      ],
      "source": [
        "import vertexai\n",
        "print(REGION)\n",
        "vertexai.init(project=PROJECT_ID, location=REGION)"
      ]
    },
    {
      "cell_type": "markdown",
      "source": [
        "### Initialise BigQuery client"
      ],
      "metadata": {
        "id": "zxgnlEVVCuoS"
      }
    },
    {
      "cell_type": "code",
      "source": [
        "from google.cloud import bigquery\n",
        "\n",
        "# Create bigquery client\n",
        "bq = bigquery.Client(project=PROJECT_ID, location=REGION)\n"
      ],
      "metadata": {
        "id": "traY3HQUCTa6"
      },
      "execution_count": 8,
      "outputs": []
    },
    {
      "cell_type": "markdown",
      "metadata": {
        "id": "yUpCrznsnh4f"
      },
      "source": [
        "### Populate source dataset in BigQuery\n",
        "\n",
        "The hackernews dataset contains records of hacker news posts including the **title**, **text**, **time**, **id** and **timestamp**. Let's pull a few sample rows and inspect.\n",
        "We will use `hackernews` table present under `abhi_hackernews_dataset`.\n",
        "\n",
        "The record present in this table has been populated from publicly available dataset `bigquery-public-data.hacker_news` using query:\n",
        "\n",
        "`SELECT title, text, time, timestamp, id FROM bigquery-public-data.hacker_news.full WHERE type ='story' LIMIT 2000`"
      ]
    },
    {
      "cell_type": "code",
      "execution_count": 19,
      "metadata": {
        "colab": {
          "base_uri": "https://localhost:8080/",
          "height": 206
        },
        "id": "9C3uLMlBT_c4",
        "outputId": "2f0a8aa7-b004-4568-d013-92825c83aec9"
      },
      "outputs": [
        {
          "output_type": "execute_result",
          "data": {
            "text/plain": [
              "         id                 timestamp        time  \\\n",
              "0  25922721 2021-01-27 00:26:34+00:00  1611707194   \n",
              "1  22692739 2020-03-26 12:13:30+00:00  1585224810   \n",
              "2  13930560 2017-03-22 13:06:44+00:00  1490188004   \n",
              "3  21210935 2019-10-10 04:38:16+00:00  1570682296   \n",
              "4  33383542 2022-10-29 12:41:31+00:00  1667047291   \n",
              "\n",
              "                                                text   title  \n",
              "0                                       ZiKoNWuK6Bu0       D  \n",
              "1                                  asddddddddddddddd     Ads  \n",
              "2  Is there any one who can  help me better under...    Help  \n",
              "3                                         Como Estas    Hola  \n",
              "4  I am New to HN. What is that 1 advice you woul...  Advice  "
            ],
            "text/html": [
              "\n",
              "  <div id=\"df-7a2a5d24-f72c-4a9c-beca-a799905a21ae\" class=\"colab-df-container\">\n",
              "    <div>\n",
              "<style scoped>\n",
              "    .dataframe tbody tr th:only-of-type {\n",
              "        vertical-align: middle;\n",
              "    }\n",
              "\n",
              "    .dataframe tbody tr th {\n",
              "        vertical-align: top;\n",
              "    }\n",
              "\n",
              "    .dataframe thead th {\n",
              "        text-align: right;\n",
              "    }\n",
              "</style>\n",
              "<table border=\"1\" class=\"dataframe\">\n",
              "  <thead>\n",
              "    <tr style=\"text-align: right;\">\n",
              "      <th></th>\n",
              "      <th>id</th>\n",
              "      <th>timestamp</th>\n",
              "      <th>time</th>\n",
              "      <th>text</th>\n",
              "      <th>title</th>\n",
              "    </tr>\n",
              "  </thead>\n",
              "  <tbody>\n",
              "    <tr>\n",
              "      <th>0</th>\n",
              "      <td>25922721</td>\n",
              "      <td>2021-01-27 00:26:34+00:00</td>\n",
              "      <td>1611707194</td>\n",
              "      <td>ZiKoNWuK6Bu0</td>\n",
              "      <td>D</td>\n",
              "    </tr>\n",
              "    <tr>\n",
              "      <th>1</th>\n",
              "      <td>22692739</td>\n",
              "      <td>2020-03-26 12:13:30+00:00</td>\n",
              "      <td>1585224810</td>\n",
              "      <td>asddddddddddddddd</td>\n",
              "      <td>Ads</td>\n",
              "    </tr>\n",
              "    <tr>\n",
              "      <th>2</th>\n",
              "      <td>13930560</td>\n",
              "      <td>2017-03-22 13:06:44+00:00</td>\n",
              "      <td>1490188004</td>\n",
              "      <td>Is there any one who can  help me better under...</td>\n",
              "      <td>Help</td>\n",
              "    </tr>\n",
              "    <tr>\n",
              "      <th>3</th>\n",
              "      <td>21210935</td>\n",
              "      <td>2019-10-10 04:38:16+00:00</td>\n",
              "      <td>1570682296</td>\n",
              "      <td>Como Estas</td>\n",
              "      <td>Hola</td>\n",
              "    </tr>\n",
              "    <tr>\n",
              "      <th>4</th>\n",
              "      <td>33383542</td>\n",
              "      <td>2022-10-29 12:41:31+00:00</td>\n",
              "      <td>1667047291</td>\n",
              "      <td>I am New to HN. What is that 1 advice you woul...</td>\n",
              "      <td>Advice</td>\n",
              "    </tr>\n",
              "  </tbody>\n",
              "</table>\n",
              "</div>\n",
              "    <div class=\"colab-df-buttons\">\n",
              "\n",
              "  <div class=\"colab-df-container\">\n",
              "    <button class=\"colab-df-convert\" onclick=\"convertToInteractive('df-7a2a5d24-f72c-4a9c-beca-a799905a21ae')\"\n",
              "            title=\"Convert this dataframe to an interactive table.\"\n",
              "            style=\"display:none;\">\n",
              "\n",
              "  <svg xmlns=\"http://www.w3.org/2000/svg\" height=\"24px\" viewBox=\"0 -960 960 960\">\n",
              "    <path d=\"M120-120v-720h720v720H120Zm60-500h600v-160H180v160Zm220 220h160v-160H400v160Zm0 220h160v-160H400v160ZM180-400h160v-160H180v160Zm440 0h160v-160H620v160ZM180-180h160v-160H180v160Zm440 0h160v-160H620v160Z\"/>\n",
              "  </svg>\n",
              "    </button>\n",
              "\n",
              "  <style>\n",
              "    .colab-df-container {\n",
              "      display:flex;\n",
              "      gap: 12px;\n",
              "    }\n",
              "\n",
              "    .colab-df-convert {\n",
              "      background-color: #E8F0FE;\n",
              "      border: none;\n",
              "      border-radius: 50%;\n",
              "      cursor: pointer;\n",
              "      display: none;\n",
              "      fill: #1967D2;\n",
              "      height: 32px;\n",
              "      padding: 0 0 0 0;\n",
              "      width: 32px;\n",
              "    }\n",
              "\n",
              "    .colab-df-convert:hover {\n",
              "      background-color: #E2EBFA;\n",
              "      box-shadow: 0px 1px 2px rgba(60, 64, 67, 0.3), 0px 1px 3px 1px rgba(60, 64, 67, 0.15);\n",
              "      fill: #174EA6;\n",
              "    }\n",
              "\n",
              "    .colab-df-buttons div {\n",
              "      margin-bottom: 4px;\n",
              "    }\n",
              "\n",
              "    [theme=dark] .colab-df-convert {\n",
              "      background-color: #3B4455;\n",
              "      fill: #D2E3FC;\n",
              "    }\n",
              "\n",
              "    [theme=dark] .colab-df-convert:hover {\n",
              "      background-color: #434B5C;\n",
              "      box-shadow: 0px 1px 3px 1px rgba(0, 0, 0, 0.15);\n",
              "      filter: drop-shadow(0px 1px 2px rgba(0, 0, 0, 0.3));\n",
              "      fill: #FFFFFF;\n",
              "    }\n",
              "  </style>\n",
              "\n",
              "    <script>\n",
              "      const buttonEl =\n",
              "        document.querySelector('#df-7a2a5d24-f72c-4a9c-beca-a799905a21ae button.colab-df-convert');\n",
              "      buttonEl.style.display =\n",
              "        google.colab.kernel.accessAllowed ? 'block' : 'none';\n",
              "\n",
              "      async function convertToInteractive(key) {\n",
              "        const element = document.querySelector('#df-7a2a5d24-f72c-4a9c-beca-a799905a21ae');\n",
              "        const dataTable =\n",
              "          await google.colab.kernel.invokeFunction('convertToInteractive',\n",
              "                                                    [key], {});\n",
              "        if (!dataTable) return;\n",
              "\n",
              "        const docLinkHtml = 'Like what you see? Visit the ' +\n",
              "          '<a target=\"_blank\" href=https://colab.research.google.com/notebooks/data_table.ipynb>data table notebook</a>'\n",
              "          + ' to learn more about interactive tables.';\n",
              "        element.innerHTML = '';\n",
              "        dataTable['output_type'] = 'display_data';\n",
              "        await google.colab.output.renderOutput(dataTable, element);\n",
              "        const docLink = document.createElement('div');\n",
              "        docLink.innerHTML = docLinkHtml;\n",
              "        element.appendChild(docLink);\n",
              "      }\n",
              "    </script>\n",
              "  </div>\n",
              "\n",
              "\n",
              "<div id=\"df-5fea16f5-8752-4c4d-aa42-329bd38adc33\">\n",
              "  <button class=\"colab-df-quickchart\" onclick=\"quickchart('df-5fea16f5-8752-4c4d-aa42-329bd38adc33')\"\n",
              "            title=\"Suggest charts\"\n",
              "            style=\"display:none;\">\n",
              "\n",
              "<svg xmlns=\"http://www.w3.org/2000/svg\" height=\"24px\"viewBox=\"0 0 24 24\"\n",
              "     width=\"24px\">\n",
              "    <g>\n",
              "        <path d=\"M19 3H5c-1.1 0-2 .9-2 2v14c0 1.1.9 2 2 2h14c1.1 0 2-.9 2-2V5c0-1.1-.9-2-2-2zM9 17H7v-7h2v7zm4 0h-2V7h2v10zm4 0h-2v-4h2v4z\"/>\n",
              "    </g>\n",
              "</svg>\n",
              "  </button>\n",
              "\n",
              "<style>\n",
              "  .colab-df-quickchart {\n",
              "      --bg-color: #E8F0FE;\n",
              "      --fill-color: #1967D2;\n",
              "      --hover-bg-color: #E2EBFA;\n",
              "      --hover-fill-color: #174EA6;\n",
              "      --disabled-fill-color: #AAA;\n",
              "      --disabled-bg-color: #DDD;\n",
              "  }\n",
              "\n",
              "  [theme=dark] .colab-df-quickchart {\n",
              "      --bg-color: #3B4455;\n",
              "      --fill-color: #D2E3FC;\n",
              "      --hover-bg-color: #434B5C;\n",
              "      --hover-fill-color: #FFFFFF;\n",
              "      --disabled-bg-color: #3B4455;\n",
              "      --disabled-fill-color: #666;\n",
              "  }\n",
              "\n",
              "  .colab-df-quickchart {\n",
              "    background-color: var(--bg-color);\n",
              "    border: none;\n",
              "    border-radius: 50%;\n",
              "    cursor: pointer;\n",
              "    display: none;\n",
              "    fill: var(--fill-color);\n",
              "    height: 32px;\n",
              "    padding: 0;\n",
              "    width: 32px;\n",
              "  }\n",
              "\n",
              "  .colab-df-quickchart:hover {\n",
              "    background-color: var(--hover-bg-color);\n",
              "    box-shadow: 0 1px 2px rgba(60, 64, 67, 0.3), 0 1px 3px 1px rgba(60, 64, 67, 0.15);\n",
              "    fill: var(--button-hover-fill-color);\n",
              "  }\n",
              "\n",
              "  .colab-df-quickchart-complete:disabled,\n",
              "  .colab-df-quickchart-complete:disabled:hover {\n",
              "    background-color: var(--disabled-bg-color);\n",
              "    fill: var(--disabled-fill-color);\n",
              "    box-shadow: none;\n",
              "  }\n",
              "\n",
              "  .colab-df-spinner {\n",
              "    border: 2px solid var(--fill-color);\n",
              "    border-color: transparent;\n",
              "    border-bottom-color: var(--fill-color);\n",
              "    animation:\n",
              "      spin 1s steps(1) infinite;\n",
              "  }\n",
              "\n",
              "  @keyframes spin {\n",
              "    0% {\n",
              "      border-color: transparent;\n",
              "      border-bottom-color: var(--fill-color);\n",
              "      border-left-color: var(--fill-color);\n",
              "    }\n",
              "    20% {\n",
              "      border-color: transparent;\n",
              "      border-left-color: var(--fill-color);\n",
              "      border-top-color: var(--fill-color);\n",
              "    }\n",
              "    30% {\n",
              "      border-color: transparent;\n",
              "      border-left-color: var(--fill-color);\n",
              "      border-top-color: var(--fill-color);\n",
              "      border-right-color: var(--fill-color);\n",
              "    }\n",
              "    40% {\n",
              "      border-color: transparent;\n",
              "      border-right-color: var(--fill-color);\n",
              "      border-top-color: var(--fill-color);\n",
              "    }\n",
              "    60% {\n",
              "      border-color: transparent;\n",
              "      border-right-color: var(--fill-color);\n",
              "    }\n",
              "    80% {\n",
              "      border-color: transparent;\n",
              "      border-right-color: var(--fill-color);\n",
              "      border-bottom-color: var(--fill-color);\n",
              "    }\n",
              "    90% {\n",
              "      border-color: transparent;\n",
              "      border-bottom-color: var(--fill-color);\n",
              "    }\n",
              "  }\n",
              "</style>\n",
              "\n",
              "  <script>\n",
              "    async function quickchart(key) {\n",
              "      const quickchartButtonEl =\n",
              "        document.querySelector('#' + key + ' button');\n",
              "      quickchartButtonEl.disabled = true;  // To prevent multiple clicks.\n",
              "      quickchartButtonEl.classList.add('colab-df-spinner');\n",
              "      try {\n",
              "        const charts = await google.colab.kernel.invokeFunction(\n",
              "            'suggestCharts', [key], {});\n",
              "      } catch (error) {\n",
              "        console.error('Error during call to suggestCharts:', error);\n",
              "      }\n",
              "      quickchartButtonEl.classList.remove('colab-df-spinner');\n",
              "      quickchartButtonEl.classList.add('colab-df-quickchart-complete');\n",
              "    }\n",
              "    (() => {\n",
              "      let quickchartButtonEl =\n",
              "        document.querySelector('#df-5fea16f5-8752-4c4d-aa42-329bd38adc33 button');\n",
              "      quickchartButtonEl.style.display =\n",
              "        google.colab.kernel.accessAllowed ? 'block' : 'none';\n",
              "    })();\n",
              "  </script>\n",
              "</div>\n",
              "    </div>\n",
              "  </div>\n"
            ]
          },
          "metadata": {},
          "execution_count": 19
        }
      ],
      "source": [
        "# Query 5 sample records from BQ\n",
        "query_job = bq.query(f'''\n",
        "SELECT *\n",
        "FROM `central-beach-194106.abhi_hackernews_dataset.hackernews`\n",
        "LIMIT 5\n",
        "''')\n",
        "\n",
        "query_job.result().to_dataframe()"
      ]
    },
    {
      "cell_type": "markdown",
      "metadata": {
        "id": "9vDGqjHmVgjB"
      },
      "source": [
        "## 3. Generate Embeddings"
      ]
    },
    {
      "cell_type": "markdown",
      "metadata": {
        "id": "0Kh0ObD4xZtK"
      },
      "source": [
        "### Create text embeddings with Vertex AI embedding model\n",
        "Use the [Vertex AI API for text embeddings](https://cloud.google.com/vertex-ai/docs/generative-ai/embeddings/get-text-embeddings), developed by Google.\n",
        "\n",
        "> Text embeddings are a dense vector representation of a piece of content such that, if two pieces of content are semantically similar, their respective embeddings are located near each other in the embedding vector space. This representation can be used to solve common NLP tasks, such as:\n",
        "> - **Semantic search**: Search text ranked by semantic similarity.\n",
        "> - **Recommendation**: Return items with text attributes similar to the given text.\n",
        "> - **Classification**: Return the class of items whose text attributes are similar to the given text.\n",
        "> - **Clustering**: Cluster items whose text attributes are similar to the given text.\n",
        "> - **Outlier Detection**: Return items where text attributes are least related to the given text.\n",
        "\n",
        "The `textembedding-gecko` model accepts a maximum of 3,072 input tokens (i.e. words) and outputs 768-dimensional vector embeddings."
      ]
    },
    {
      "cell_type": "markdown",
      "metadata": {
        "id": "x3o_9ehYuEpA"
      },
      "source": [
        "### Define embedding helper function\n",
        "We define a helper function, `embedding_model_with_backoff`, to create embeddings from a list of texts while making it resilient to [Vertex AI API quotas](https://cloud.google.com/vertex-ai/docs/quotas) via [exponential backoff](https://en.wikipedia.org/wiki/Exponential_backoff).\n",
        "\n",
        "We also define a method to convert an array of floats to a byte string for efficient storage in Redis (later on).\n",
        "\n"
      ]
    },
    {
      "cell_type": "code",
      "execution_count": 10,
      "metadata": {
        "id": "zrpKY4W5yb0M"
      },
      "outputs": [],
      "source": [
        "from typing import Generator, List, Any\n",
        "\n",
        "from tenacity import retry, stop_after_attempt, wait_random_exponential\n",
        "from vertexai.preview.language_models import TextEmbeddingModel\n",
        "\n",
        "# Embedding model definition from VertexAI PaLM API\n",
        "embedding_model = TextEmbeddingModel.from_pretrained(\"textembedding-gecko@001\")\n",
        "VECTOR_DIMENSIONS = 768\n",
        "\n",
        "@retry(wait=wait_random_exponential(min=1, max=20), stop=stop_after_attempt(3))\n",
        "def embed_text(text=[]):\n",
        "    embeddings = embedding_model.get_embeddings(text)\n",
        "    return [each.values for each in embeddings]\n",
        "\n",
        "# Convert embeddings to bytes for Redis storage\n",
        "def convert_embedding(emb: List[float]):\n",
        "  return np.array(emb).astype(np.float32).tobytes()"
      ]
    },
    {
      "cell_type": "markdown",
      "metadata": {
        "id": "peFHIY351eDc"
      },
      "source": [
        "### Embed text data\n",
        "At the moment, our table in BigQuery (created above), contains records of the hacker news posts that we wish to embed and make available for LLMs.\n",
        "\n",
        "In order to conserve RAM usage of this machine, we will iterate over batches of posts from BigQuery, create embeddings, and write them to Redis, which is being used as a [vector database](https://redis.com/solutions/use-cases/vector-database)."
      ]
    },
    {
      "cell_type": "code",
      "execution_count": 11,
      "metadata": {
        "id": "tzkRiknVXOtc"
      },
      "outputs": [],
      "source": [
        "import pandas as pd\n",
        "import numpy as np\n",
        "\n",
        "QUERY_TEMPLATE = f\"\"\"\n",
        "SELECT id, title, text\n",
        "FROM `central-beach-194106.abhi_hackernews_dataset.hackernews`\n",
        "LIMIT {{limit}} OFFSET {{offset}};\n",
        "\"\"\"\n",
        "\n",
        "def query_bigquery_batches(\n",
        "    max_rows: int,\n",
        "    rows_per_batch: int,\n",
        "    start_batch: int = 0\n",
        ") -> Generator[pd.DataFrame, Any, None]:\n",
        "    # Generate batches from a table in big query\n",
        "    for offset in range(start_batch, max_rows, rows_per_batch):\n",
        "        query = QUERY_TEMPLATE.format(limit=rows_per_batch, offset=offset)\n",
        "        query_job = bq.query(query)\n",
        "        rows = query_job.result()\n",
        "        df = rows.to_dataframe()\n",
        "        # Join title and text fields\n",
        "        df[\"content\"] = df.apply(lambda r: \"Title: \" + r.title + \". Content: \" + r.text, axis=1)\n",
        "        yield df\n"
      ]
    },
    {
      "cell_type": "markdown",
      "metadata": {
        "id": "N9jxcBjvNxOt"
      },
      "source": [
        "Below we define a few helper functions for processing a single row of data, writing batches to **Redis**, querying source data from **BigQuery**, and creating text embeddings with **Vertex AI**."
      ]
    },
    {
      "cell_type": "code",
      "execution_count": 20,
      "metadata": {
        "id": "OETsrYvfuzmX"
      },
      "outputs": [],
      "source": [
        "import math\n",
        "from tqdm.auto import tqdm\n",
        "\n",
        "\n",
        "# Redis key helper function\n",
        "def redis_key(key_prefix: str, id: str) -> str:\n",
        "  return f\"{key_prefix}:{id}\"\n",
        "\n",
        "# Process a single dataset record\n",
        "def process_record(record: dict) -> dict:\n",
        "  return {\n",
        "      'id': record['id'],\n",
        "      'embedding': record['embedding'],\n",
        "      'text': record['text'],\n",
        "      'title': record['title']\n",
        "  }\n",
        "\n",
        "# Load batch of data into Redis as HASH objects\n",
        "def load_redis_batch(\n",
        "    redis_client: redis.Redis,\n",
        "    dataset: list,\n",
        "    key_prefix: str = \"doc\",\n",
        "    id_column: str = \"id\",\n",
        "):\n",
        "    pipe = redis_client.pipeline()\n",
        "    for i, record in enumerate(tqdm(dataset)):\n",
        "        record = process_record(record)\n",
        "        key = redis_key(key_prefix, record[id_column])\n",
        "        pipe.hset(key, mapping=record)\n",
        "    pipe.execute()\n",
        "\n",
        "# Run the entire process\n",
        "def create_embeddings_bigquery_redis(redis_client):\n",
        "    # Create generator from BigQuery\n",
        "    max_rows = 1000\n",
        "    rows_per_batch = 100\n",
        "    bq_content_query = query_bigquery_batches(max_rows, rows_per_batch)\n",
        "\n",
        "    for batch in tqdm(bq_content_query):\n",
        "      # Split batch into smaller chunks for embedding generation\n",
        "      batch_splits = np.array_split(batch, math.ceil(rows_per_batch/5))\n",
        "      # Create embeddings\n",
        "      batch[\"embedding\"] = [\n",
        "          convert_embedding(embedding)\n",
        "          for split in batch_splits\n",
        "          for embedding in embed_text(split.content)\n",
        "      ]\n",
        "      # Write batch to Redis\n",
        "      batch = batch.to_dict(\"records\")\n",
        "      load_redis_batch(redis_client, batch)\n"
      ]
    },
    {
      "cell_type": "markdown",
      "metadata": {
        "id": "ie02v3hfoApC"
      },
      "source": [
        "## 4. Load Embeddings\n",
        "Now that we have a function to generate BigQuery batches, create text embeddings, and write batches to Redis, we can run the single function to process our entire dataset:"
      ]
    },
    {
      "cell_type": "code",
      "execution_count": 22,
      "metadata": {
        "colab": {
          "base_uri": "https://localhost:8080/",
          "height": 369,
          "referenced_widgets": [
            "7f337cb8766e4012851ab060f64d59f3",
            "bffeae2565f54905a55466fee3bbe0f3",
            "cbe3f1e4e1e443b395cbaeb908178bfc",
            "ee21b38b5cdb48a58be5ee8ac7c5b6fe",
            "6ee2089cdb174b599ad1a225aaec4f8e",
            "8d3c85678c7b4777a39adfdf311303d4",
            "c32e8d4deaf44a93830c20d9bf783a08",
            "fca685685bcc45df9bc9928d2e5ad69e",
            "9cbc3858e35b4424acbd72e2e1cc5772",
            "11fe698f2d4e49149eacabfca39d94eb",
            "865890914c5f41a4a7fbb930a23eb084",
            "e86f33da48a44bccb05208cae3594ab5",
            "1d797dcde49047d2846e100ddaec54e7",
            "7f4ad3948df84cee8e08e9fac55f52d3",
            "d1192bfe059a4ed8bd32fd3a981afa07",
            "2665353ed42b49ed9361ea18e9bc2641",
            "24d9fd3bc23743598a47c92d2c3ca424",
            "fe446e378f6d431d84d0c5bd12c66a5b",
            "c9d1eda88be04ee5b03ca20321c880ec",
            "3218952988fb471bae69fdacf8304e34",
            "5e5d292f6e2a4495b1f8f8a62b0fc45f",
            "305816179aad45789e93980a3bf1c3ff",
            "1afed1bc3235405fa18646fc42aa0312",
            "77684d0f8a4e4bcfa40f3d9f01e7561d",
            "0dd5561bda694275b14cc2bccdfd3424",
            "67fdceec2cfb4402a2634cef35944893",
            "37dc897145fc46588404a169715b1767",
            "0baf847a474f40279ce59324a82a8598",
            "205d7428062f4b24950be8940e60581e",
            "3a6805055f3941c7a83be661f01c914c",
            "9caf1a811f544386af90829567f1e739",
            "acd23f4a9491423aaf44a45c25c72336",
            "706e779c87594356ad14673f8e27eadc",
            "2c27623e290e484cbdeca0e9521cfa90",
            "01cbcb4df38e4267a61bd8a03f6992d7",
            "bac7da271ee448f7afa5c38ff6e6264c",
            "880fe15b844644b9a8ed63eb92e75f98",
            "5547ac01e4224fc9a6c3750e511fd889",
            "c0adedaeca4c4d61bf2d5107d98eb6e6",
            "ece02cb9b29242c28eedc9ed3a30c8f4",
            "f4d1b4a98c06445ebc236fafca9b0fce",
            "836c8c57d071431c92f78d175ac84c7b",
            "8b4558c0b295493b9f4c2d6fd96ace4a",
            "cdf5b2974c4a47cc955771e66ced9779",
            "24cf9f1f4ac44defbf62a7de4dea8c13",
            "29507d85531945e9a83aa48eaed67786",
            "36d18c4b3aec40a29b18e00af627b5a8",
            "c1976066aa9e4ff2a6b8955f8728d2df",
            "1b51406e66b445e6949e840b1c692c2c",
            "6a1ed36d26994c69add252622dcf952a",
            "32379a1e72074905985c6ec26993adbf",
            "db847e784f4f41efb826084b2e390667",
            "ccfaee55d076492799e7ce9ad74b3daf",
            "fe21542172d042a8a993e4fc5d7cd0bf",
            "5d962394071c41299a0b093e5a2edfe7",
            "94dea4d6771847f087f3e846d438dc18",
            "000771e5a61141dc9df5ce3328e6f4e3",
            "493be9989fa84126b1fa711c393a44fb",
            "471955246eb44fc997b29ab10c400781",
            "b352e5c0f24341ba982b6024809c9d40",
            "d7641bcec13c4920be0f0638c44b9461",
            "c1d409e9ede741fdb4017d09b6e34a20",
            "5c8e901d13ce4227ae270603923dffc8",
            "714f9cbcbfc04d3a8fab850e16c94b82",
            "044d41a8df2d4d6fac881370f65e8ee4",
            "bc2b5ea078794711acb010b71d334dbe",
            "bb1df489fd16419b8c39891140c78785",
            "7c87cf65a5734be2bfbce70515f5f78b",
            "d1e92e7b07264563a1b6ef3bdb2d6ddf",
            "de5ea137d2fa4a19a2caa0b51a1f2c6c",
            "6263802c404942afac637893541f1478",
            "5b0d05e6f73949248a82320ea083b2c5",
            "5e7e4e45eb3d4d468b38b4191b7f3c9c",
            "338d1a7bcea74508a508db3a05042f66",
            "5d74e259174447a49549cb2bf977ce7d",
            "2c79ea906adb4c09a33e1be40ae75051",
            "be291d2c321c4e219bd5499afe8eb205",
            "a72e9a538ec14c2ca3a5ed350e98ad73",
            "bea3d49500fb472a8e53925a0d70ebd9",
            "e44302a74ed44b08ae939ed4ee4bdb27",
            "d6b4a302175c4187a0fbade1578121a4",
            "0aee4087279e4fbab7aed36c1916e61c",
            "3798eb0c392e4674829a809dcefec46d",
            "b375351bff474196a256ea1060a1ff41",
            "e8e95cef1f8e45b8be1a31f2e0fb2bc2",
            "e8d4b9dc348543d2b667418c0d3b7d4d",
            "2620f815a83347a3a195bf1d22d1300c",
            "0eccf688d02b477681bae8d4f0ac24f3",
            "be691fbce4224777a8be5a4cd80cc6c9",
            "d462991441c24fc19e0fd019685f2daf",
            "6e8392f2c5c747b1855dae6e24b02f4e",
            "baa5f135e91c487ebd8c60a04bd80db1",
            "9504ae5b2036433fab8484b6b817cf7b",
            "d1d9c36b802f42a7a927ae131f48f70d",
            "5b750103503a491ab0013312252cdf7c",
            "0a1b1e6fca4f4b5893e86d1a7ad03182",
            "9b245f8f958d49f6b6988a9e0f10c68a",
            "f2758d9621b14d028bfddd403da4e2a7",
            "1b268cf1d37d4ac58a9a941e0842ca55",
            "69f9661301594e85a600fcbeb88b5fd4",
            "242a34b86a764dacb7e1de3fc98714a1",
            "7b9aa76b892b4749876a7ae813a086af",
            "8361a1326521492cb6b9ab2a9f0d5a39",
            "33c08e4291844691b2084804b593a1c3",
            "977f16d0782b4c879f5ca59dc39a7654",
            "2724ca9b5bc14f2aba09fbe6528c0e23",
            "960cc17aecfa493c89621f7fe4226400",
            "47aa4e30210141c38f9c435d501dff13",
            "3f2779b3fc484cadb946dda039d89283",
            "85d1262f14034d9d921fd74b53b2c42e",
            "2411cfeb8b1643e5b8e51a3a08baeaca",
            "439cfb6438804ef1a7fb2e164568065a",
            "2799e33d1df1481d9453968d36fdaff6",
            "2a26cc0bf9c640e59ac1073e5f6e21c3",
            "68e75ac3d23c4b1f80f6f240e46a6773",
            "e2df7038391041f8b290fd4de3ce30fc",
            "a5cfaf714b8d41b5925201f730209bb0",
            "8d55cf1e425643d9818cb93ff1313075",
            "4f5b7c978b3d41f48e1374682a168ad0",
            "227297e5e0a24ddab095d044f091d884",
            "ae8b3aa805804678afff3c2e9f9d5716"
          ]
        },
        "id": "V9KdsiG_pd3U",
        "outputId": "857fe27b-a867-4cc5-f298-916377398eab"
      },
      "outputs": [
        {
          "output_type": "display_data",
          "data": {
            "text/plain": [
              "0it [00:00, ?it/s]"
            ],
            "application/vnd.jupyter.widget-view+json": {
              "version_major": 2,
              "version_minor": 0,
              "model_id": "7f337cb8766e4012851ab060f64d59f3"
            }
          },
          "metadata": {}
        },
        {
          "output_type": "display_data",
          "data": {
            "text/plain": [
              "  0%|          | 0/100 [00:00<?, ?it/s]"
            ],
            "application/vnd.jupyter.widget-view+json": {
              "version_major": 2,
              "version_minor": 0,
              "model_id": "e86f33da48a44bccb05208cae3594ab5"
            }
          },
          "metadata": {}
        },
        {
          "output_type": "display_data",
          "data": {
            "text/plain": [
              "  0%|          | 0/100 [00:00<?, ?it/s]"
            ],
            "application/vnd.jupyter.widget-view+json": {
              "version_major": 2,
              "version_minor": 0,
              "model_id": "1afed1bc3235405fa18646fc42aa0312"
            }
          },
          "metadata": {}
        },
        {
          "output_type": "display_data",
          "data": {
            "text/plain": [
              "  0%|          | 0/100 [00:00<?, ?it/s]"
            ],
            "application/vnd.jupyter.widget-view+json": {
              "version_major": 2,
              "version_minor": 0,
              "model_id": "2c27623e290e484cbdeca0e9521cfa90"
            }
          },
          "metadata": {}
        },
        {
          "output_type": "display_data",
          "data": {
            "text/plain": [
              "  0%|          | 0/100 [00:00<?, ?it/s]"
            ],
            "application/vnd.jupyter.widget-view+json": {
              "version_major": 2,
              "version_minor": 0,
              "model_id": "24cf9f1f4ac44defbf62a7de4dea8c13"
            }
          },
          "metadata": {}
        },
        {
          "output_type": "display_data",
          "data": {
            "text/plain": [
              "  0%|          | 0/100 [00:00<?, ?it/s]"
            ],
            "application/vnd.jupyter.widget-view+json": {
              "version_major": 2,
              "version_minor": 0,
              "model_id": "94dea4d6771847f087f3e846d438dc18"
            }
          },
          "metadata": {}
        },
        {
          "output_type": "display_data",
          "data": {
            "text/plain": [
              "  0%|          | 0/100 [00:00<?, ?it/s]"
            ],
            "application/vnd.jupyter.widget-view+json": {
              "version_major": 2,
              "version_minor": 0,
              "model_id": "bb1df489fd16419b8c39891140c78785"
            }
          },
          "metadata": {}
        },
        {
          "output_type": "display_data",
          "data": {
            "text/plain": [
              "  0%|          | 0/100 [00:00<?, ?it/s]"
            ],
            "application/vnd.jupyter.widget-view+json": {
              "version_major": 2,
              "version_minor": 0,
              "model_id": "a72e9a538ec14c2ca3a5ed350e98ad73"
            }
          },
          "metadata": {}
        },
        {
          "output_type": "display_data",
          "data": {
            "text/plain": [
              "  0%|          | 0/100 [00:00<?, ?it/s]"
            ],
            "application/vnd.jupyter.widget-view+json": {
              "version_major": 2,
              "version_minor": 0,
              "model_id": "be691fbce4224777a8be5a4cd80cc6c9"
            }
          },
          "metadata": {}
        },
        {
          "output_type": "display_data",
          "data": {
            "text/plain": [
              "  0%|          | 0/100 [00:00<?, ?it/s]"
            ],
            "application/vnd.jupyter.widget-view+json": {
              "version_major": 2,
              "version_minor": 0,
              "model_id": "69f9661301594e85a600fcbeb88b5fd4"
            }
          },
          "metadata": {}
        },
        {
          "output_type": "display_data",
          "data": {
            "text/plain": [
              "  0%|          | 0/100 [00:00<?, ?it/s]"
            ],
            "application/vnd.jupyter.widget-view+json": {
              "version_major": 2,
              "version_minor": 0,
              "model_id": "2411cfeb8b1643e5b8e51a3a08baeaca"
            }
          },
          "metadata": {}
        }
      ],
      "source": [
        "create_embeddings_bigquery_redis(redis_client)"
      ]
    },
    {
      "cell_type": "code",
      "execution_count": 23,
      "metadata": {
        "colab": {
          "base_uri": "https://localhost:8080/"
        },
        "id": "HvsGxsOvrz5J",
        "outputId": "bbcfedae-74c2-4044-f07c-9bae442a8208"
      },
      "outputs": [
        {
          "output_type": "execute_result",
          "data": {
            "text/plain": [
              "1000"
            ]
          },
          "metadata": {},
          "execution_count": 23
        }
      ],
      "source": [
        "# Validate how many records are stored in Redis\n",
        "redis_client.dbsize()"
      ]
    },
    {
      "cell_type": "markdown",
      "metadata": {
        "id": "WGVt7-DNr80e"
      },
      "source": [
        "## 5. Create Vector Index\n",
        "\n",
        "Now that we have created embeddings that represent the text in our dataset and stored them in Redis, we will create a secondary index that enables efficient search over the embeddings. To learn more about the vector similarity features in Redis, [check out these docs](https://redis.io/docs/interact/search-and-query/search/vectors/) and [these Redis AI resources](https://github.com/RedisVentures/redis-ai-resources).\n",
        "\n",
        "**Why do we need to enable search???**\n",
        "Using Redis for vector similarity search allows us to retrieve chunks of text data that are **similar** or **relevant** to an input question or query. This will be extremely helpful for our sample generative ai / LLM application."
      ]
    },
    {
      "cell_type": "code",
      "execution_count": 24,
      "metadata": {
        "id": "9mNa5LNn4XpX"
      },
      "outputs": [],
      "source": [
        "from redis.commands.search.field import (\n",
        "    NumericField,\n",
        "    TagField,\n",
        "    TextField,\n",
        "    VectorField,\n",
        ")\n",
        "from redis.commands.search.indexDefinition import IndexDefinition, IndexType\n",
        "from redis.commands.search.query import Query\n",
        "\n",
        "\n",
        "INDEX_NAME = \"google:idx\"\n",
        "PREFIX = \"doc:\"\n",
        "VECTOR_FIELD_NAME = \"embedding\"\n",
        "\n",
        "# Store vectors in redis and create index\n",
        "def create_redis_index(\n",
        "    redis_client: redis.Redis,\n",
        "    vector_field_name: str = VECTOR_FIELD_NAME,\n",
        "    index_name: str = INDEX_NAME,\n",
        "    prefix: list = [PREFIX],\n",
        "    dim: int = VECTOR_DIMENSIONS\n",
        "  ):\n",
        "\n",
        "    # Construct index\n",
        "    try:\n",
        "        redis_client.ft(index_name).info()\n",
        "        print(\"Existing index found. Dropping and recreating the index\", flush=True)\n",
        "        redis_client.ft(index_name).dropindex(delete_documents=False)\n",
        "    except:\n",
        "        print(\"Creating new index\", flush=True)\n",
        "\n",
        "    # Create new index\n",
        "    redis_client.ft(index_name).create_index(\n",
        "        (\n",
        "            VectorField(\n",
        "                vector_field_name, \"FLAT\",\n",
        "                {\n",
        "                    \"TYPE\": \"FLOAT32\",\n",
        "                    \"DIM\": dim,\n",
        "                    \"DISTANCE_METRIC\": \"COSINE\",\n",
        "                }\n",
        "            )\n",
        "        ),\n",
        "        definition=IndexDefinition(prefix=prefix, index_type=IndexType.HASH)\n",
        "    )"
      ]
    },
    {
      "cell_type": "code",
      "execution_count": 25,
      "metadata": {
        "colab": {
          "base_uri": "https://localhost:8080/"
        },
        "id": "n32J2XikuzpA",
        "outputId": "040b5b91-c5ee-4158-daa1-f15bcc3c2380"
      },
      "outputs": [
        {
          "output_type": "stream",
          "name": "stdout",
          "text": [
            "Creating new index\n"
          ]
        }
      ],
      "source": [
        "# Create index\n",
        "create_redis_index(redis_client)"
      ]
    },
    {
      "cell_type": "code",
      "execution_count": 26,
      "metadata": {
        "colab": {
          "base_uri": "https://localhost:8080/"
        },
        "id": "VOzL5qB-uzrE",
        "outputId": "50ef436c-4778-4170-ca83-c9aef5117318"
      },
      "outputs": [
        {
          "output_type": "execute_result",
          "data": {
            "text/plain": [
              "{'index_name': 'google:idx',\n",
              " 'index_options': [],\n",
              " 'index_definition': [b'key_type',\n",
              "  b'HASH',\n",
              "  b'prefixes',\n",
              "  [b'doc:'],\n",
              "  b'default_score',\n",
              "  b'1'],\n",
              " 'attributes': [[b'identifier',\n",
              "   b'embedding',\n",
              "   b'attribute',\n",
              "   b'embedding',\n",
              "   b'type',\n",
              "   b'VECTOR']],\n",
              " 'num_docs': '1000',\n",
              " 'max_doc_id': '1000',\n",
              " 'num_terms': '0',\n",
              " 'num_records': '1000',\n",
              " 'inverted_sz_mb': '0',\n",
              " 'vector_index_sz_mb': '3.047210693359375',\n",
              " 'total_inverted_index_blocks': '0',\n",
              " 'offset_vectors_sz_mb': '0',\n",
              " 'doc_table_size_mb': '0.07362556457519531',\n",
              " 'sortable_values_size_mb': '0',\n",
              " 'key_table_size_mb': '0.040406227111816406',\n",
              " 'geoshapes_sz_mb': '0',\n",
              " 'records_per_doc_avg': '1',\n",
              " 'bytes_per_record_avg': '0',\n",
              " 'offsets_per_term_avg': '0',\n",
              " 'offset_bits_per_record_avg': 'nan',\n",
              " 'hash_indexing_failures': '0',\n",
              " 'total_indexing_time': '15.75',\n",
              " 'indexing': '0',\n",
              " 'percent_indexed': '1',\n",
              " 'number_of_uses': 2,\n",
              " 'cleaning': 0,\n",
              " 'gc_stats': [b'bytes_collected',\n",
              "  b'0',\n",
              "  b'total_ms_run',\n",
              "  b'0',\n",
              "  b'total_cycles',\n",
              "  b'0',\n",
              "  b'average_cycle_time_ms',\n",
              "  b'nan',\n",
              "  b'last_run_time_ms',\n",
              "  b'0',\n",
              "  b'gc_numeric_trees_missed',\n",
              "  b'0',\n",
              "  b'gc_blocks_denied',\n",
              "  b'0'],\n",
              " 'cursor_stats': [b'global_idle',\n",
              "  0,\n",
              "  b'global_total',\n",
              "  0,\n",
              "  b'index_capacity',\n",
              "  128,\n",
              "  b'index_total',\n",
              "  0],\n",
              " 'dialect_stats': [b'dialect_1',\n",
              "  0,\n",
              "  b'dialect_2',\n",
              "  0,\n",
              "  b'dialect_3',\n",
              "  0,\n",
              "  b'dialect_4',\n",
              "  0]}"
            ]
          },
          "metadata": {},
          "execution_count": 26
        }
      ],
      "source": [
        "# Inspect index attributes\n",
        "redis_client.ft(INDEX_NAME).info()"
      ]
    },
    {
      "cell_type": "code",
      "execution_count": 27,
      "metadata": {
        "colab": {
          "base_uri": "https://localhost:8080/"
        },
        "id": "4sPe1ZgQkTbX",
        "outputId": "832cd24b-1240-47cf-94d0-6154e1ba8863"
      },
      "outputs": [
        {
          "output_type": "execute_result",
          "data": {
            "text/plain": [
              "{b'title': b'Camera Galactica',\n",
              " b'text': b'I am trying to make a galactic camera. Do take a look.',\n",
              " b'embedding': b'x\\xee\\xdf\\xbbm\\x9cV<VaA=\\x12\\xda&=\\x0f\\x81\\xa5=\\'q\\xe9\\xbcM\\x81.=\\x15\\x02<\\xbc\\x18\\xe3,\\xbch\\xcej\\xbc\\xd7\\xa7\\x05=1\\x87\\xf7;b\\xd6\\xec\\xbb\\xe1\\xa8\\xcc\\xbc\\xce\\xcc\\xd9\\xbb\\x96\\x12\\xa1\\xbcgj\\xcf\\xbc\\x91\\x9a\\xd1\\xbcn\\x08K\\xbd\\xce\\xfc\\x03=\\x9f~\\x9a\\xbd\\x9be\\x81\\xbc\\xee`\\xd2<\\x95\\xbb\\xcf\\xbb\\xa0G\\xad\\xba\\xd9z\\xd5\\xbd$\\xbc\\x91<-\\x12G<|\\xf2\\x07\\xbbAr\\t\\xbd\\xde\\xd7\\x90\\xba\"\\x1e ;\\x1f\\xea1\\xbc\\x1eN\\xb4\\xbct\\xa3\\xfa<\\xba;\\xb3<\\xe2\\xdcL\\xbdTw\\x02\\xbd\\x02\\xda\\x96<D_q=\\x12B\\x1b<\\xb9\\x8d/\\xbd&\\x01<=\\xa1L\\\\\\xbc\\xd6^H=_\"\\xe9<\\xcd\\xd57\\xbdut8=\\xfd\\x9b\\xbe</d\\xa6\\xbd\\xbe=<\\xbcY?\\xee;\\x18\\x9a@=\\xddq\\x02=\\xf0\\x1bT\\xbd\\x04\\xd9L=P\\xd9n\\xbdm\\xf1\\x8f\\xbcI5\\xc3<k\\x01=\\xbd\\xb2O\\x84;\\xfe\\xa7U\\xbb\\x8dS\\n=\\xba\\xe3f\\xbc\\xddq\\x96\\xbbT%\\x88=(\\x03\\xa4\\xbc\\xb6\\xcf\\xc3\\xbc\\xd0Z\\xa6\\xbbE\\x11.<HI\\xb6<R\\xf2\\xb6<\\xe0\\x91\\xfe\\xbc\\xbf\\x82\\x93\\xbb\\x8e\\xcf\\xa8<\\x19\\x80\\x9e<\\xedNC<\\xa5\\xb37=D\\xe98=\\xda@\\x89\\xbc\\xbc\\xb1\\x15\\xbdI\\x05\\xde\\xbc\\xd0\\\\9\\xbdp\\xbf\\xa3\\xbd\\xe4~)\\xbc7\\x8bx<\\xe8\\xd6\\x13=\\xe1\\x16\\x13\\xbbx\\x06\\x97\\xbdG\\x14}=\\x84`\\xc7\\xbc\\xcd)\\x82<-v\\x1e=\\x7f\\x8fn<\\x15\\x9cn<\\xee\\xbe\\xd0\\xbc\\x16\\xc5\\xd0\\xbc`:\\xaa9r\\xe0\\xfe<\\x84\\xd1+\\xbc\\xa0w\\x0f\\xbc^\\n.<\\x0fo\\x83=\\\\\\xceK;\\x95\\x16\\x8d=\\x96\\xdbT<p\\x8f\\x82\\xbb\\x98\\x99\\x9a<\\xa1t0\\xbd\\xdbn\\xa3\\xbd\\xd7&\\xd3\\xbd(\\x8c\\xc7<\\x04\\xff\\x9c\\xbd\\x91\\x9e(=7\\xfb>\\xbb\\xf2\\xa9\\xcd\\xbb*i\\t\\xbc\\xb1\\x08)=\\x0c\\x14\"=\\xfc\\xef\\xe3;\\x81\\x95\\xce\\xbc\\x1f\\xe7\\x8c<\\x87\\xdfG\\xbdK\\x8b\\x8a=8G\\xaf:>`\\x05=5\\x9d\\x92=\\x1e##\\xbc\\x1b\\xc5\\x8a<P\\xd4\\x94;E#\\x19=\\x15M\\xe1\\xbcy\\xe5y=\\xfd\\x05\\x18\\xbc\\x0cZ\\xf9\\xbcC8l<m\\xf6\\xd7\\xbb\\x90V\\xeb<\\x84CD\\xbc\\xe6\\xff\\x03=\\xb4\\xdcV\\xbd\\xd2\\xbb6\\xbb\\x84P\\x0f<[b\\x9f<\\x8f\\xea\\x9d\\xbc\\x8fY\\x1a\\xbd\\x89\\x96\\x81<\"\\xba\\x10<\\xbe\\x0e\\xa1\\xbd`\\xf7\\xdc\\xbcO\\xach<\\xa95\\xc4\\xbcf\\xd3\\xc1<\\xc5\\xd9<=\\xees!=CYj=U\\xcc\\xb9<\\x1a\\xe5G=W\\xea7\\xbd|\\xebi\\xbd\\xd9\\xb4\\x0b<]\\xb01<\\x82\\xeb[\\xbd\\x99\\x9a\\xae<m\\xda\\xc1<\\xc4\\xd96\\xbc&\\xbe\\x0f\\xbd4\\xaf\\xef\\xbaT\\xfe\\xbc\\xbc\\x00\\xbf\"=\\x11\\xb8\\x90=\\x8cL\\x00\\xbe\\x90\\x91\\xe2;\\xf5\\xf9g;\\xa9\\xb9\\x9e=ir\\xd4:\\x10\\x8a\\xc5<O\\xd0\\xf3\\xbc\\xf1z\\xbf\\xbalB\\x96\\xbc\\xa7[\\x07\\xbd`0,\\xbd\\x08\\xec5=u n\\xbc\\xa4\\x04\\xfd\\xbc\\xf7WA\\xbb\\xad|b\\xbc]\\x7f]\\xbc\\xa1\\xd5J\\xbd\\xdfjx=\\xc7\\xbb\\xb1\\xbc9eC<\\x9d\\x84u=1d\\x90\\xbd\\xa7\\x92\\xc8\\xbcOw\\x83< k\\x01=\\xf0\\x18\\x19\\xbeA{!\\xbd\\xb6Y#<\\x87&\\x89\\xbb\\x98\\xb4\\xc1\\xbc\\t\\xfd\\xfe<L\"\\x9a<\\x13a\\xc1\\xba\\xbdx\\xcd\\xbc\\xef\\x8aU\\xbd\\x9e\\x83\\x9f;4l\\x10==\\xf0\\xb7\\xbc\\xda)\\x0b=B\\xf6\\xce<\\xbb\\xf7\\x03=TX(=v\\x02\\xbe\\xbb\\x0f\\xb1\\xba;\\xe8u\\x12<\\xa9\\x18\\x91\\xbd\\x04\\x86\\x9f\\xbd\\x95\\xce\\'\\xbc\\x80\\xb5\\xb9\\xbc{\\x02\\x1f=\\x97\\xf0\\x0c\\xbc}\\xe4\\xac< \\xc3Y;EV\\xa9<\\xb0\\xb1\\x11=\\x0e\\xba\\'=\\x054\\xf3\\xbb\\x8c\\xe9N=\\n\\x9e#\\xbdQC\\x02=\\xf2\\xf9\\x99\\xbcy%\\x04<zv\\x01=y>G<\\xccL\\xa7;Ws\\x9a<\\x07\\xa0\\x05\\xbd\\x802\\xbd<\\xa3\\xe1\\xb8\\xbcb\\xab\\xf3<\\xf1\\x98J\\xbd\\x1b\\xe4\\xe5<\\xee\\xacS\\xbde\\x7f\"=\\x0b\\xd5\\x07;\\xb7)\\xa0<\\xe7\\x08\\xf0\\xbb\\xdc\\x02\\xdc\\xbc2\\xf0\\x8b=i\\xb5\\x95\\xbdw\\xa7\\x9e<\\'\\xe0\\xd7<\\xe8\\x92\\x9b;\\xe3\\xd6\\x14=\\x16l\\xa5\\xbclVI;\\xb2\\xa3\\xc3\\xbc|s\\'=\\xc98=\\xbdn\\xd3\\xaa<\\xee\\xe5\\xd5:U^\\t>z\\xfdW\\xbd\\xc0\\xaf\\xbb\\xbc\\xc6BK\\xbd\\x01\\xa0<=\\x8e\\x01J=\\x93\\\\\\x1d\\xbc\\x11\\xfb4\\xbb\\x13\\xc8H\\xbc\\xc8\\xb6%=\\xfa\\xeee=+[Y\\xbc{,\\x02\\xbd\\x1e\\x82\\x80\\xbcp2>=^\\x9c}=\\x07b\\x0e;\\xed\\xc3\\x93\\xbc\\xed\\xef\\xd6;\\xe4G\"<\\x1b\\xd7X=\\xf7\\x9e\\xe49s\\x95\\x87\\xbc6\\x10z=\\xcf\\xeb\\x1f=\\xf9\\xcc\\x00\\xbd\\xb0k\\t=Vv\\x12=\\x14\\xf9\\x1e\\xbc\\xb8x\\x12\\xbd\\x93\\xcc\\xbf=\\xcdF\\xdc\\xbc\\x00\\x1a\\xff\\xbc\\x9e\\xf2D=\\xc5\\xf0\\x97\\xbc\\xff5\\x18\\xbd\\xfa\\x11!=\\xcc\\xaf\\x97\\xba\\x8f\\xba\\x88;Ih\\xe8;\\xec\\x81\\xb7\\xbc/\\xa59\\xbdz\\x1f7\\xbd\\x03\\xe9\\x8e<;}\\xd3\\xbcx#\\x9b=F\\x1a\\xdc<\\xb9t\\xad<\\x9d\\xa5\\x18\\xba\\x13F\\x1a\\xbb\\xbd\\xb0\\x13\\xbd\\xe1\\x97X\\xbc\\xefv&=f\\xb0h:r\\xce\\x83\\xbc\\xdb\\x95\\x8b\\xbdF.\\xb7<\\xad\\xd0\\x19\\xbdU\\xcc\\x12<Sdt=\\xedF\\x0f<\\xfa\\x87\\x94\\xbc\\xa1\\xda_\\xbc\\x1c,\\xcf<\\x08]\\\\<t\\x82\\x8b=$\\tV\\xbd\\x9c\\xca\\x0b\\xbd\\xb7\\x877=\\x0c\\x89\\xca\\xbc\\xd1\\x88\\x17=\\x99A\\x11=\\x1f\\x12\\xe1;\\x12R\\x9b<\\xfe\\xf7\\xda<\\xcf\\x08\\xa6\\xbcy\\xaaa\\xbd\\x1b\\x91.=\\xb3a>\\xbd\\xdfiS\\xbd.@\\x19\\xbd\\xf0`\\x9c\\xbc\\xa39\\xf2<f\\xaa\\x1c\\xbd\\xf1\\xc4\"\\xbd}\\x07\\xdc\\xbc\\xad\\x0c\\x9a\\xbc\\xc6\\xa5`<\\xb0s1=\\xab\\xf7c\\xbb\\xa5\\xa1\\x97<\\xe1\\xb0\\xd5\\xbb2\\x84\\xd5<jEg;\\xe9\\x11\\x00\\xbc\\x9fuI<\\xae\\xa5S:\\x95\\xdb\\x17\\xbd\\xef>\\x1c<\\x18l\\\\\\xbd\\x89Y3=\\x11\\x02\\xd8<\\xd0\\x8bn=\\x97\\xb8m\\xbc\\x1b?\\x9f<A\\xcf%\\xbc\\xde\\xba~\\xbc\\x83\\x1aQ\\xbc\\xffE\\x19\\xbc\\xaf\\xb1\\xec<\\r\\x1b\\x84\\xbd\\xaa\\x06\\xa0\\xbd\\x97\\x85\\xb8\\xbc\\x89\\xf3\\x19\\xbd\\x12\\\\\\xa0<\\x99Y\\xdb\\xbcz\\x15#<\\x0c9\\x14\\xbdh\\xfb\\xf3<\\x18^\\xc7\\xbbv\\x04b;\\xc7[\\xad<\\x1e\\xff\\x12=\\xf8\\x92d=\\xd4H\\x1e=\\x10]\\x02=\\x90\\x9fn\\xbc\\xf4!o<\\x0e\\xf2P=\\xc4r\\xb8<\\x89\\xaet\\xbc\\x94\\xf9\\xf8\\xbb=\\x80T=;\\x08\\x01\\xbd\\xdav\\xee\\xbcg\\xf4\\xf5\\xbc\\xcf\\xaf\\xa9\\xb9\\x9d2\\x95\\xba\\x15\\xa9\\xc6<\\xa1F\\x1a\\xbd@\\x96\\x8d\\xbd\\x13\\xb9+=,\\xd3\\x88;[\\xb3\\xab<\\xeb\\x18\\xce<\\xc1&\\x19=*\\x90\\x1c\\xbd\\xe1Bi\\xbb\\xe9t\\x06\\xbd\\xbc\\xa4\\x1c=\\x19\\x87 <\\xc6M\\xe7;k\\x18\\xaf\\xbcfW\\xd8\\xbc<\\xb5\\x07\\xbdd\\x9b\\x16<\\xb0\\x8a\\xcb\\xbc^\\x13K<qh%\\xbdK\\x1fQ\\xbdS\\xd3\\xa5;?\\x90\\n=~\\xbd\\r\\xbaba\\xc2\\xbdaN\\x19==QC\\xbdR\\x82$;&h\\xe4\\xbcm\\xa2\\xb6\\xbc@\\xb2\\x94;\\xe0\\xd2\\x8f\\xbda\\xf2\\x18\\xbdG\\xec\\x0c\\xbd\\x87\\xc8\\xa5=\\x98\\x0f\\xc7<g\\x1f#=\\x11eo\\xbcl\\x9eI\\xbc\\xad\\xef9;bq\\xa0\\xbc\\x86\\xc5 =O\\x9d\\x15<\\x95\\x8c\\x8f\\xbdnQ\\x13\\xbd\\x97\\xd7\\x05\\xbc\\x1e\\xd0=\\xbd\\xde\\xe4\\x8c<I2c\\xbd#\\xfa\\x8a\\xbc\\xa4\\xecg\\xbbrr\\xd1=\\xb0\\xc72<\\xa2\\xfe\\xf9\\xba.\\xb7\\x9c;\\xb3\\x80\\xa6\\xbc\\xcf\\xa4\\xc5<\\x17\\xba\\x1d=IE\\xb8\\xbc\\x10\\x92l<\\xcf\\x89\\xb6\\xbc\\xb9lV=\\xc5\\xe5\\xa3;\\xa43\\x1e\\xbc\\x95\\xe3K\\xbc\\xba&\\xcb<\\xf2h\\xc7\\xbck\\xee\\x88<SOv\\xbd\\xf8\\x9a\\x83=7\\xc4\\x86\\xbd\\xa8\\x0ey\\xbb\\xfa\\x1f\\x02=\\xa4,\\x1f\\xb9m%h<V\\xe5$=`E\\xb6\\xbc\\xfd\\x0be\\xbcHiY\\xbd\\xbf\\x1f\\x86<\\xdc\\xeaQ<}\\x8e\\x0c\\xbdt\\xf3\\xcf\\xb95\\x90\\x07\\xbd\\xd7\\x1e\\xc4<\\xbe!\\x8d\\xbd\\x8e\\xea\\xda<{\\xe0,\\xbb\\x11(\\x14=\\xdb\\x11\\xc8<Wul=\\x11\\x95]<\\xfe(\\x12=\\\\\\xfd\"\\xbd\\x9dJ-<-\\xb2O\\xbcY\\x9c\\x9b<%\\xcc\\x8e;0\\xed\\x8a9\\xe0\\xcd!\\xbdj\\xa2\\xe5<\\x1d\\xb2\\x14=\\xf8W\\x14\\xbd\\x83\\xe4\\xbf\\xbbz\\x02\\x9d\\xbc\\x96\\xef\\xde\\xbcv[w\\xbd\\xd1k\\xe7:\\xf6I\\xbc<2\\xc7l<\\xe8z\\xd7\\xbcl\\xe4(\\xbd\\n\\xd0\\xa4\\xbc\\xcd\\xec\\x8f\\xbd\\x0b)p\\xbd\\xe0\\x0f\\x93<\\xa1\\xbe}<\\xcf\\x83&\\xbc\\x18\\x89d<]0;\\xbd7\\x8fN\\xbb\\xa9\\xf1A=\\xdcM\\xfb<\\xb3\\xfd\\x8d=\\xe5o\\x0e=\\x9ak\\xef\\xbc\\xf6\\xd29\\xbd\\xe4\\xddS=\\xeb[-\\xbc\\xa3GA=o\\x1aP\\xbc4l\\xde\\xbc\\x93\\xce\\xa2<%\\xda\\xe6\\xbc\\xddO6=3&\\xbe\\xbb\\x91\\x87\\xb8<g\\xde\\xd2=\\xba\\x00u\\xbc\\xf1\\xbd\\x98\\xbd?\\x13\\x8c=(r\\xaf\\xbc4\\x07\\x7f<\\xbe\\x8d\\x86\\xbb\\x02\\xd8\\xa1< \\x0b\\xe3<Ze\\xc7\\xba\\xc0\\xdc\\x81<\\xcf\\x84S=\\xd7\\x1f\\x87\\xbcs\\x9f\\x06\\xbd\\xd9T\\r=\\x9d\\x1a\\x8b=W\\x90Y\\xbb\\x9d\\xc7\\x92<TJZ\\xbd(\\x9b\\xe1\\xbcj\\x0b\\xf5\\xbb\\xe5s\\x04=\\xb1\\xd6-\\xbdg\\xfe\\xdb\\xbc\\x12\\x03\\xe0\\xbc\\xdb\\xc8\\x7f=U\\xd6o\\xbc\\xd6\\xed\\xb0<\\x0c2\\x88<[\\xacg\\xba\\x89\\x06:=:\\xa8D<1\\xb0L\\xbd\\x0e\\x9f\\xfc\\xbc\\xe8\\x8e\\xb6;\\xaa\\x80\\xbe\\xbc\\x93S \\xbc\"\\x06\\x01\\xbd\\x06\\xd3l=\\x7f\\x19\"\\xbc\\xe0\\x80m\\xbc\\x8e0E\\xbd\\x90\\xa1\\xbb<\\x00\\x9c\\x99<\\xaf~\\xca<\\x99\\xdc\\xb0\\xbb\\xd66\\xc0\\xbb\\'\\xcd\\xc3\\xbc\\x81\\xd5s\\xbd\\x05\\x11\\xb5\\xbb\\x93\\xb3\\xeb\\xbb+\\xbb\\x98\\xbc9\\x89\\xca\\xbd\\x83\\xbf3\\xbdJ\\x08\\x00\\xbdn\\xa8g\\xbdZ\\xb1r\\xbd\\x91$\\xd6<\\xc9B\\x06;\\xf3\\xbd\\xc7\\xbbXU\\x16;\\x04\\xdfa\\xbd\\x8f\\x99!=:\\xb0\\x14=\\x10\\x15\\xdc;\\xeb\\x94\\xb0\\xbb\\x83\\xda\\x89<C\\xf6\\xc6<\\xbf\\x95\\x98\\xbc..U<\\x1ex\\xa4<\\xa4\\xfa\\xd1<\\x8fs\\xd3<\\x8a\\xc5\\xde<Q\\xb1\\xff;\\x1b\\xf3|;\\x83\\xea\\xd0<\\xd9k\\xd4\\xbcC\\xcd\\x95=wOz=\\xf8N3=\\x06m>=\\xb5\\xf6e\\xbce\\xc9><\\xa8^\\x87\\xbd\\x81\\xa1W=\\xe9\\xa3J\\xbc\\x15Q\\x90<t\\xd5/\\xbc:\\xa1t;j\\xb3\\xdb\\xbc\\x99h\\x83=J[9\\xbdVw\\x87;#-V\\xbd\\xf51%<\\x95G1\\xbd\\xbap\\xe6\\xbc\\x89\\xa6\\x15<kQ==\\xc3\\xe8\\xee\\xbb\\xb9\\xcaf<)\\x1dY\\xbb\\xac\\x0e\\x97;\\xa7H\\x05\\xbdS\\xceR\\xbc\\xb1E\\xbc\\xbb\\x00\\xe4\\n\\xbd7^ \\xbd\\xdb\\xc1w<\\xc7\\xd7\\xf8<5\\x8e\\xd5\\xbb\\x8b\\x8d\\xf1\\xbc\\xe0\\xaa\\xa8\\xbb\\xb2\\x9c\\x94\\xbd\\x00Z\\x1e\\xbc\\xa1\\xd1\\x1b=\\x1a_\\xf3<l\\x032<\\xd9\\x84>\\xbb\\x9e4f<\\x92fi=\\r\\x1f\\x05\\xbd\\xc2\\xabz<i\\x8e9<[\\xabZ\\xbd\\xb8\\x00{=\\x0f\\x9er\\xbcj\\xa1\\xcf<\\x05\\xa9\\xb6;LG-\\xbc\\xb6=6\\xbd\\xd2\\xd1\\x19\\xbd\\xe8\\x85\\x8f=\\xdc\\x04\\xff\\xbct0\\xe4\\xbb{\\xff\\xbc<\\x05C\\x03=\\xcb\\xf7\\x00\\xbd_\\xc6z9\\xef\\xd9/=T\\x0f\\x8a\\xbdW!\\xe2\\xbc/\\tz<Zl\\x8a<\\xe4\\xe8\\xc5;k\\xcd\\x9d\\xbcq\\x86;<\\xf7\\xc0\\xb1\\xbb_\\xcdN\\xbd$\\x13T\\xbd;\\xe7\\x1e\\xbdj\\xfa\\xed<\\xbe\\xf6$\\xbc\\x1b\\xfa8<\\x14\\x9a\\x81\\xbc\\xb9k\\xea\\xbcN\\xac\\xfa\\xbc\\xed\\xab\\xda<\\xac\\x85C;\\x82\\x82\\x18=\\x97\\xb4\\xbb:;*\\x1e= \\x9b\\x99=t\\xcc==\\xcd~\\xb0;\\'\\xb3\\xae\\xbc\\xb9\\xf0\\x16\\xbdD\\xc3\\x85;\\x9b\\xf0O\\xbc\\x95\\xf6Q\\xbd\\x82U\\x0e\\xbc\\x9a\\x01\\xb0<%vQ=\\x14*\\xa8<\\xd7\\x14\\xd3\\xbcw\\xe6\\xb2=\"Z\\xa7\\xbbY\\xe0\\x82<\\xe6\\x19\\xd4<\\x06\\x9f\\x19=q\\xb5\\x95<^\\xc3A=\\x05_=<<\\xcb\\xcf\\xbc\\xba\\xc6\\x1c<\\xf0\\x94~\\xbc\\x91\\xa4\\x9b<^6l\\xbdH\\xd4R<1\\x07\\x1a=\\xdf.\\xb7;S\\x8eU\\xbc\\xd5\\xbd\\x93;0\\x9b\\xa2<\\x892\\x14\\xbcs\\x02I\\xbb\"\\xe6C=\\x07\\xf3\\xd2\\xbb\\xb9Q\\x8f=\\xc4\\x9a:\\xbd\\xb8\\xa7\\x90\\xbc\\x97\\xe8\\x16=\\xbc\\xf5t\\xbd\\xaa^\\xe9\\xbc2\\xe1\\xa0<)\\xeci<\\x0f\\x98\\x07=95\\xa5\\xbc\\x81\\xdb~;\\xf8\\x03,\\xbd\\xdd=?\\xbd\\xfb\\xa2\\x12=\\xa2\\'\\'=q\\x85\\xa3;\\xd1H\\xe6\\xbc-%\\x16>\\xde\\x1a\\x04=\\x04\\x08\\x8c=\\xf5l\\xcf<\\xaap\\x1a=\\xb11\\xab\\xbc3\\x97\\xa2<\\x95\\x88\\x1f\\xbd\\x8c\\xc7\\xee<.\\xd3\\x94\\xbc[W\\x89\\xbb\\xbdP\\x91\\xbcl\\x07\\x9d<',\n",
              " b'id': b'1687078'}"
            ]
          },
          "metadata": {},
          "execution_count": 27
        }
      ],
      "source": [
        "# Retreive single HASH from Redis\n",
        "key = redis_client.keys()[1]\n",
        "redis_client.hgetall(key)"
      ]
    },
    {
      "cell_type": "markdown",
      "metadata": {
        "id": "G6CmHY3-6wB1"
      },
      "source": [
        "At this point, our **Redis** datastore is completely loaded with a subset of data from **BigQuery** including text embeddings created with **Vertex AI** PaLM APIs."
      ]
    },
    {
      "cell_type": "markdown",
      "metadata": {
        "id": "82-AbKHxItif"
      },
      "source": [
        "# Build LLM applications\n",
        "With Redis fully loaded as a vector database and powerful PaLM APIs at our disposal, we can build a number of AI applications on this stack. Below we will briefly describe each of these applications and use cases\n",
        "\n",
        "- **Document Retrieval** - search through documents to return only the most relevant to a given query.\n",
        "- **Product Recommendations** - recommend products with similar attributes and descriptions to a product the shopper likes.\n",
        "- **Chatbots** - provide a conversational interface for information retrieval or customer service.\n",
        "- **Text Summarization & Generation** - Generate new copy from sources of relevant information to accelerate team output.\n",
        "- **Fraud/Anomaly Detection** - identify anomalous and potentially fraudulent events, transactions, or items based on attribute similarity of other known entities."
      ]
    },
    {
      "cell_type": "markdown",
      "metadata": {
        "id": "Hey_tOYhMByl"
      },
      "source": [
        "# LLM Design Patterns\n",
        "\n",
        "In order to build these kinds of apps, below we highlight 4 technical design patterns and techniques where Redis Enterprise comes in handy to boost LLM performance:\n",
        "\n",
        "- **Semantic Search**\n",
        "- **Retrieval Augmented Generation (RAG)**\n",
        "- **Caching**\n",
        "- **Memory**\n",
        "\n",
        "Leveraging some combination of these patterns is recommended best practice, derived from enterprise use cases and open source users all over the world."
      ]
    },
    {
      "cell_type": "markdown",
      "metadata": {
        "id": "Tm0c981Q7e5k"
      },
      "source": [
        "### Simple Semantic Search\n",
        "\n",
        "\n",
        "**Semantic Search**, in the context of Large Language Models (LLMs), is a sophisticated search technique that goes beyond *literal* keyword matching to understand the contextual meaning and intent behind user queries. Leveraging the power of Google's Vertex AI platform and Redis' vector database capabilities, semantic search can map and extract deep-level knowledge from vast text datasets, including nuanced relationships and hidden patterns.\n",
        "\n",
        "This allows applications to return search results that are contextually relevant, enhancing user experience by offering meaningful responses, even to complex or ambiguous search terms. Thus, semantic search not only boosts the accuracy and relevancy of search results but also empowers applications to interact with users in a more human-like, intuitive manner.\n",
        "\n",
        "The general process of semantic search includes 3 steps:\n",
        "1. Create query vector\n",
        "2. Perform vector search\n",
        "3. Review and return results"
      ]
    },
    {
      "cell_type": "code",
      "execution_count": null,
      "metadata": {
        "colab": {
          "base_uri": "https://localhost:8080/"
        },
        "id": "a6BsbxUG7kVc",
        "outputId": "add7774d-0589-49d1-e2dc-a841eef8a367"
      },
      "outputs": [
        {
          "data": {
            "text/plain": [
              "[0.019742609933018684,\n",
              " -0.006285817362368107,\n",
              " 0.057011738419532776,\n",
              " 0.0630318894982338,\n",
              " 0.019907860085368156,\n",
              " -0.045217469334602356,\n",
              " 0.0657828152179718,\n",
              " 0.027572786435484886,\n",
              " -0.056532640010118484,\n",
              " 0.003752157324925065]"
            ]
          },
          "execution_count": 20,
          "metadata": {},
          "output_type": "execute_result"
        }
      ],
      "source": [
        "# 1. Create query vector\n",
        "query = \"What is the best computer operating system for software dev?\"\n",
        "query_vector = embed_text([query])[0]\n",
        "\n",
        "# Our query has been converted to a list of floats (this is a truncated view)\n",
        "query_vector[:10]"
      ]
    },
    {
      "cell_type": "code",
      "execution_count": null,
      "metadata": {
        "id": "zmma7Cjd7kZ9"
      },
      "outputs": [],
      "source": [
        "# Helper method to perform KNN similarity search in Redis\n",
        "def similarity_search(query: str, k: int, return_fields: tuple, index_name: str = INDEX_NAME) -> list:\n",
        "    # create embedding from query text\n",
        "    query_vector = embed_text([query])[0]\n",
        "    # create redis query object\n",
        "    redis_query = (\n",
        "        Query(f\"*=>[KNN {k} @{VECTOR_FIELD_NAME} $embedding AS score]\")\n",
        "            .sort_by(\"score\")\n",
        "            .return_fields(*return_fields)\n",
        "            .paging(0, k)\n",
        "            .dialect(2)\n",
        "    )\n",
        "    # execute the search\n",
        "    results = redis_client.ft(index_name).search(\n",
        "        redis_query, query_params={\"embedding\": convert_embedding(query_vector)}\n",
        "    )\n",
        "    return pd.DataFrame([t.__dict__ for t in results.docs ]).drop(columns=[\"payload\"])\n"
      ]
    },
    {
      "cell_type": "code",
      "execution_count": null,
      "metadata": {
        "id": "wIaYNgNxA4D1"
      },
      "outputs": [],
      "source": [
        "# 2. Perform vector similarity search with given query\n",
        "results = similarity_search(query, k=5, return_fields=(\"score\", \"title\", \"text\"))"
      ]
    },
    {
      "cell_type": "code",
      "execution_count": null,
      "metadata": {
        "colab": {
          "base_uri": "https://localhost:8080/",
          "height": 206
        },
        "id": "uy7rh-stIIii",
        "outputId": "4131fff8-e6e7-40d5-b4ea-056c3a4f3e08"
      },
      "outputs": [
        {
          "data": {
            "text/html": [
              "\n",
              "  <div id=\"df-8dd4bde0-581a-4160-a7a8-e2697f73b63a\">\n",
              "    <div class=\"colab-df-container\">\n",
              "      <div>\n",
              "<style scoped>\n",
              "    .dataframe tbody tr th:only-of-type {\n",
              "        vertical-align: middle;\n",
              "    }\n",
              "\n",
              "    .dataframe tbody tr th {\n",
              "        vertical-align: top;\n",
              "    }\n",
              "\n",
              "    .dataframe thead th {\n",
              "        text-align: right;\n",
              "    }\n",
              "</style>\n",
              "<table border=\"1\" class=\"dataframe\">\n",
              "  <thead>\n",
              "    <tr style=\"text-align: right;\">\n",
              "      <th></th>\n",
              "      <th>id</th>\n",
              "      <th>score</th>\n",
              "      <th>title</th>\n",
              "      <th>text</th>\n",
              "    </tr>\n",
              "  </thead>\n",
              "  <tbody>\n",
              "    <tr>\n",
              "      <th>0</th>\n",
              "      <td>doc:8738518</td>\n",
              "      <td>0.334048986435</td>\n",
              "      <td>Ask HN: Does anybody know any programming lang...</td>\n",
              "      <td>I am looking for something analogous to osdev....</td>\n",
              "    </tr>\n",
              "    <tr>\n",
              "      <th>1</th>\n",
              "      <td>doc:25027459</td>\n",
              "      <td>0.334324538708</td>\n",
              "      <td>Ask HN: What is your at-home development setup...</td>\n",
              "      <td>For personal projects, what&amp;#x27;s your physic...</td>\n",
              "    </tr>\n",
              "    <tr>\n",
              "      <th>2</th>\n",
              "      <td>doc:7638777</td>\n",
              "      <td>0.353065013885</td>\n",
              "      <td>Ask HN: Single Developer Cheap Setup</td>\n",
              "      <td>As a single developer with not too much in ter...</td>\n",
              "    </tr>\n",
              "    <tr>\n",
              "      <th>3</th>\n",
              "      <td>doc:21206278</td>\n",
              "      <td>0.358504593372</td>\n",
              "      <td>Recommended Coding/Data Science BootCamps in S...</td>\n",
              "      <td>I recently parted ways with tier 2 level broke...</td>\n",
              "    </tr>\n",
              "    <tr>\n",
              "      <th>4</th>\n",
              "      <td>doc:781794</td>\n",
              "      <td>0.360902309418</td>\n",
              "      <td>Create Your Own Custom Linux Distro Online Fas...</td>\n",
              "      <td>Now, you don't need to be an hardcore programm...</td>\n",
              "    </tr>\n",
              "  </tbody>\n",
              "</table>\n",
              "</div>\n",
              "      <button class=\"colab-df-convert\" onclick=\"convertToInteractive('df-8dd4bde0-581a-4160-a7a8-e2697f73b63a')\"\n",
              "              title=\"Convert this dataframe to an interactive table.\"\n",
              "              style=\"display:none;\">\n",
              "        \n",
              "  <svg xmlns=\"http://www.w3.org/2000/svg\" height=\"24px\"viewBox=\"0 0 24 24\"\n",
              "       width=\"24px\">\n",
              "    <path d=\"M0 0h24v24H0V0z\" fill=\"none\"/>\n",
              "    <path d=\"M18.56 5.44l.94 2.06.94-2.06 2.06-.94-2.06-.94-.94-2.06-.94 2.06-2.06.94zm-11 1L8.5 8.5l.94-2.06 2.06-.94-2.06-.94L8.5 2.5l-.94 2.06-2.06.94zm10 10l.94 2.06.94-2.06 2.06-.94-2.06-.94-.94-2.06-.94 2.06-2.06.94z\"/><path d=\"M17.41 7.96l-1.37-1.37c-.4-.4-.92-.59-1.43-.59-.52 0-1.04.2-1.43.59L10.3 9.45l-7.72 7.72c-.78.78-.78 2.05 0 2.83L4 21.41c.39.39.9.59 1.41.59.51 0 1.02-.2 1.41-.59l7.78-7.78 2.81-2.81c.8-.78.8-2.07 0-2.86zM5.41 20L4 18.59l7.72-7.72 1.47 1.35L5.41 20z\"/>\n",
              "  </svg>\n",
              "      </button>\n",
              "      \n",
              "  <style>\n",
              "    .colab-df-container {\n",
              "      display:flex;\n",
              "      flex-wrap:wrap;\n",
              "      gap: 12px;\n",
              "    }\n",
              "\n",
              "    .colab-df-convert {\n",
              "      background-color: #E8F0FE;\n",
              "      border: none;\n",
              "      border-radius: 50%;\n",
              "      cursor: pointer;\n",
              "      display: none;\n",
              "      fill: #1967D2;\n",
              "      height: 32px;\n",
              "      padding: 0 0 0 0;\n",
              "      width: 32px;\n",
              "    }\n",
              "\n",
              "    .colab-df-convert:hover {\n",
              "      background-color: #E2EBFA;\n",
              "      box-shadow: 0px 1px 2px rgba(60, 64, 67, 0.3), 0px 1px 3px 1px rgba(60, 64, 67, 0.15);\n",
              "      fill: #174EA6;\n",
              "    }\n",
              "\n",
              "    [theme=dark] .colab-df-convert {\n",
              "      background-color: #3B4455;\n",
              "      fill: #D2E3FC;\n",
              "    }\n",
              "\n",
              "    [theme=dark] .colab-df-convert:hover {\n",
              "      background-color: #434B5C;\n",
              "      box-shadow: 0px 1px 3px 1px rgba(0, 0, 0, 0.15);\n",
              "      filter: drop-shadow(0px 1px 2px rgba(0, 0, 0, 0.3));\n",
              "      fill: #FFFFFF;\n",
              "    }\n",
              "  </style>\n",
              "\n",
              "      <script>\n",
              "        const buttonEl =\n",
              "          document.querySelector('#df-8dd4bde0-581a-4160-a7a8-e2697f73b63a button.colab-df-convert');\n",
              "        buttonEl.style.display =\n",
              "          google.colab.kernel.accessAllowed ? 'block' : 'none';\n",
              "\n",
              "        async function convertToInteractive(key) {\n",
              "          const element = document.querySelector('#df-8dd4bde0-581a-4160-a7a8-e2697f73b63a');\n",
              "          const dataTable =\n",
              "            await google.colab.kernel.invokeFunction('convertToInteractive',\n",
              "                                                     [key], {});\n",
              "          if (!dataTable) return;\n",
              "\n",
              "          const docLinkHtml = 'Like what you see? Visit the ' +\n",
              "            '<a target=\"_blank\" href=https://colab.research.google.com/notebooks/data_table.ipynb>data table notebook</a>'\n",
              "            + ' to learn more about interactive tables.';\n",
              "          element.innerHTML = '';\n",
              "          dataTable['output_type'] = 'display_data';\n",
              "          await google.colab.output.renderOutput(dataTable, element);\n",
              "          const docLink = document.createElement('div');\n",
              "          docLink.innerHTML = docLinkHtml;\n",
              "          element.appendChild(docLink);\n",
              "        }\n",
              "      </script>\n",
              "    </div>\n",
              "  </div>\n",
              "  "
            ],
            "text/plain": [
              "             id           score  \\\n",
              "0   doc:8738518  0.334048986435   \n",
              "1  doc:25027459  0.334324538708   \n",
              "2   doc:7638777  0.353065013885   \n",
              "3  doc:21206278  0.358504593372   \n",
              "4    doc:781794  0.360902309418   \n",
              "\n",
              "                                               title  \\\n",
              "0  Ask HN: Does anybody know any programming lang...   \n",
              "1  Ask HN: What is your at-home development setup...   \n",
              "2               Ask HN: Single Developer Cheap Setup   \n",
              "3  Recommended Coding/Data Science BootCamps in S...   \n",
              "4  Create Your Own Custom Linux Distro Online Fas...   \n",
              "\n",
              "                                                text  \n",
              "0  I am looking for something analogous to osdev....  \n",
              "1  For personal projects, what&#x27;s your physic...  \n",
              "2  As a single developer with not too much in ter...  \n",
              "3  I recently parted ways with tier 2 level broke...  \n",
              "4  Now, you don't need to be an hardcore programm...  "
            ]
          },
          "metadata": {},
          "output_type": "display_data"
        }
      ],
      "source": [
        "# 3. Review and return the results\n",
        "display(results)"
      ]
    },
    {
      "cell_type": "markdown",
      "metadata": {
        "id": "IH04U3ls9Pes"
      },
      "source": [
        "Results above indicate that our search for recommended operating systems for software devs yielded some posts from Hacker News that might be helpful in answering this question.\n",
        "\n",
        "**Interested in tuning the search results?**\n",
        "- Try using a different [Distance Metric](https://redis.io/docs/interact/search-and-query/search/vectors/#creation-attributes-per-algorithm)\n",
        "- Try using a different [Index Type](https://redis.io/docs/interact/search-and-query/search/vectors/#flat)"
      ]
    },
    {
      "cell_type": "markdown",
      "metadata": {
        "id": "OKFktSvG9sgN"
      },
      "source": [
        "### Retrieval Augmented Generation (RAG)\n",
        "\n",
        "**Retrieval Augmented Generation** (RAG), within the scope of Large Language Models (LLMs), is a technique that combines the knowledge of domain-specific data and generative models to enhance the production of contextually-rich question responses. In essence, *RAG* functions by retrieving relevant information from a knowledge base of documents or data before proceeding to generate a response. This allows generalized foundation models to gain access to these datasources at runtime, and is NOT the same thing as fine-tuning.\n",
        "\n",
        "RAG exploits the strengths of Redis as a low-latency vector database for efficient retrieval operations and Google's Vertex AI to generate a coherent text response. In LLM applications, RAG enables a deeper comprehension of context, returning highly nuanced responses, even to intricate queries. This pattern enhances the interactive capability of applications, delivering more precise and informative responses, thereby significantly enriching the user experience.\n"
      ]
    },
    {
      "cell_type": "markdown",
      "metadata": {
        "id": "DoZpAD8mFQjW"
      },
      "source": [
        "In order to build a RAG pipeline for question answering, we need to use Vertex PaLM API for text generation (`text-bison@001`)."
      ]
    },
    {
      "cell_type": "code",
      "execution_count": null,
      "metadata": {
        "colab": {
          "base_uri": "https://localhost:8080/"
        },
        "id": "EVwj7o5lFKy2",
        "outputId": "f5c9d1dd-5f7b-489d-fd9c-46e32153a5ee"
      },
      "outputs": [
        {
          "name": "stdout",
          "output_type": "stream",
          "text": [
            "Example response:\n",
            " A large language model (LLM) is a type of artificial intelligence (AI) model that can understand and generate human language. LLMs are trained on massive datasets of text and code, and they can learn to perform a wide variety of tasks, such as translating languages, writing different kinds of creative content, and answering your questions in an informative way.\n",
            "\n",
            "LLMs are still under development, but they have the potential to revolutionize many industries. For example, LLMs could be used to create more accurate and personalized customer service experiences, to help doctors diagnose and treat diseases, and to even write entire books and movies.\n",
            "\n",
            "\n"
          ]
        }
      ],
      "source": [
        "from vertexai.preview.language_models import TextGenerationModel\n",
        "\n",
        "# Define generation model\n",
        "generation_model = TextGenerationModel.from_pretrained(\"text-bison@001\")\n",
        "\n",
        "response = generation_model.predict(prompt=\"What is a large language model?\")\n",
        "\n",
        "print(\"Example response:\\n\", response.text)\n"
      ]
    },
    {
      "cell_type": "markdown",
      "metadata": {
        "id": "-YqvgImdFiAz"
      },
      "source": [
        "In order to be able to answer questions **while referencing domain-specific sources** (like our sample hackernews dataset), we must build a RAG pipeline:\n",
        "\n",
        "1. First perform **Semantic Search** with the user query on the knowledge base (stored in Redis) to find relevant sources that will help the language model answer and respond intelligently.\n",
        "\n",
        "2. The sources (called context) are \"stuffed\" into the prompt (input).\n",
        "\n",
        "3. Lastly, the full prompt is passed on to the language model for text generation."
      ]
    },
    {
      "cell_type": "code",
      "execution_count": null,
      "metadata": {
        "id": "NbMbVRgLGJbt"
      },
      "outputs": [],
      "source": [
        "def create_prompt(prompt_template: str, **kwargs) -> str:\n",
        "  return prompt_template.format(**kwargs)\n",
        "\n",
        "def rag(query: str, prompt: str, verbose: bool = True) -> str:\n",
        "    \"\"\"\n",
        "    Simple pipeline for performing retrieval augmented generation with\n",
        "    Google Vertex PaLM API and Redis Enterprise.\n",
        "    \"\"\"\n",
        "    # Perform a vector similarity search in Redis\n",
        "    if verbose:\n",
        "        print(\"Pulling relevant data sources from Redis\", flush=True)\n",
        "    relevant_sources = similarity_search(query, k=3, return_fields=(\"text\",))\n",
        "    if verbose:\n",
        "        print(\"Relevant sources found!\", flush=True)\n",
        "    # Combine the relevant sources and inject into the prompt\n",
        "    sources_text = \"-\" + \"\\n-\".join([source for source in relevant_sources.text.values])\n",
        "    full_prompt = create_prompt(\n",
        "        prompt_template=prompt,\n",
        "        sources=sources_text,\n",
        "        query=query\n",
        "      )\n",
        "    if verbose:\n",
        "        print(\"\\nFull prompt:\\n\\n\", full_prompt, flush=True)\n",
        "    # Perform text generation to get a response from PaLM API\n",
        "    response = generation_model.predict(prompt=full_prompt)\n",
        "    return response.text\n",
        "\n"
      ]
    },
    {
      "cell_type": "markdown",
      "metadata": {
        "id": "rHrLLAQcH5_e"
      },
      "source": [
        "Below is an example prompt template. Feel free to edit and tweak the initial sentence that sets the context for the language model to perform the action we are anticipating. The process of tuning and iterating on prompt design is widely refered to as \"*prompt engineering*\"."
      ]
    },
    {
      "cell_type": "code",
      "execution_count": null,
      "metadata": {
        "id": "dXP_pzQ0BJl_"
      },
      "outputs": [],
      "source": [
        "PROMPT = \"\"\"You are a helpful virtual technology and IT assistant. Use the hacker news posts below as relevant context and sources to help answer the user question. Don't blindly make things up.\n",
        "\n",
        "SOURCES:\n",
        "{sources}\n",
        "\n",
        "QUESTION:\n",
        "{query}?\n",
        "\n",
        "ANSWER:\"\"\"\n",
        "\n"
      ]
    },
    {
      "cell_type": "code",
      "execution_count": null,
      "metadata": {
        "colab": {
          "base_uri": "https://localhost:8080/"
        },
        "id": "g3iuL5eb9Wsm",
        "outputId": "52b061a0-34b0-4709-bd70-4b49e2f7e409"
      },
      "outputs": [
        {
          "name": "stdout",
          "output_type": "stream",
          "text": [
            "Pulling relevant data sources from Redis\n",
            "Relevant sources found!\n",
            "\n",
            "Full prompt:\n",
            "\n",
            " You are a helpful virtual technology and IT assistant. Use the hacker news posts below as relevant context and sources to help answer the user question. Don't blindly make things up.\n",
            "\n",
            "SOURCES:\n",
            "-I am looking for something analogous to osdev.org but for programming language development.\n",
            "-For personal projects, what&#x27;s your physical and software setup like? And what do you like to code in your spare time?\n",
            "-Now, you don't need to be an hardcore programmer to create your own custom Linux distro - thanks to the team at SUSE Studios anybody is able to rollout their custom Linux distro with own customizations, selection of software's and branding within minutes via a simple to use online interface.\n",
            "\n",
            "QUESTION:\n",
            "What are the best operating systems for software development??\n",
            "\n",
            "ANSWER:\n",
            "There is no one-size-fits-all answer to this question, as the best operating system for software development will vary depending on your individual needs and preferences. However, some of the most popular operating systems for software development include:\n",
            "\n",
            "* **Linux** - Linux is a free and open-source operating system that is known for its stability, security, and flexibility. It is a popular choice for software developers because it offers a wide range of development tools and support options.\n",
            "* **macOS** - macOS is a proprietary operating system developed by Apple. It is known for its user-friendly interface and its integration with other\n"
          ]
        }
      ],
      "source": [
        "query = \"What are the best operating systems for software development?\"\n",
        "response = rag(query=query, prompt=PROMPT)\n",
        "print(response)"
      ]
    },
    {
      "cell_type": "code",
      "execution_count": null,
      "metadata": {
        "colab": {
          "base_uri": "https://localhost:8080/"
        },
        "id": "GkTUofBRSOCy",
        "outputId": "9172c46a-6c3d-4410-d905-9b77a880261a"
      },
      "outputs": [
        {
          "name": "stdout",
          "output_type": "stream",
          "text": [
            "Pulling relevant data sources from Redis\n",
            "Relevant sources found!\n",
            "\n",
            "Full prompt:\n",
            "\n",
            " You are a helpful virtual technology and IT assistant. Use the hacker news posts below as relevant context and sources to help answer the user question. Don't blindly make things up.\n",
            "\n",
            "SOURCES:\n",
            "-Not a licensing question, but a developer experience question. Any pros and cons to call out ? Contributions process, commercial support, if any ?\n",
            "-Most often than not an attempt to introduce an open source product to an \"enterprise\" environment hits this, what I call, \"blame wall\". One of the typical arguments against OSS is \"if it fails, who do we blame?\".<p>What arguments do you use in these situations?\n",
            "-Between organizing and planning new ideas (idea boards), managing current projects, content scheduling, and daily to-do tasks, do you find it difficult to keep track of all of these tasks, or have you found a solution?\n",
            "\n",
            "QUESTION:\n",
            "What are some commonly reported problems with MacBooks and MacOS for software dev purposes??\n",
            "\n",
            "ANSWER:\n",
            "There are a few commonly reported problems with MacBooks and MacOS for software development purposes.\n",
            "\n",
            "* **The price:** MacBooks are generally more expensive than other laptops on the market. This can be a major deterrent for developers who are on a budget.\n",
            "* **The lack of ports:** MacBooks have a limited number of ports, which can make it difficult to connect to external devices.\n",
            "* **The battery life:** MacBooks have a relatively short battery life, which can be a problem for developers who need to work on their laptops for long periods of time.\n",
            "* **The software ecosystem:** MacOS is not as popular as\n"
          ]
        }
      ],
      "source": [
        "query = \"What are some commonly reported problems with MacBooks and MacOS for software dev purposes?\"\n",
        "response = rag(query=query, prompt=PROMPT)\n",
        "print(response)"
      ]
    },
    {
      "cell_type": "markdown",
      "metadata": {
        "id": "Rs-PweeYTjuE"
      },
      "source": [
        "Clearly this example dataset (hackernews) is not the only example we could work with and it 's certainly not \"production\" ready out of the gate. This is also only utilizing a subset (1000 records) of the actual data for teaching purposes.\n",
        "\n",
        "However, this example demonstrates how you can combine external sources of data and LLMs to surface more useful information."
      ]
    },
    {
      "cell_type": "markdown",
      "metadata": {
        "id": "FziAlkeg92U4"
      },
      "source": [
        "### LLM Caching\n",
        "\n",
        "**LLM Caching** is an advanced strategy used to optimize the performance of Large Language Model (LLM) applications. Utilizing the ultra-fast, in-memory data store of Redis, LLM Caching enables the storage and quick retrieval of pre-computed responses generated by Google's Vertex AI (PaLM). This means the computationally expensive process of response generation, especially for repetitive queries, is significantly reduced, resulting in faster response times and efficient resource utilization. This pairing of Google's powerful generative AI capabilities with Redis' high-performance caching system thus facilitates a more scalable and performant architecture for LLM applications, improving overall user experience and application reliability.\n",
        "\n",
        "There are primarily two modes of caching for LLMs:\n",
        "- Standard Caching\n",
        "- Semantic Caching"
      ]
    },
    {
      "cell_type": "markdown",
      "metadata": {
        "id": "r6YK-Y_hT4OD"
      },
      "source": [
        "#### Standard Caching\n",
        "\n",
        "Standard caching for LLMs involves simply matching an exact phrase or prompt that has been provided before. We can return the previously used response from the LLM in order to speed up the throughput of the system overall and reduce redundant computation."
      ]
    },
    {
      "cell_type": "code",
      "execution_count": null,
      "metadata": {
        "id": "FjOvOhJ2T3Wr"
      },
      "outputs": [],
      "source": [
        "# Some boiler plate helper methods\n",
        "import hashlib\n",
        "\n",
        "def hash_input(prefix: str, _input: str):\n",
        "    return prefix + hashlib.sha256(_input.encode(\"utf-8\")).hexdigest()\n",
        "\n",
        "def standard_check(key: str):\n",
        "  # function to perform a standard cache check\n",
        "    res = redis_client.hgetall(key)\n",
        "    if res:\n",
        "      return res[b'response'].decode('utf-8')\n",
        "\n",
        "def cache_response(query: str, response: str):\n",
        "    key = hash_input(\"llmcache:\", query)\n",
        "    redis_client.hset(key, mapping={\"prompt\": query, \"response\": response})\n",
        "\n",
        "# LLM Cache wrapper / decorator function\n",
        "def standard_llmcache(llm_callable):\n",
        "    def wrapper(*args, **kwargs):\n",
        "        # Check LLM Cache first\n",
        "        key = hash_input(\"llmcache:\", *args, **kwargs)\n",
        "        response = standard_check(key)\n",
        "        # Check if we have a cached response we can use\n",
        "        if response:\n",
        "            return response\n",
        "        # Otherwise execute the llm callable here\n",
        "        response = llm_callable(*args, **kwargs)\n",
        "        cache_response(query, response)\n",
        "        return response\n",
        "\n",
        "    return wrapper"
      ]
    },
    {
      "cell_type": "code",
      "execution_count": null,
      "metadata": {
        "id": "gmjOXe66T_nx"
      },
      "outputs": [],
      "source": [
        "# Define a function that invokes the PaLM API wrapped with a cache check\n",
        "\n",
        "@standard_llmcache\n",
        "def ask_palm(query: str):\n",
        "  prompt = PROMPT\n",
        "  response = rag(query, prompt, verbose=False)\n",
        "  return response"
      ]
    },
    {
      "cell_type": "code",
      "execution_count": null,
      "metadata": {
        "colab": {
          "base_uri": "https://localhost:8080/",
          "height": 128
        },
        "id": "L2enaTNcXCoM",
        "outputId": "289829af-f931-4c67-9b0b-d2753a7bb36a"
      },
      "outputs": [
        {
          "name": "stdout",
          "output_type": "stream",
          "text": [
            "CPU times: user 16.7 ms, sys: 119 µs, total: 16.8 ms\n",
            "Wall time: 1.24 s\n"
          ]
        },
        {
          "data": {
            "application/vnd.google.colaboratory.intrinsic+json": {
              "type": "string"
            },
            "text/plain": [
              "'There is no one-size-fits-all answer to this question, as the best operating system for software development will vary depending on your individual needs and preferences. However, some of the most popular operating systems for software development include:\\n\\n* **Linux** - Linux is a free and open-source operating system that is known for its stability, security, and flexibility. It is a popular choice for software developers because it offers a wide range of development tools and support options.\\n* **macOS** - macOS is a proprietary operating system developed by Apple. It is known for its user-friendly interface and its integration with other'"
            ]
          },
          "execution_count": 31,
          "metadata": {},
          "output_type": "execute_result"
        }
      ],
      "source": [
        "%%time\n",
        "\n",
        "query = \"What are the best operating systems for software development?\"\n",
        "\n",
        "ask_palm(query)"
      ]
    },
    {
      "cell_type": "markdown",
      "metadata": {
        "id": "hGE852RfXutZ"
      },
      "source": [
        "Now if we ask the same question again -- we should get the same response in near real-time."
      ]
    },
    {
      "cell_type": "code",
      "execution_count": null,
      "metadata": {
        "colab": {
          "base_uri": "https://localhost:8080/",
          "height": 128
        },
        "id": "ThheflkTXCzk",
        "outputId": "cc41531c-c90a-49fb-8cee-66583e0446dd"
      },
      "outputs": [
        {
          "name": "stdout",
          "output_type": "stream",
          "text": [
            "CPU times: user 1.12 ms, sys: 0 ns, total: 1.12 ms\n",
            "Wall time: 1.12 ms\n"
          ]
        },
        {
          "data": {
            "application/vnd.google.colaboratory.intrinsic+json": {
              "type": "string"
            },
            "text/plain": [
              "'There is no one-size-fits-all answer to this question, as the best operating system for software development will vary depending on your individual needs and preferences. However, some of the most popular operating systems for software development include:\\n\\n* **Linux** - Linux is a free and open-source operating system that is known for its stability, security, and flexibility. It is a popular choice for software developers because it offers a wide range of development tools and support options.\\n* **macOS** - macOS is a proprietary operating system developed by Apple. It is known for its user-friendly interface and its integration with other'"
            ]
          },
          "execution_count": 32,
          "metadata": {},
          "output_type": "execute_result"
        }
      ],
      "source": [
        "%%time\n",
        "\n",
        "ask_palm(query)"
      ]
    },
    {
      "cell_type": "markdown",
      "metadata": {
        "id": "SZVIhYqNXDAH"
      },
      "source": [
        "#### Semantic Caching\n",
        "Semantic caching builds off of the same concept as above, but takes advantage of Redis' vector database features to lookup smenatically similar prompts that have been applied before -- this makes it possible to cache responses of queries that are very similar in meaning, but not necessarily using the exact same words + phrases. This widens the \"hit rate\", making LLM caching even more effective in practice.\n",
        "\n",
        "**COMING SOON** -- we have a client tool/library in the works to best demonstrate this. But you can build your own using the functions and tools we've defined thus far."
      ]
    },
    {
      "cell_type": "markdown",
      "metadata": {
        "id": "P4Hl5U9O94ad"
      },
      "source": [
        "### Memory\n",
        "\n",
        "Giving your application access to \"memory\" for chat history is a common technique to improve the models ability to reason through recent or past conversations, gain context from previous answers, and thus provide a more accurate and acceptable response."
      ]
    },
    {
      "cell_type": "markdown",
      "metadata": {
        "id": "ud63DzBtfzUX"
      },
      "source": [
        "Below we setup simple helper functions to persist and load conversation history in a Redis List data structure."
      ]
    },
    {
      "cell_type": "code",
      "execution_count": null,
      "metadata": {
        "id": "1ph-e7eZcFsR"
      },
      "outputs": [],
      "source": [
        "import json\n",
        "\n",
        "def add_message(prompt: str, response: str):\n",
        "    msg = {\n",
        "        \"prompt\": prompt,\n",
        "        \"response\": response\n",
        "    }\n",
        "    redis_client.lpush(\"chat-history\", json.dumps(msg))\n",
        "\n",
        "def get_messages(k: int = 5):\n",
        "    return [json.loads(msg) for msg in redis_client.lrange(\"chat-history\", 0, k)]"
      ]
    },
    {
      "cell_type": "code",
      "execution_count": null,
      "metadata": {
        "id": "rYhrwdeWcFtz"
      },
      "outputs": [],
      "source": [
        "\n",
        "query = \"Do you have any advice for getting started in the tech field as a software dev?\"\n",
        "response = rag(query, PROMPT, verbose=False)\n",
        "\n",
        "print(response)\n",
        "\n",
        "add_message(query, response)"
      ]
    },
    {
      "cell_type": "code",
      "execution_count": null,
      "metadata": {
        "colab": {
          "base_uri": "https://localhost:8080/"
        },
        "id": "VGS8YktgcFwg",
        "outputId": "e47c4943-6e6c-428e-eb98-92bf48691ae7"
      },
      "outputs": [
        {
          "name": "stdout",
          "output_type": "stream",
          "text": [
            "I would recommend starting to apply for jobs as early as possible. This will give you a head start on the competition and allow you to start networking with potential employers. It is also important to start building your skills and experience as early as possible. This can be done by taking on internships, working on personal projects, and contributing to open source projects.\n"
          ]
        }
      ],
      "source": [
        "query = \"What if I am still in college, any tips there?\"\n",
        "response = rag(query, PROMPT, verbose=False)\n",
        "\n",
        "print(response)\n",
        "\n",
        "add_message(query, response)"
      ]
    },
    {
      "cell_type": "code",
      "execution_count": null,
      "metadata": {
        "colab": {
          "base_uri": "https://localhost:8080/"
        },
        "id": "BaHZR5htgwTZ",
        "outputId": "d1841647-7d26-4d4d-fad1-37abc58a86ac"
      },
      "outputs": [
        {
          "data": {
            "text/plain": [
              "[{'prompt': 'What if I am still in college, any tips there?',\n",
              "  'response': 'I would recommend starting to apply for jobs as early as possible. This will give you a head start on the competition and allow you to start networking with potential employers. It is also important to start building your skills and experience as early as possible. This can be done by taking on internships, working on personal projects, and contributing to open source projects.'},\n",
              " {'prompt': 'Do you have any advice for getting started in the tech field as a software dev?',\n",
              "  'response': 'There are a few things you can do to get started in the tech field as a software developer. First, you should learn the basics of programming. There are many resources available online to help you do this, such as tutorials, courses, and books. Once you have a basic understanding of programming, you can start working on your own projects. This will help you to build your skills and experience. You can also find work as a software developer intern. This will give you the opportunity to work on real projects and learn from experienced developers.'}]"
            ]
          },
          "execution_count": 49,
          "metadata": {},
          "output_type": "execute_result"
        }
      ],
      "source": [
        "get_messages()"
      ]
    },
    {
      "cell_type": "markdown",
      "metadata": {
        "id": "27gJ9J4Gg6R9"
      },
      "source": [
        "# Clean up"
      ]
    },
    {
      "cell_type": "code",
      "execution_count": null,
      "metadata": {
        "id": "IEFG_p2wibLm"
      },
      "outputs": [],
      "source": [
        "# Clean up bigquery\n",
        "bq.delete_table(TABLE_ID, not_found_ok=True)\n",
        "\n",
        "bq.delete_dataset(\n",
        "    DATASET_ID, delete_contents=True, not_found_ok=True\n",
        ")\n"
      ]
    },
    {
      "cell_type": "code",
      "execution_count": null,
      "metadata": {
        "colab": {
          "base_uri": "https://localhost:8080/"
        },
        "id": "MZ7MxqmViQTF",
        "outputId": "5b5ae70b-d1da-464a-fd48-322cbb063918"
      },
      "outputs": [
        {
          "name": "stdout",
          "output_type": "stream",
          "text": [
            "Starting redis-stack-server, database path /var/lib/redis-stack\n",
            "12178:C 13 Jul 2023 18:37:37.554 # oO0OoO0OoO0Oo Redis is starting oO0OoO0OoO0Oo\n",
            "12178:C 13 Jul 2023 18:37:37.555 # Redis version=7.0.0, bits=64, commit=00000000, modified=0, pid=12178, just started\n",
            "12178:C 13 Jul 2023 18:37:37.555 # Configuration loaded\n",
            "12178:M 13 Jul 2023 18:37:37.555 * monotonic clock: POSIX clock_gettime\n",
            "12178:M 13 Jul 2023 18:37:37.555 # Warning: Could not create server TCP listening socket *:6379: bind: Address already in use\n",
            "12178:M 13 Jul 2023 18:37:37.555 # Failed listening on port 6379 (TCP), aborting.\n"
          ]
        }
      ],
      "source": [
        "# Clean up redis\n",
        "!redis-stack-server stop"
      ]
    }
  ],
  "metadata": {
    "accelerator": "GPU",
    "colab": {
      "gpuType": "T4",
      "provenance": [],
      "toc_visible": true
    },
    "kernelspec": {
      "display_name": "Python 3",
      "name": "python3"
    },
    "language_info": {
      "name": "python"
    },
    "widgets": {
      "application/vnd.jupyter.widget-state+json": {
        "7f337cb8766e4012851ab060f64d59f3": {
          "model_module": "@jupyter-widgets/controls",
          "model_name": "HBoxModel",
          "model_module_version": "1.5.0",
          "state": {
            "_dom_classes": [],
            "_model_module": "@jupyter-widgets/controls",
            "_model_module_version": "1.5.0",
            "_model_name": "HBoxModel",
            "_view_count": null,
            "_view_module": "@jupyter-widgets/controls",
            "_view_module_version": "1.5.0",
            "_view_name": "HBoxView",
            "box_style": "",
            "children": [
              "IPY_MODEL_bffeae2565f54905a55466fee3bbe0f3",
              "IPY_MODEL_cbe3f1e4e1e443b395cbaeb908178bfc",
              "IPY_MODEL_ee21b38b5cdb48a58be5ee8ac7c5b6fe"
            ],
            "layout": "IPY_MODEL_6ee2089cdb174b599ad1a225aaec4f8e"
          }
        },
        "bffeae2565f54905a55466fee3bbe0f3": {
          "model_module": "@jupyter-widgets/controls",
          "model_name": "HTMLModel",
          "model_module_version": "1.5.0",
          "state": {
            "_dom_classes": [],
            "_model_module": "@jupyter-widgets/controls",
            "_model_module_version": "1.5.0",
            "_model_name": "HTMLModel",
            "_view_count": null,
            "_view_module": "@jupyter-widgets/controls",
            "_view_module_version": "1.5.0",
            "_view_name": "HTMLView",
            "description": "",
            "description_tooltip": null,
            "layout": "IPY_MODEL_8d3c85678c7b4777a39adfdf311303d4",
            "placeholder": "​",
            "style": "IPY_MODEL_c32e8d4deaf44a93830c20d9bf783a08",
            "value": ""
          }
        },
        "cbe3f1e4e1e443b395cbaeb908178bfc": {
          "model_module": "@jupyter-widgets/controls",
          "model_name": "FloatProgressModel",
          "model_module_version": "1.5.0",
          "state": {
            "_dom_classes": [],
            "_model_module": "@jupyter-widgets/controls",
            "_model_module_version": "1.5.0",
            "_model_name": "FloatProgressModel",
            "_view_count": null,
            "_view_module": "@jupyter-widgets/controls",
            "_view_module_version": "1.5.0",
            "_view_name": "ProgressView",
            "bar_style": "success",
            "description": "",
            "description_tooltip": null,
            "layout": "IPY_MODEL_fca685685bcc45df9bc9928d2e5ad69e",
            "max": 1,
            "min": 0,
            "orientation": "horizontal",
            "style": "IPY_MODEL_9cbc3858e35b4424acbd72e2e1cc5772",
            "value": 1
          }
        },
        "ee21b38b5cdb48a58be5ee8ac7c5b6fe": {
          "model_module": "@jupyter-widgets/controls",
          "model_name": "HTMLModel",
          "model_module_version": "1.5.0",
          "state": {
            "_dom_classes": [],
            "_model_module": "@jupyter-widgets/controls",
            "_model_module_version": "1.5.0",
            "_model_name": "HTMLModel",
            "_view_count": null,
            "_view_module": "@jupyter-widgets/controls",
            "_view_module_version": "1.5.0",
            "_view_name": "HTMLView",
            "description": "",
            "description_tooltip": null,
            "layout": "IPY_MODEL_11fe698f2d4e49149eacabfca39d94eb",
            "placeholder": "​",
            "style": "IPY_MODEL_865890914c5f41a4a7fbb930a23eb084",
            "value": " 10/? [01:59&lt;00:00, 11.76s/it]"
          }
        },
        "6ee2089cdb174b599ad1a225aaec4f8e": {
          "model_module": "@jupyter-widgets/base",
          "model_name": "LayoutModel",
          "model_module_version": "1.2.0",
          "state": {
            "_model_module": "@jupyter-widgets/base",
            "_model_module_version": "1.2.0",
            "_model_name": "LayoutModel",
            "_view_count": null,
            "_view_module": "@jupyter-widgets/base",
            "_view_module_version": "1.2.0",
            "_view_name": "LayoutView",
            "align_content": null,
            "align_items": null,
            "align_self": null,
            "border": null,
            "bottom": null,
            "display": null,
            "flex": null,
            "flex_flow": null,
            "grid_area": null,
            "grid_auto_columns": null,
            "grid_auto_flow": null,
            "grid_auto_rows": null,
            "grid_column": null,
            "grid_gap": null,
            "grid_row": null,
            "grid_template_areas": null,
            "grid_template_columns": null,
            "grid_template_rows": null,
            "height": null,
            "justify_content": null,
            "justify_items": null,
            "left": null,
            "margin": null,
            "max_height": null,
            "max_width": null,
            "min_height": null,
            "min_width": null,
            "object_fit": null,
            "object_position": null,
            "order": null,
            "overflow": null,
            "overflow_x": null,
            "overflow_y": null,
            "padding": null,
            "right": null,
            "top": null,
            "visibility": null,
            "width": null
          }
        },
        "8d3c85678c7b4777a39adfdf311303d4": {
          "model_module": "@jupyter-widgets/base",
          "model_name": "LayoutModel",
          "model_module_version": "1.2.0",
          "state": {
            "_model_module": "@jupyter-widgets/base",
            "_model_module_version": "1.2.0",
            "_model_name": "LayoutModel",
            "_view_count": null,
            "_view_module": "@jupyter-widgets/base",
            "_view_module_version": "1.2.0",
            "_view_name": "LayoutView",
            "align_content": null,
            "align_items": null,
            "align_self": null,
            "border": null,
            "bottom": null,
            "display": null,
            "flex": null,
            "flex_flow": null,
            "grid_area": null,
            "grid_auto_columns": null,
            "grid_auto_flow": null,
            "grid_auto_rows": null,
            "grid_column": null,
            "grid_gap": null,
            "grid_row": null,
            "grid_template_areas": null,
            "grid_template_columns": null,
            "grid_template_rows": null,
            "height": null,
            "justify_content": null,
            "justify_items": null,
            "left": null,
            "margin": null,
            "max_height": null,
            "max_width": null,
            "min_height": null,
            "min_width": null,
            "object_fit": null,
            "object_position": null,
            "order": null,
            "overflow": null,
            "overflow_x": null,
            "overflow_y": null,
            "padding": null,
            "right": null,
            "top": null,
            "visibility": null,
            "width": null
          }
        },
        "c32e8d4deaf44a93830c20d9bf783a08": {
          "model_module": "@jupyter-widgets/controls",
          "model_name": "DescriptionStyleModel",
          "model_module_version": "1.5.0",
          "state": {
            "_model_module": "@jupyter-widgets/controls",
            "_model_module_version": "1.5.0",
            "_model_name": "DescriptionStyleModel",
            "_view_count": null,
            "_view_module": "@jupyter-widgets/base",
            "_view_module_version": "1.2.0",
            "_view_name": "StyleView",
            "description_width": ""
          }
        },
        "fca685685bcc45df9bc9928d2e5ad69e": {
          "model_module": "@jupyter-widgets/base",
          "model_name": "LayoutModel",
          "model_module_version": "1.2.0",
          "state": {
            "_model_module": "@jupyter-widgets/base",
            "_model_module_version": "1.2.0",
            "_model_name": "LayoutModel",
            "_view_count": null,
            "_view_module": "@jupyter-widgets/base",
            "_view_module_version": "1.2.0",
            "_view_name": "LayoutView",
            "align_content": null,
            "align_items": null,
            "align_self": null,
            "border": null,
            "bottom": null,
            "display": null,
            "flex": null,
            "flex_flow": null,
            "grid_area": null,
            "grid_auto_columns": null,
            "grid_auto_flow": null,
            "grid_auto_rows": null,
            "grid_column": null,
            "grid_gap": null,
            "grid_row": null,
            "grid_template_areas": null,
            "grid_template_columns": null,
            "grid_template_rows": null,
            "height": null,
            "justify_content": null,
            "justify_items": null,
            "left": null,
            "margin": null,
            "max_height": null,
            "max_width": null,
            "min_height": null,
            "min_width": null,
            "object_fit": null,
            "object_position": null,
            "order": null,
            "overflow": null,
            "overflow_x": null,
            "overflow_y": null,
            "padding": null,
            "right": null,
            "top": null,
            "visibility": null,
            "width": "20px"
          }
        },
        "9cbc3858e35b4424acbd72e2e1cc5772": {
          "model_module": "@jupyter-widgets/controls",
          "model_name": "ProgressStyleModel",
          "model_module_version": "1.5.0",
          "state": {
            "_model_module": "@jupyter-widgets/controls",
            "_model_module_version": "1.5.0",
            "_model_name": "ProgressStyleModel",
            "_view_count": null,
            "_view_module": "@jupyter-widgets/base",
            "_view_module_version": "1.2.0",
            "_view_name": "StyleView",
            "bar_color": null,
            "description_width": ""
          }
        },
        "11fe698f2d4e49149eacabfca39d94eb": {
          "model_module": "@jupyter-widgets/base",
          "model_name": "LayoutModel",
          "model_module_version": "1.2.0",
          "state": {
            "_model_module": "@jupyter-widgets/base",
            "_model_module_version": "1.2.0",
            "_model_name": "LayoutModel",
            "_view_count": null,
            "_view_module": "@jupyter-widgets/base",
            "_view_module_version": "1.2.0",
            "_view_name": "LayoutView",
            "align_content": null,
            "align_items": null,
            "align_self": null,
            "border": null,
            "bottom": null,
            "display": null,
            "flex": null,
            "flex_flow": null,
            "grid_area": null,
            "grid_auto_columns": null,
            "grid_auto_flow": null,
            "grid_auto_rows": null,
            "grid_column": null,
            "grid_gap": null,
            "grid_row": null,
            "grid_template_areas": null,
            "grid_template_columns": null,
            "grid_template_rows": null,
            "height": null,
            "justify_content": null,
            "justify_items": null,
            "left": null,
            "margin": null,
            "max_height": null,
            "max_width": null,
            "min_height": null,
            "min_width": null,
            "object_fit": null,
            "object_position": null,
            "order": null,
            "overflow": null,
            "overflow_x": null,
            "overflow_y": null,
            "padding": null,
            "right": null,
            "top": null,
            "visibility": null,
            "width": null
          }
        },
        "865890914c5f41a4a7fbb930a23eb084": {
          "model_module": "@jupyter-widgets/controls",
          "model_name": "DescriptionStyleModel",
          "model_module_version": "1.5.0",
          "state": {
            "_model_module": "@jupyter-widgets/controls",
            "_model_module_version": "1.5.0",
            "_model_name": "DescriptionStyleModel",
            "_view_count": null,
            "_view_module": "@jupyter-widgets/base",
            "_view_module_version": "1.2.0",
            "_view_name": "StyleView",
            "description_width": ""
          }
        },
        "e86f33da48a44bccb05208cae3594ab5": {
          "model_module": "@jupyter-widgets/controls",
          "model_name": "HBoxModel",
          "model_module_version": "1.5.0",
          "state": {
            "_dom_classes": [],
            "_model_module": "@jupyter-widgets/controls",
            "_model_module_version": "1.5.0",
            "_model_name": "HBoxModel",
            "_view_count": null,
            "_view_module": "@jupyter-widgets/controls",
            "_view_module_version": "1.5.0",
            "_view_name": "HBoxView",
            "box_style": "",
            "children": [
              "IPY_MODEL_1d797dcde49047d2846e100ddaec54e7",
              "IPY_MODEL_7f4ad3948df84cee8e08e9fac55f52d3",
              "IPY_MODEL_d1192bfe059a4ed8bd32fd3a981afa07"
            ],
            "layout": "IPY_MODEL_2665353ed42b49ed9361ea18e9bc2641"
          }
        },
        "1d797dcde49047d2846e100ddaec54e7": {
          "model_module": "@jupyter-widgets/controls",
          "model_name": "HTMLModel",
          "model_module_version": "1.5.0",
          "state": {
            "_dom_classes": [],
            "_model_module": "@jupyter-widgets/controls",
            "_model_module_version": "1.5.0",
            "_model_name": "HTMLModel",
            "_view_count": null,
            "_view_module": "@jupyter-widgets/controls",
            "_view_module_version": "1.5.0",
            "_view_name": "HTMLView",
            "description": "",
            "description_tooltip": null,
            "layout": "IPY_MODEL_24d9fd3bc23743598a47c92d2c3ca424",
            "placeholder": "​",
            "style": "IPY_MODEL_fe446e378f6d431d84d0c5bd12c66a5b",
            "value": "100%"
          }
        },
        "7f4ad3948df84cee8e08e9fac55f52d3": {
          "model_module": "@jupyter-widgets/controls",
          "model_name": "FloatProgressModel",
          "model_module_version": "1.5.0",
          "state": {
            "_dom_classes": [],
            "_model_module": "@jupyter-widgets/controls",
            "_model_module_version": "1.5.0",
            "_model_name": "FloatProgressModel",
            "_view_count": null,
            "_view_module": "@jupyter-widgets/controls",
            "_view_module_version": "1.5.0",
            "_view_name": "ProgressView",
            "bar_style": "success",
            "description": "",
            "description_tooltip": null,
            "layout": "IPY_MODEL_c9d1eda88be04ee5b03ca20321c880ec",
            "max": 100,
            "min": 0,
            "orientation": "horizontal",
            "style": "IPY_MODEL_3218952988fb471bae69fdacf8304e34",
            "value": 100
          }
        },
        "d1192bfe059a4ed8bd32fd3a981afa07": {
          "model_module": "@jupyter-widgets/controls",
          "model_name": "HTMLModel",
          "model_module_version": "1.5.0",
          "state": {
            "_dom_classes": [],
            "_model_module": "@jupyter-widgets/controls",
            "_model_module_version": "1.5.0",
            "_model_name": "HTMLModel",
            "_view_count": null,
            "_view_module": "@jupyter-widgets/controls",
            "_view_module_version": "1.5.0",
            "_view_name": "HTMLView",
            "description": "",
            "description_tooltip": null,
            "layout": "IPY_MODEL_5e5d292f6e2a4495b1f8f8a62b0fc45f",
            "placeholder": "​",
            "style": "IPY_MODEL_305816179aad45789e93980a3bf1c3ff",
            "value": " 100/100 [00:00&lt;00:00, 5363.97it/s]"
          }
        },
        "2665353ed42b49ed9361ea18e9bc2641": {
          "model_module": "@jupyter-widgets/base",
          "model_name": "LayoutModel",
          "model_module_version": "1.2.0",
          "state": {
            "_model_module": "@jupyter-widgets/base",
            "_model_module_version": "1.2.0",
            "_model_name": "LayoutModel",
            "_view_count": null,
            "_view_module": "@jupyter-widgets/base",
            "_view_module_version": "1.2.0",
            "_view_name": "LayoutView",
            "align_content": null,
            "align_items": null,
            "align_self": null,
            "border": null,
            "bottom": null,
            "display": null,
            "flex": null,
            "flex_flow": null,
            "grid_area": null,
            "grid_auto_columns": null,
            "grid_auto_flow": null,
            "grid_auto_rows": null,
            "grid_column": null,
            "grid_gap": null,
            "grid_row": null,
            "grid_template_areas": null,
            "grid_template_columns": null,
            "grid_template_rows": null,
            "height": null,
            "justify_content": null,
            "justify_items": null,
            "left": null,
            "margin": null,
            "max_height": null,
            "max_width": null,
            "min_height": null,
            "min_width": null,
            "object_fit": null,
            "object_position": null,
            "order": null,
            "overflow": null,
            "overflow_x": null,
            "overflow_y": null,
            "padding": null,
            "right": null,
            "top": null,
            "visibility": null,
            "width": null
          }
        },
        "24d9fd3bc23743598a47c92d2c3ca424": {
          "model_module": "@jupyter-widgets/base",
          "model_name": "LayoutModel",
          "model_module_version": "1.2.0",
          "state": {
            "_model_module": "@jupyter-widgets/base",
            "_model_module_version": "1.2.0",
            "_model_name": "LayoutModel",
            "_view_count": null,
            "_view_module": "@jupyter-widgets/base",
            "_view_module_version": "1.2.0",
            "_view_name": "LayoutView",
            "align_content": null,
            "align_items": null,
            "align_self": null,
            "border": null,
            "bottom": null,
            "display": null,
            "flex": null,
            "flex_flow": null,
            "grid_area": null,
            "grid_auto_columns": null,
            "grid_auto_flow": null,
            "grid_auto_rows": null,
            "grid_column": null,
            "grid_gap": null,
            "grid_row": null,
            "grid_template_areas": null,
            "grid_template_columns": null,
            "grid_template_rows": null,
            "height": null,
            "justify_content": null,
            "justify_items": null,
            "left": null,
            "margin": null,
            "max_height": null,
            "max_width": null,
            "min_height": null,
            "min_width": null,
            "object_fit": null,
            "object_position": null,
            "order": null,
            "overflow": null,
            "overflow_x": null,
            "overflow_y": null,
            "padding": null,
            "right": null,
            "top": null,
            "visibility": null,
            "width": null
          }
        },
        "fe446e378f6d431d84d0c5bd12c66a5b": {
          "model_module": "@jupyter-widgets/controls",
          "model_name": "DescriptionStyleModel",
          "model_module_version": "1.5.0",
          "state": {
            "_model_module": "@jupyter-widgets/controls",
            "_model_module_version": "1.5.0",
            "_model_name": "DescriptionStyleModel",
            "_view_count": null,
            "_view_module": "@jupyter-widgets/base",
            "_view_module_version": "1.2.0",
            "_view_name": "StyleView",
            "description_width": ""
          }
        },
        "c9d1eda88be04ee5b03ca20321c880ec": {
          "model_module": "@jupyter-widgets/base",
          "model_name": "LayoutModel",
          "model_module_version": "1.2.0",
          "state": {
            "_model_module": "@jupyter-widgets/base",
            "_model_module_version": "1.2.0",
            "_model_name": "LayoutModel",
            "_view_count": null,
            "_view_module": "@jupyter-widgets/base",
            "_view_module_version": "1.2.0",
            "_view_name": "LayoutView",
            "align_content": null,
            "align_items": null,
            "align_self": null,
            "border": null,
            "bottom": null,
            "display": null,
            "flex": null,
            "flex_flow": null,
            "grid_area": null,
            "grid_auto_columns": null,
            "grid_auto_flow": null,
            "grid_auto_rows": null,
            "grid_column": null,
            "grid_gap": null,
            "grid_row": null,
            "grid_template_areas": null,
            "grid_template_columns": null,
            "grid_template_rows": null,
            "height": null,
            "justify_content": null,
            "justify_items": null,
            "left": null,
            "margin": null,
            "max_height": null,
            "max_width": null,
            "min_height": null,
            "min_width": null,
            "object_fit": null,
            "object_position": null,
            "order": null,
            "overflow": null,
            "overflow_x": null,
            "overflow_y": null,
            "padding": null,
            "right": null,
            "top": null,
            "visibility": null,
            "width": null
          }
        },
        "3218952988fb471bae69fdacf8304e34": {
          "model_module": "@jupyter-widgets/controls",
          "model_name": "ProgressStyleModel",
          "model_module_version": "1.5.0",
          "state": {
            "_model_module": "@jupyter-widgets/controls",
            "_model_module_version": "1.5.0",
            "_model_name": "ProgressStyleModel",
            "_view_count": null,
            "_view_module": "@jupyter-widgets/base",
            "_view_module_version": "1.2.0",
            "_view_name": "StyleView",
            "bar_color": null,
            "description_width": ""
          }
        },
        "5e5d292f6e2a4495b1f8f8a62b0fc45f": {
          "model_module": "@jupyter-widgets/base",
          "model_name": "LayoutModel",
          "model_module_version": "1.2.0",
          "state": {
            "_model_module": "@jupyter-widgets/base",
            "_model_module_version": "1.2.0",
            "_model_name": "LayoutModel",
            "_view_count": null,
            "_view_module": "@jupyter-widgets/base",
            "_view_module_version": "1.2.0",
            "_view_name": "LayoutView",
            "align_content": null,
            "align_items": null,
            "align_self": null,
            "border": null,
            "bottom": null,
            "display": null,
            "flex": null,
            "flex_flow": null,
            "grid_area": null,
            "grid_auto_columns": null,
            "grid_auto_flow": null,
            "grid_auto_rows": null,
            "grid_column": null,
            "grid_gap": null,
            "grid_row": null,
            "grid_template_areas": null,
            "grid_template_columns": null,
            "grid_template_rows": null,
            "height": null,
            "justify_content": null,
            "justify_items": null,
            "left": null,
            "margin": null,
            "max_height": null,
            "max_width": null,
            "min_height": null,
            "min_width": null,
            "object_fit": null,
            "object_position": null,
            "order": null,
            "overflow": null,
            "overflow_x": null,
            "overflow_y": null,
            "padding": null,
            "right": null,
            "top": null,
            "visibility": null,
            "width": null
          }
        },
        "305816179aad45789e93980a3bf1c3ff": {
          "model_module": "@jupyter-widgets/controls",
          "model_name": "DescriptionStyleModel",
          "model_module_version": "1.5.0",
          "state": {
            "_model_module": "@jupyter-widgets/controls",
            "_model_module_version": "1.5.0",
            "_model_name": "DescriptionStyleModel",
            "_view_count": null,
            "_view_module": "@jupyter-widgets/base",
            "_view_module_version": "1.2.0",
            "_view_name": "StyleView",
            "description_width": ""
          }
        },
        "1afed1bc3235405fa18646fc42aa0312": {
          "model_module": "@jupyter-widgets/controls",
          "model_name": "HBoxModel",
          "model_module_version": "1.5.0",
          "state": {
            "_dom_classes": [],
            "_model_module": "@jupyter-widgets/controls",
            "_model_module_version": "1.5.0",
            "_model_name": "HBoxModel",
            "_view_count": null,
            "_view_module": "@jupyter-widgets/controls",
            "_view_module_version": "1.5.0",
            "_view_name": "HBoxView",
            "box_style": "",
            "children": [
              "IPY_MODEL_77684d0f8a4e4bcfa40f3d9f01e7561d",
              "IPY_MODEL_0dd5561bda694275b14cc2bccdfd3424",
              "IPY_MODEL_67fdceec2cfb4402a2634cef35944893"
            ],
            "layout": "IPY_MODEL_37dc897145fc46588404a169715b1767"
          }
        },
        "77684d0f8a4e4bcfa40f3d9f01e7561d": {
          "model_module": "@jupyter-widgets/controls",
          "model_name": "HTMLModel",
          "model_module_version": "1.5.0",
          "state": {
            "_dom_classes": [],
            "_model_module": "@jupyter-widgets/controls",
            "_model_module_version": "1.5.0",
            "_model_name": "HTMLModel",
            "_view_count": null,
            "_view_module": "@jupyter-widgets/controls",
            "_view_module_version": "1.5.0",
            "_view_name": "HTMLView",
            "description": "",
            "description_tooltip": null,
            "layout": "IPY_MODEL_0baf847a474f40279ce59324a82a8598",
            "placeholder": "​",
            "style": "IPY_MODEL_205d7428062f4b24950be8940e60581e",
            "value": "100%"
          }
        },
        "0dd5561bda694275b14cc2bccdfd3424": {
          "model_module": "@jupyter-widgets/controls",
          "model_name": "FloatProgressModel",
          "model_module_version": "1.5.0",
          "state": {
            "_dom_classes": [],
            "_model_module": "@jupyter-widgets/controls",
            "_model_module_version": "1.5.0",
            "_model_name": "FloatProgressModel",
            "_view_count": null,
            "_view_module": "@jupyter-widgets/controls",
            "_view_module_version": "1.5.0",
            "_view_name": "ProgressView",
            "bar_style": "success",
            "description": "",
            "description_tooltip": null,
            "layout": "IPY_MODEL_3a6805055f3941c7a83be661f01c914c",
            "max": 100,
            "min": 0,
            "orientation": "horizontal",
            "style": "IPY_MODEL_9caf1a811f544386af90829567f1e739",
            "value": 100
          }
        },
        "67fdceec2cfb4402a2634cef35944893": {
          "model_module": "@jupyter-widgets/controls",
          "model_name": "HTMLModel",
          "model_module_version": "1.5.0",
          "state": {
            "_dom_classes": [],
            "_model_module": "@jupyter-widgets/controls",
            "_model_module_version": "1.5.0",
            "_model_name": "HTMLModel",
            "_view_count": null,
            "_view_module": "@jupyter-widgets/controls",
            "_view_module_version": "1.5.0",
            "_view_name": "HTMLView",
            "description": "",
            "description_tooltip": null,
            "layout": "IPY_MODEL_acd23f4a9491423aaf44a45c25c72336",
            "placeholder": "​",
            "style": "IPY_MODEL_706e779c87594356ad14673f8e27eadc",
            "value": " 100/100 [00:00&lt;00:00, 6242.92it/s]"
          }
        },
        "37dc897145fc46588404a169715b1767": {
          "model_module": "@jupyter-widgets/base",
          "model_name": "LayoutModel",
          "model_module_version": "1.2.0",
          "state": {
            "_model_module": "@jupyter-widgets/base",
            "_model_module_version": "1.2.0",
            "_model_name": "LayoutModel",
            "_view_count": null,
            "_view_module": "@jupyter-widgets/base",
            "_view_module_version": "1.2.0",
            "_view_name": "LayoutView",
            "align_content": null,
            "align_items": null,
            "align_self": null,
            "border": null,
            "bottom": null,
            "display": null,
            "flex": null,
            "flex_flow": null,
            "grid_area": null,
            "grid_auto_columns": null,
            "grid_auto_flow": null,
            "grid_auto_rows": null,
            "grid_column": null,
            "grid_gap": null,
            "grid_row": null,
            "grid_template_areas": null,
            "grid_template_columns": null,
            "grid_template_rows": null,
            "height": null,
            "justify_content": null,
            "justify_items": null,
            "left": null,
            "margin": null,
            "max_height": null,
            "max_width": null,
            "min_height": null,
            "min_width": null,
            "object_fit": null,
            "object_position": null,
            "order": null,
            "overflow": null,
            "overflow_x": null,
            "overflow_y": null,
            "padding": null,
            "right": null,
            "top": null,
            "visibility": null,
            "width": null
          }
        },
        "0baf847a474f40279ce59324a82a8598": {
          "model_module": "@jupyter-widgets/base",
          "model_name": "LayoutModel",
          "model_module_version": "1.2.0",
          "state": {
            "_model_module": "@jupyter-widgets/base",
            "_model_module_version": "1.2.0",
            "_model_name": "LayoutModel",
            "_view_count": null,
            "_view_module": "@jupyter-widgets/base",
            "_view_module_version": "1.2.0",
            "_view_name": "LayoutView",
            "align_content": null,
            "align_items": null,
            "align_self": null,
            "border": null,
            "bottom": null,
            "display": null,
            "flex": null,
            "flex_flow": null,
            "grid_area": null,
            "grid_auto_columns": null,
            "grid_auto_flow": null,
            "grid_auto_rows": null,
            "grid_column": null,
            "grid_gap": null,
            "grid_row": null,
            "grid_template_areas": null,
            "grid_template_columns": null,
            "grid_template_rows": null,
            "height": null,
            "justify_content": null,
            "justify_items": null,
            "left": null,
            "margin": null,
            "max_height": null,
            "max_width": null,
            "min_height": null,
            "min_width": null,
            "object_fit": null,
            "object_position": null,
            "order": null,
            "overflow": null,
            "overflow_x": null,
            "overflow_y": null,
            "padding": null,
            "right": null,
            "top": null,
            "visibility": null,
            "width": null
          }
        },
        "205d7428062f4b24950be8940e60581e": {
          "model_module": "@jupyter-widgets/controls",
          "model_name": "DescriptionStyleModel",
          "model_module_version": "1.5.0",
          "state": {
            "_model_module": "@jupyter-widgets/controls",
            "_model_module_version": "1.5.0",
            "_model_name": "DescriptionStyleModel",
            "_view_count": null,
            "_view_module": "@jupyter-widgets/base",
            "_view_module_version": "1.2.0",
            "_view_name": "StyleView",
            "description_width": ""
          }
        },
        "3a6805055f3941c7a83be661f01c914c": {
          "model_module": "@jupyter-widgets/base",
          "model_name": "LayoutModel",
          "model_module_version": "1.2.0",
          "state": {
            "_model_module": "@jupyter-widgets/base",
            "_model_module_version": "1.2.0",
            "_model_name": "LayoutModel",
            "_view_count": null,
            "_view_module": "@jupyter-widgets/base",
            "_view_module_version": "1.2.0",
            "_view_name": "LayoutView",
            "align_content": null,
            "align_items": null,
            "align_self": null,
            "border": null,
            "bottom": null,
            "display": null,
            "flex": null,
            "flex_flow": null,
            "grid_area": null,
            "grid_auto_columns": null,
            "grid_auto_flow": null,
            "grid_auto_rows": null,
            "grid_column": null,
            "grid_gap": null,
            "grid_row": null,
            "grid_template_areas": null,
            "grid_template_columns": null,
            "grid_template_rows": null,
            "height": null,
            "justify_content": null,
            "justify_items": null,
            "left": null,
            "margin": null,
            "max_height": null,
            "max_width": null,
            "min_height": null,
            "min_width": null,
            "object_fit": null,
            "object_position": null,
            "order": null,
            "overflow": null,
            "overflow_x": null,
            "overflow_y": null,
            "padding": null,
            "right": null,
            "top": null,
            "visibility": null,
            "width": null
          }
        },
        "9caf1a811f544386af90829567f1e739": {
          "model_module": "@jupyter-widgets/controls",
          "model_name": "ProgressStyleModel",
          "model_module_version": "1.5.0",
          "state": {
            "_model_module": "@jupyter-widgets/controls",
            "_model_module_version": "1.5.0",
            "_model_name": "ProgressStyleModel",
            "_view_count": null,
            "_view_module": "@jupyter-widgets/base",
            "_view_module_version": "1.2.0",
            "_view_name": "StyleView",
            "bar_color": null,
            "description_width": ""
          }
        },
        "acd23f4a9491423aaf44a45c25c72336": {
          "model_module": "@jupyter-widgets/base",
          "model_name": "LayoutModel",
          "model_module_version": "1.2.0",
          "state": {
            "_model_module": "@jupyter-widgets/base",
            "_model_module_version": "1.2.0",
            "_model_name": "LayoutModel",
            "_view_count": null,
            "_view_module": "@jupyter-widgets/base",
            "_view_module_version": "1.2.0",
            "_view_name": "LayoutView",
            "align_content": null,
            "align_items": null,
            "align_self": null,
            "border": null,
            "bottom": null,
            "display": null,
            "flex": null,
            "flex_flow": null,
            "grid_area": null,
            "grid_auto_columns": null,
            "grid_auto_flow": null,
            "grid_auto_rows": null,
            "grid_column": null,
            "grid_gap": null,
            "grid_row": null,
            "grid_template_areas": null,
            "grid_template_columns": null,
            "grid_template_rows": null,
            "height": null,
            "justify_content": null,
            "justify_items": null,
            "left": null,
            "margin": null,
            "max_height": null,
            "max_width": null,
            "min_height": null,
            "min_width": null,
            "object_fit": null,
            "object_position": null,
            "order": null,
            "overflow": null,
            "overflow_x": null,
            "overflow_y": null,
            "padding": null,
            "right": null,
            "top": null,
            "visibility": null,
            "width": null
          }
        },
        "706e779c87594356ad14673f8e27eadc": {
          "model_module": "@jupyter-widgets/controls",
          "model_name": "DescriptionStyleModel",
          "model_module_version": "1.5.0",
          "state": {
            "_model_module": "@jupyter-widgets/controls",
            "_model_module_version": "1.5.0",
            "_model_name": "DescriptionStyleModel",
            "_view_count": null,
            "_view_module": "@jupyter-widgets/base",
            "_view_module_version": "1.2.0",
            "_view_name": "StyleView",
            "description_width": ""
          }
        },
        "2c27623e290e484cbdeca0e9521cfa90": {
          "model_module": "@jupyter-widgets/controls",
          "model_name": "HBoxModel",
          "model_module_version": "1.5.0",
          "state": {
            "_dom_classes": [],
            "_model_module": "@jupyter-widgets/controls",
            "_model_module_version": "1.5.0",
            "_model_name": "HBoxModel",
            "_view_count": null,
            "_view_module": "@jupyter-widgets/controls",
            "_view_module_version": "1.5.0",
            "_view_name": "HBoxView",
            "box_style": "",
            "children": [
              "IPY_MODEL_01cbcb4df38e4267a61bd8a03f6992d7",
              "IPY_MODEL_bac7da271ee448f7afa5c38ff6e6264c",
              "IPY_MODEL_880fe15b844644b9a8ed63eb92e75f98"
            ],
            "layout": "IPY_MODEL_5547ac01e4224fc9a6c3750e511fd889"
          }
        },
        "01cbcb4df38e4267a61bd8a03f6992d7": {
          "model_module": "@jupyter-widgets/controls",
          "model_name": "HTMLModel",
          "model_module_version": "1.5.0",
          "state": {
            "_dom_classes": [],
            "_model_module": "@jupyter-widgets/controls",
            "_model_module_version": "1.5.0",
            "_model_name": "HTMLModel",
            "_view_count": null,
            "_view_module": "@jupyter-widgets/controls",
            "_view_module_version": "1.5.0",
            "_view_name": "HTMLView",
            "description": "",
            "description_tooltip": null,
            "layout": "IPY_MODEL_c0adedaeca4c4d61bf2d5107d98eb6e6",
            "placeholder": "​",
            "style": "IPY_MODEL_ece02cb9b29242c28eedc9ed3a30c8f4",
            "value": "100%"
          }
        },
        "bac7da271ee448f7afa5c38ff6e6264c": {
          "model_module": "@jupyter-widgets/controls",
          "model_name": "FloatProgressModel",
          "model_module_version": "1.5.0",
          "state": {
            "_dom_classes": [],
            "_model_module": "@jupyter-widgets/controls",
            "_model_module_version": "1.5.0",
            "_model_name": "FloatProgressModel",
            "_view_count": null,
            "_view_module": "@jupyter-widgets/controls",
            "_view_module_version": "1.5.0",
            "_view_name": "ProgressView",
            "bar_style": "success",
            "description": "",
            "description_tooltip": null,
            "layout": "IPY_MODEL_f4d1b4a98c06445ebc236fafca9b0fce",
            "max": 100,
            "min": 0,
            "orientation": "horizontal",
            "style": "IPY_MODEL_836c8c57d071431c92f78d175ac84c7b",
            "value": 100
          }
        },
        "880fe15b844644b9a8ed63eb92e75f98": {
          "model_module": "@jupyter-widgets/controls",
          "model_name": "HTMLModel",
          "model_module_version": "1.5.0",
          "state": {
            "_dom_classes": [],
            "_model_module": "@jupyter-widgets/controls",
            "_model_module_version": "1.5.0",
            "_model_name": "HTMLModel",
            "_view_count": null,
            "_view_module": "@jupyter-widgets/controls",
            "_view_module_version": "1.5.0",
            "_view_name": "HTMLView",
            "description": "",
            "description_tooltip": null,
            "layout": "IPY_MODEL_8b4558c0b295493b9f4c2d6fd96ace4a",
            "placeholder": "​",
            "style": "IPY_MODEL_cdf5b2974c4a47cc955771e66ced9779",
            "value": " 100/100 [00:00&lt;00:00, 4776.57it/s]"
          }
        },
        "5547ac01e4224fc9a6c3750e511fd889": {
          "model_module": "@jupyter-widgets/base",
          "model_name": "LayoutModel",
          "model_module_version": "1.2.0",
          "state": {
            "_model_module": "@jupyter-widgets/base",
            "_model_module_version": "1.2.0",
            "_model_name": "LayoutModel",
            "_view_count": null,
            "_view_module": "@jupyter-widgets/base",
            "_view_module_version": "1.2.0",
            "_view_name": "LayoutView",
            "align_content": null,
            "align_items": null,
            "align_self": null,
            "border": null,
            "bottom": null,
            "display": null,
            "flex": null,
            "flex_flow": null,
            "grid_area": null,
            "grid_auto_columns": null,
            "grid_auto_flow": null,
            "grid_auto_rows": null,
            "grid_column": null,
            "grid_gap": null,
            "grid_row": null,
            "grid_template_areas": null,
            "grid_template_columns": null,
            "grid_template_rows": null,
            "height": null,
            "justify_content": null,
            "justify_items": null,
            "left": null,
            "margin": null,
            "max_height": null,
            "max_width": null,
            "min_height": null,
            "min_width": null,
            "object_fit": null,
            "object_position": null,
            "order": null,
            "overflow": null,
            "overflow_x": null,
            "overflow_y": null,
            "padding": null,
            "right": null,
            "top": null,
            "visibility": null,
            "width": null
          }
        },
        "c0adedaeca4c4d61bf2d5107d98eb6e6": {
          "model_module": "@jupyter-widgets/base",
          "model_name": "LayoutModel",
          "model_module_version": "1.2.0",
          "state": {
            "_model_module": "@jupyter-widgets/base",
            "_model_module_version": "1.2.0",
            "_model_name": "LayoutModel",
            "_view_count": null,
            "_view_module": "@jupyter-widgets/base",
            "_view_module_version": "1.2.0",
            "_view_name": "LayoutView",
            "align_content": null,
            "align_items": null,
            "align_self": null,
            "border": null,
            "bottom": null,
            "display": null,
            "flex": null,
            "flex_flow": null,
            "grid_area": null,
            "grid_auto_columns": null,
            "grid_auto_flow": null,
            "grid_auto_rows": null,
            "grid_column": null,
            "grid_gap": null,
            "grid_row": null,
            "grid_template_areas": null,
            "grid_template_columns": null,
            "grid_template_rows": null,
            "height": null,
            "justify_content": null,
            "justify_items": null,
            "left": null,
            "margin": null,
            "max_height": null,
            "max_width": null,
            "min_height": null,
            "min_width": null,
            "object_fit": null,
            "object_position": null,
            "order": null,
            "overflow": null,
            "overflow_x": null,
            "overflow_y": null,
            "padding": null,
            "right": null,
            "top": null,
            "visibility": null,
            "width": null
          }
        },
        "ece02cb9b29242c28eedc9ed3a30c8f4": {
          "model_module": "@jupyter-widgets/controls",
          "model_name": "DescriptionStyleModel",
          "model_module_version": "1.5.0",
          "state": {
            "_model_module": "@jupyter-widgets/controls",
            "_model_module_version": "1.5.0",
            "_model_name": "DescriptionStyleModel",
            "_view_count": null,
            "_view_module": "@jupyter-widgets/base",
            "_view_module_version": "1.2.0",
            "_view_name": "StyleView",
            "description_width": ""
          }
        },
        "f4d1b4a98c06445ebc236fafca9b0fce": {
          "model_module": "@jupyter-widgets/base",
          "model_name": "LayoutModel",
          "model_module_version": "1.2.0",
          "state": {
            "_model_module": "@jupyter-widgets/base",
            "_model_module_version": "1.2.0",
            "_model_name": "LayoutModel",
            "_view_count": null,
            "_view_module": "@jupyter-widgets/base",
            "_view_module_version": "1.2.0",
            "_view_name": "LayoutView",
            "align_content": null,
            "align_items": null,
            "align_self": null,
            "border": null,
            "bottom": null,
            "display": null,
            "flex": null,
            "flex_flow": null,
            "grid_area": null,
            "grid_auto_columns": null,
            "grid_auto_flow": null,
            "grid_auto_rows": null,
            "grid_column": null,
            "grid_gap": null,
            "grid_row": null,
            "grid_template_areas": null,
            "grid_template_columns": null,
            "grid_template_rows": null,
            "height": null,
            "justify_content": null,
            "justify_items": null,
            "left": null,
            "margin": null,
            "max_height": null,
            "max_width": null,
            "min_height": null,
            "min_width": null,
            "object_fit": null,
            "object_position": null,
            "order": null,
            "overflow": null,
            "overflow_x": null,
            "overflow_y": null,
            "padding": null,
            "right": null,
            "top": null,
            "visibility": null,
            "width": null
          }
        },
        "836c8c57d071431c92f78d175ac84c7b": {
          "model_module": "@jupyter-widgets/controls",
          "model_name": "ProgressStyleModel",
          "model_module_version": "1.5.0",
          "state": {
            "_model_module": "@jupyter-widgets/controls",
            "_model_module_version": "1.5.0",
            "_model_name": "ProgressStyleModel",
            "_view_count": null,
            "_view_module": "@jupyter-widgets/base",
            "_view_module_version": "1.2.0",
            "_view_name": "StyleView",
            "bar_color": null,
            "description_width": ""
          }
        },
        "8b4558c0b295493b9f4c2d6fd96ace4a": {
          "model_module": "@jupyter-widgets/base",
          "model_name": "LayoutModel",
          "model_module_version": "1.2.0",
          "state": {
            "_model_module": "@jupyter-widgets/base",
            "_model_module_version": "1.2.0",
            "_model_name": "LayoutModel",
            "_view_count": null,
            "_view_module": "@jupyter-widgets/base",
            "_view_module_version": "1.2.0",
            "_view_name": "LayoutView",
            "align_content": null,
            "align_items": null,
            "align_self": null,
            "border": null,
            "bottom": null,
            "display": null,
            "flex": null,
            "flex_flow": null,
            "grid_area": null,
            "grid_auto_columns": null,
            "grid_auto_flow": null,
            "grid_auto_rows": null,
            "grid_column": null,
            "grid_gap": null,
            "grid_row": null,
            "grid_template_areas": null,
            "grid_template_columns": null,
            "grid_template_rows": null,
            "height": null,
            "justify_content": null,
            "justify_items": null,
            "left": null,
            "margin": null,
            "max_height": null,
            "max_width": null,
            "min_height": null,
            "min_width": null,
            "object_fit": null,
            "object_position": null,
            "order": null,
            "overflow": null,
            "overflow_x": null,
            "overflow_y": null,
            "padding": null,
            "right": null,
            "top": null,
            "visibility": null,
            "width": null
          }
        },
        "cdf5b2974c4a47cc955771e66ced9779": {
          "model_module": "@jupyter-widgets/controls",
          "model_name": "DescriptionStyleModel",
          "model_module_version": "1.5.0",
          "state": {
            "_model_module": "@jupyter-widgets/controls",
            "_model_module_version": "1.5.0",
            "_model_name": "DescriptionStyleModel",
            "_view_count": null,
            "_view_module": "@jupyter-widgets/base",
            "_view_module_version": "1.2.0",
            "_view_name": "StyleView",
            "description_width": ""
          }
        },
        "24cf9f1f4ac44defbf62a7de4dea8c13": {
          "model_module": "@jupyter-widgets/controls",
          "model_name": "HBoxModel",
          "model_module_version": "1.5.0",
          "state": {
            "_dom_classes": [],
            "_model_module": "@jupyter-widgets/controls",
            "_model_module_version": "1.5.0",
            "_model_name": "HBoxModel",
            "_view_count": null,
            "_view_module": "@jupyter-widgets/controls",
            "_view_module_version": "1.5.0",
            "_view_name": "HBoxView",
            "box_style": "",
            "children": [
              "IPY_MODEL_29507d85531945e9a83aa48eaed67786",
              "IPY_MODEL_36d18c4b3aec40a29b18e00af627b5a8",
              "IPY_MODEL_c1976066aa9e4ff2a6b8955f8728d2df"
            ],
            "layout": "IPY_MODEL_1b51406e66b445e6949e840b1c692c2c"
          }
        },
        "29507d85531945e9a83aa48eaed67786": {
          "model_module": "@jupyter-widgets/controls",
          "model_name": "HTMLModel",
          "model_module_version": "1.5.0",
          "state": {
            "_dom_classes": [],
            "_model_module": "@jupyter-widgets/controls",
            "_model_module_version": "1.5.0",
            "_model_name": "HTMLModel",
            "_view_count": null,
            "_view_module": "@jupyter-widgets/controls",
            "_view_module_version": "1.5.0",
            "_view_name": "HTMLView",
            "description": "",
            "description_tooltip": null,
            "layout": "IPY_MODEL_6a1ed36d26994c69add252622dcf952a",
            "placeholder": "​",
            "style": "IPY_MODEL_32379a1e72074905985c6ec26993adbf",
            "value": "100%"
          }
        },
        "36d18c4b3aec40a29b18e00af627b5a8": {
          "model_module": "@jupyter-widgets/controls",
          "model_name": "FloatProgressModel",
          "model_module_version": "1.5.0",
          "state": {
            "_dom_classes": [],
            "_model_module": "@jupyter-widgets/controls",
            "_model_module_version": "1.5.0",
            "_model_name": "FloatProgressModel",
            "_view_count": null,
            "_view_module": "@jupyter-widgets/controls",
            "_view_module_version": "1.5.0",
            "_view_name": "ProgressView",
            "bar_style": "success",
            "description": "",
            "description_tooltip": null,
            "layout": "IPY_MODEL_db847e784f4f41efb826084b2e390667",
            "max": 100,
            "min": 0,
            "orientation": "horizontal",
            "style": "IPY_MODEL_ccfaee55d076492799e7ce9ad74b3daf",
            "value": 100
          }
        },
        "c1976066aa9e4ff2a6b8955f8728d2df": {
          "model_module": "@jupyter-widgets/controls",
          "model_name": "HTMLModel",
          "model_module_version": "1.5.0",
          "state": {
            "_dom_classes": [],
            "_model_module": "@jupyter-widgets/controls",
            "_model_module_version": "1.5.0",
            "_model_name": "HTMLModel",
            "_view_count": null,
            "_view_module": "@jupyter-widgets/controls",
            "_view_module_version": "1.5.0",
            "_view_name": "HTMLView",
            "description": "",
            "description_tooltip": null,
            "layout": "IPY_MODEL_fe21542172d042a8a993e4fc5d7cd0bf",
            "placeholder": "​",
            "style": "IPY_MODEL_5d962394071c41299a0b093e5a2edfe7",
            "value": " 100/100 [00:00&lt;00:00, 3860.59it/s]"
          }
        },
        "1b51406e66b445e6949e840b1c692c2c": {
          "model_module": "@jupyter-widgets/base",
          "model_name": "LayoutModel",
          "model_module_version": "1.2.0",
          "state": {
            "_model_module": "@jupyter-widgets/base",
            "_model_module_version": "1.2.0",
            "_model_name": "LayoutModel",
            "_view_count": null,
            "_view_module": "@jupyter-widgets/base",
            "_view_module_version": "1.2.0",
            "_view_name": "LayoutView",
            "align_content": null,
            "align_items": null,
            "align_self": null,
            "border": null,
            "bottom": null,
            "display": null,
            "flex": null,
            "flex_flow": null,
            "grid_area": null,
            "grid_auto_columns": null,
            "grid_auto_flow": null,
            "grid_auto_rows": null,
            "grid_column": null,
            "grid_gap": null,
            "grid_row": null,
            "grid_template_areas": null,
            "grid_template_columns": null,
            "grid_template_rows": null,
            "height": null,
            "justify_content": null,
            "justify_items": null,
            "left": null,
            "margin": null,
            "max_height": null,
            "max_width": null,
            "min_height": null,
            "min_width": null,
            "object_fit": null,
            "object_position": null,
            "order": null,
            "overflow": null,
            "overflow_x": null,
            "overflow_y": null,
            "padding": null,
            "right": null,
            "top": null,
            "visibility": null,
            "width": null
          }
        },
        "6a1ed36d26994c69add252622dcf952a": {
          "model_module": "@jupyter-widgets/base",
          "model_name": "LayoutModel",
          "model_module_version": "1.2.0",
          "state": {
            "_model_module": "@jupyter-widgets/base",
            "_model_module_version": "1.2.0",
            "_model_name": "LayoutModel",
            "_view_count": null,
            "_view_module": "@jupyter-widgets/base",
            "_view_module_version": "1.2.0",
            "_view_name": "LayoutView",
            "align_content": null,
            "align_items": null,
            "align_self": null,
            "border": null,
            "bottom": null,
            "display": null,
            "flex": null,
            "flex_flow": null,
            "grid_area": null,
            "grid_auto_columns": null,
            "grid_auto_flow": null,
            "grid_auto_rows": null,
            "grid_column": null,
            "grid_gap": null,
            "grid_row": null,
            "grid_template_areas": null,
            "grid_template_columns": null,
            "grid_template_rows": null,
            "height": null,
            "justify_content": null,
            "justify_items": null,
            "left": null,
            "margin": null,
            "max_height": null,
            "max_width": null,
            "min_height": null,
            "min_width": null,
            "object_fit": null,
            "object_position": null,
            "order": null,
            "overflow": null,
            "overflow_x": null,
            "overflow_y": null,
            "padding": null,
            "right": null,
            "top": null,
            "visibility": null,
            "width": null
          }
        },
        "32379a1e72074905985c6ec26993adbf": {
          "model_module": "@jupyter-widgets/controls",
          "model_name": "DescriptionStyleModel",
          "model_module_version": "1.5.0",
          "state": {
            "_model_module": "@jupyter-widgets/controls",
            "_model_module_version": "1.5.0",
            "_model_name": "DescriptionStyleModel",
            "_view_count": null,
            "_view_module": "@jupyter-widgets/base",
            "_view_module_version": "1.2.0",
            "_view_name": "StyleView",
            "description_width": ""
          }
        },
        "db847e784f4f41efb826084b2e390667": {
          "model_module": "@jupyter-widgets/base",
          "model_name": "LayoutModel",
          "model_module_version": "1.2.0",
          "state": {
            "_model_module": "@jupyter-widgets/base",
            "_model_module_version": "1.2.0",
            "_model_name": "LayoutModel",
            "_view_count": null,
            "_view_module": "@jupyter-widgets/base",
            "_view_module_version": "1.2.0",
            "_view_name": "LayoutView",
            "align_content": null,
            "align_items": null,
            "align_self": null,
            "border": null,
            "bottom": null,
            "display": null,
            "flex": null,
            "flex_flow": null,
            "grid_area": null,
            "grid_auto_columns": null,
            "grid_auto_flow": null,
            "grid_auto_rows": null,
            "grid_column": null,
            "grid_gap": null,
            "grid_row": null,
            "grid_template_areas": null,
            "grid_template_columns": null,
            "grid_template_rows": null,
            "height": null,
            "justify_content": null,
            "justify_items": null,
            "left": null,
            "margin": null,
            "max_height": null,
            "max_width": null,
            "min_height": null,
            "min_width": null,
            "object_fit": null,
            "object_position": null,
            "order": null,
            "overflow": null,
            "overflow_x": null,
            "overflow_y": null,
            "padding": null,
            "right": null,
            "top": null,
            "visibility": null,
            "width": null
          }
        },
        "ccfaee55d076492799e7ce9ad74b3daf": {
          "model_module": "@jupyter-widgets/controls",
          "model_name": "ProgressStyleModel",
          "model_module_version": "1.5.0",
          "state": {
            "_model_module": "@jupyter-widgets/controls",
            "_model_module_version": "1.5.0",
            "_model_name": "ProgressStyleModel",
            "_view_count": null,
            "_view_module": "@jupyter-widgets/base",
            "_view_module_version": "1.2.0",
            "_view_name": "StyleView",
            "bar_color": null,
            "description_width": ""
          }
        },
        "fe21542172d042a8a993e4fc5d7cd0bf": {
          "model_module": "@jupyter-widgets/base",
          "model_name": "LayoutModel",
          "model_module_version": "1.2.0",
          "state": {
            "_model_module": "@jupyter-widgets/base",
            "_model_module_version": "1.2.0",
            "_model_name": "LayoutModel",
            "_view_count": null,
            "_view_module": "@jupyter-widgets/base",
            "_view_module_version": "1.2.0",
            "_view_name": "LayoutView",
            "align_content": null,
            "align_items": null,
            "align_self": null,
            "border": null,
            "bottom": null,
            "display": null,
            "flex": null,
            "flex_flow": null,
            "grid_area": null,
            "grid_auto_columns": null,
            "grid_auto_flow": null,
            "grid_auto_rows": null,
            "grid_column": null,
            "grid_gap": null,
            "grid_row": null,
            "grid_template_areas": null,
            "grid_template_columns": null,
            "grid_template_rows": null,
            "height": null,
            "justify_content": null,
            "justify_items": null,
            "left": null,
            "margin": null,
            "max_height": null,
            "max_width": null,
            "min_height": null,
            "min_width": null,
            "object_fit": null,
            "object_position": null,
            "order": null,
            "overflow": null,
            "overflow_x": null,
            "overflow_y": null,
            "padding": null,
            "right": null,
            "top": null,
            "visibility": null,
            "width": null
          }
        },
        "5d962394071c41299a0b093e5a2edfe7": {
          "model_module": "@jupyter-widgets/controls",
          "model_name": "DescriptionStyleModel",
          "model_module_version": "1.5.0",
          "state": {
            "_model_module": "@jupyter-widgets/controls",
            "_model_module_version": "1.5.0",
            "_model_name": "DescriptionStyleModel",
            "_view_count": null,
            "_view_module": "@jupyter-widgets/base",
            "_view_module_version": "1.2.0",
            "_view_name": "StyleView",
            "description_width": ""
          }
        },
        "94dea4d6771847f087f3e846d438dc18": {
          "model_module": "@jupyter-widgets/controls",
          "model_name": "HBoxModel",
          "model_module_version": "1.5.0",
          "state": {
            "_dom_classes": [],
            "_model_module": "@jupyter-widgets/controls",
            "_model_module_version": "1.5.0",
            "_model_name": "HBoxModel",
            "_view_count": null,
            "_view_module": "@jupyter-widgets/controls",
            "_view_module_version": "1.5.0",
            "_view_name": "HBoxView",
            "box_style": "",
            "children": [
              "IPY_MODEL_000771e5a61141dc9df5ce3328e6f4e3",
              "IPY_MODEL_493be9989fa84126b1fa711c393a44fb",
              "IPY_MODEL_471955246eb44fc997b29ab10c400781"
            ],
            "layout": "IPY_MODEL_b352e5c0f24341ba982b6024809c9d40"
          }
        },
        "000771e5a61141dc9df5ce3328e6f4e3": {
          "model_module": "@jupyter-widgets/controls",
          "model_name": "HTMLModel",
          "model_module_version": "1.5.0",
          "state": {
            "_dom_classes": [],
            "_model_module": "@jupyter-widgets/controls",
            "_model_module_version": "1.5.0",
            "_model_name": "HTMLModel",
            "_view_count": null,
            "_view_module": "@jupyter-widgets/controls",
            "_view_module_version": "1.5.0",
            "_view_name": "HTMLView",
            "description": "",
            "description_tooltip": null,
            "layout": "IPY_MODEL_d7641bcec13c4920be0f0638c44b9461",
            "placeholder": "​",
            "style": "IPY_MODEL_c1d409e9ede741fdb4017d09b6e34a20",
            "value": "100%"
          }
        },
        "493be9989fa84126b1fa711c393a44fb": {
          "model_module": "@jupyter-widgets/controls",
          "model_name": "FloatProgressModel",
          "model_module_version": "1.5.0",
          "state": {
            "_dom_classes": [],
            "_model_module": "@jupyter-widgets/controls",
            "_model_module_version": "1.5.0",
            "_model_name": "FloatProgressModel",
            "_view_count": null,
            "_view_module": "@jupyter-widgets/controls",
            "_view_module_version": "1.5.0",
            "_view_name": "ProgressView",
            "bar_style": "success",
            "description": "",
            "description_tooltip": null,
            "layout": "IPY_MODEL_5c8e901d13ce4227ae270603923dffc8",
            "max": 100,
            "min": 0,
            "orientation": "horizontal",
            "style": "IPY_MODEL_714f9cbcbfc04d3a8fab850e16c94b82",
            "value": 100
          }
        },
        "471955246eb44fc997b29ab10c400781": {
          "model_module": "@jupyter-widgets/controls",
          "model_name": "HTMLModel",
          "model_module_version": "1.5.0",
          "state": {
            "_dom_classes": [],
            "_model_module": "@jupyter-widgets/controls",
            "_model_module_version": "1.5.0",
            "_model_name": "HTMLModel",
            "_view_count": null,
            "_view_module": "@jupyter-widgets/controls",
            "_view_module_version": "1.5.0",
            "_view_name": "HTMLView",
            "description": "",
            "description_tooltip": null,
            "layout": "IPY_MODEL_044d41a8df2d4d6fac881370f65e8ee4",
            "placeholder": "​",
            "style": "IPY_MODEL_bc2b5ea078794711acb010b71d334dbe",
            "value": " 100/100 [00:00&lt;00:00, 5698.24it/s]"
          }
        },
        "b352e5c0f24341ba982b6024809c9d40": {
          "model_module": "@jupyter-widgets/base",
          "model_name": "LayoutModel",
          "model_module_version": "1.2.0",
          "state": {
            "_model_module": "@jupyter-widgets/base",
            "_model_module_version": "1.2.0",
            "_model_name": "LayoutModel",
            "_view_count": null,
            "_view_module": "@jupyter-widgets/base",
            "_view_module_version": "1.2.0",
            "_view_name": "LayoutView",
            "align_content": null,
            "align_items": null,
            "align_self": null,
            "border": null,
            "bottom": null,
            "display": null,
            "flex": null,
            "flex_flow": null,
            "grid_area": null,
            "grid_auto_columns": null,
            "grid_auto_flow": null,
            "grid_auto_rows": null,
            "grid_column": null,
            "grid_gap": null,
            "grid_row": null,
            "grid_template_areas": null,
            "grid_template_columns": null,
            "grid_template_rows": null,
            "height": null,
            "justify_content": null,
            "justify_items": null,
            "left": null,
            "margin": null,
            "max_height": null,
            "max_width": null,
            "min_height": null,
            "min_width": null,
            "object_fit": null,
            "object_position": null,
            "order": null,
            "overflow": null,
            "overflow_x": null,
            "overflow_y": null,
            "padding": null,
            "right": null,
            "top": null,
            "visibility": null,
            "width": null
          }
        },
        "d7641bcec13c4920be0f0638c44b9461": {
          "model_module": "@jupyter-widgets/base",
          "model_name": "LayoutModel",
          "model_module_version": "1.2.0",
          "state": {
            "_model_module": "@jupyter-widgets/base",
            "_model_module_version": "1.2.0",
            "_model_name": "LayoutModel",
            "_view_count": null,
            "_view_module": "@jupyter-widgets/base",
            "_view_module_version": "1.2.0",
            "_view_name": "LayoutView",
            "align_content": null,
            "align_items": null,
            "align_self": null,
            "border": null,
            "bottom": null,
            "display": null,
            "flex": null,
            "flex_flow": null,
            "grid_area": null,
            "grid_auto_columns": null,
            "grid_auto_flow": null,
            "grid_auto_rows": null,
            "grid_column": null,
            "grid_gap": null,
            "grid_row": null,
            "grid_template_areas": null,
            "grid_template_columns": null,
            "grid_template_rows": null,
            "height": null,
            "justify_content": null,
            "justify_items": null,
            "left": null,
            "margin": null,
            "max_height": null,
            "max_width": null,
            "min_height": null,
            "min_width": null,
            "object_fit": null,
            "object_position": null,
            "order": null,
            "overflow": null,
            "overflow_x": null,
            "overflow_y": null,
            "padding": null,
            "right": null,
            "top": null,
            "visibility": null,
            "width": null
          }
        },
        "c1d409e9ede741fdb4017d09b6e34a20": {
          "model_module": "@jupyter-widgets/controls",
          "model_name": "DescriptionStyleModel",
          "model_module_version": "1.5.0",
          "state": {
            "_model_module": "@jupyter-widgets/controls",
            "_model_module_version": "1.5.0",
            "_model_name": "DescriptionStyleModel",
            "_view_count": null,
            "_view_module": "@jupyter-widgets/base",
            "_view_module_version": "1.2.0",
            "_view_name": "StyleView",
            "description_width": ""
          }
        },
        "5c8e901d13ce4227ae270603923dffc8": {
          "model_module": "@jupyter-widgets/base",
          "model_name": "LayoutModel",
          "model_module_version": "1.2.0",
          "state": {
            "_model_module": "@jupyter-widgets/base",
            "_model_module_version": "1.2.0",
            "_model_name": "LayoutModel",
            "_view_count": null,
            "_view_module": "@jupyter-widgets/base",
            "_view_module_version": "1.2.0",
            "_view_name": "LayoutView",
            "align_content": null,
            "align_items": null,
            "align_self": null,
            "border": null,
            "bottom": null,
            "display": null,
            "flex": null,
            "flex_flow": null,
            "grid_area": null,
            "grid_auto_columns": null,
            "grid_auto_flow": null,
            "grid_auto_rows": null,
            "grid_column": null,
            "grid_gap": null,
            "grid_row": null,
            "grid_template_areas": null,
            "grid_template_columns": null,
            "grid_template_rows": null,
            "height": null,
            "justify_content": null,
            "justify_items": null,
            "left": null,
            "margin": null,
            "max_height": null,
            "max_width": null,
            "min_height": null,
            "min_width": null,
            "object_fit": null,
            "object_position": null,
            "order": null,
            "overflow": null,
            "overflow_x": null,
            "overflow_y": null,
            "padding": null,
            "right": null,
            "top": null,
            "visibility": null,
            "width": null
          }
        },
        "714f9cbcbfc04d3a8fab850e16c94b82": {
          "model_module": "@jupyter-widgets/controls",
          "model_name": "ProgressStyleModel",
          "model_module_version": "1.5.0",
          "state": {
            "_model_module": "@jupyter-widgets/controls",
            "_model_module_version": "1.5.0",
            "_model_name": "ProgressStyleModel",
            "_view_count": null,
            "_view_module": "@jupyter-widgets/base",
            "_view_module_version": "1.2.0",
            "_view_name": "StyleView",
            "bar_color": null,
            "description_width": ""
          }
        },
        "044d41a8df2d4d6fac881370f65e8ee4": {
          "model_module": "@jupyter-widgets/base",
          "model_name": "LayoutModel",
          "model_module_version": "1.2.0",
          "state": {
            "_model_module": "@jupyter-widgets/base",
            "_model_module_version": "1.2.0",
            "_model_name": "LayoutModel",
            "_view_count": null,
            "_view_module": "@jupyter-widgets/base",
            "_view_module_version": "1.2.0",
            "_view_name": "LayoutView",
            "align_content": null,
            "align_items": null,
            "align_self": null,
            "border": null,
            "bottom": null,
            "display": null,
            "flex": null,
            "flex_flow": null,
            "grid_area": null,
            "grid_auto_columns": null,
            "grid_auto_flow": null,
            "grid_auto_rows": null,
            "grid_column": null,
            "grid_gap": null,
            "grid_row": null,
            "grid_template_areas": null,
            "grid_template_columns": null,
            "grid_template_rows": null,
            "height": null,
            "justify_content": null,
            "justify_items": null,
            "left": null,
            "margin": null,
            "max_height": null,
            "max_width": null,
            "min_height": null,
            "min_width": null,
            "object_fit": null,
            "object_position": null,
            "order": null,
            "overflow": null,
            "overflow_x": null,
            "overflow_y": null,
            "padding": null,
            "right": null,
            "top": null,
            "visibility": null,
            "width": null
          }
        },
        "bc2b5ea078794711acb010b71d334dbe": {
          "model_module": "@jupyter-widgets/controls",
          "model_name": "DescriptionStyleModel",
          "model_module_version": "1.5.0",
          "state": {
            "_model_module": "@jupyter-widgets/controls",
            "_model_module_version": "1.5.0",
            "_model_name": "DescriptionStyleModel",
            "_view_count": null,
            "_view_module": "@jupyter-widgets/base",
            "_view_module_version": "1.2.0",
            "_view_name": "StyleView",
            "description_width": ""
          }
        },
        "bb1df489fd16419b8c39891140c78785": {
          "model_module": "@jupyter-widgets/controls",
          "model_name": "HBoxModel",
          "model_module_version": "1.5.0",
          "state": {
            "_dom_classes": [],
            "_model_module": "@jupyter-widgets/controls",
            "_model_module_version": "1.5.0",
            "_model_name": "HBoxModel",
            "_view_count": null,
            "_view_module": "@jupyter-widgets/controls",
            "_view_module_version": "1.5.0",
            "_view_name": "HBoxView",
            "box_style": "",
            "children": [
              "IPY_MODEL_7c87cf65a5734be2bfbce70515f5f78b",
              "IPY_MODEL_d1e92e7b07264563a1b6ef3bdb2d6ddf",
              "IPY_MODEL_de5ea137d2fa4a19a2caa0b51a1f2c6c"
            ],
            "layout": "IPY_MODEL_6263802c404942afac637893541f1478"
          }
        },
        "7c87cf65a5734be2bfbce70515f5f78b": {
          "model_module": "@jupyter-widgets/controls",
          "model_name": "HTMLModel",
          "model_module_version": "1.5.0",
          "state": {
            "_dom_classes": [],
            "_model_module": "@jupyter-widgets/controls",
            "_model_module_version": "1.5.0",
            "_model_name": "HTMLModel",
            "_view_count": null,
            "_view_module": "@jupyter-widgets/controls",
            "_view_module_version": "1.5.0",
            "_view_name": "HTMLView",
            "description": "",
            "description_tooltip": null,
            "layout": "IPY_MODEL_5b0d05e6f73949248a82320ea083b2c5",
            "placeholder": "​",
            "style": "IPY_MODEL_5e7e4e45eb3d4d468b38b4191b7f3c9c",
            "value": "100%"
          }
        },
        "d1e92e7b07264563a1b6ef3bdb2d6ddf": {
          "model_module": "@jupyter-widgets/controls",
          "model_name": "FloatProgressModel",
          "model_module_version": "1.5.0",
          "state": {
            "_dom_classes": [],
            "_model_module": "@jupyter-widgets/controls",
            "_model_module_version": "1.5.0",
            "_model_name": "FloatProgressModel",
            "_view_count": null,
            "_view_module": "@jupyter-widgets/controls",
            "_view_module_version": "1.5.0",
            "_view_name": "ProgressView",
            "bar_style": "success",
            "description": "",
            "description_tooltip": null,
            "layout": "IPY_MODEL_338d1a7bcea74508a508db3a05042f66",
            "max": 100,
            "min": 0,
            "orientation": "horizontal",
            "style": "IPY_MODEL_5d74e259174447a49549cb2bf977ce7d",
            "value": 100
          }
        },
        "de5ea137d2fa4a19a2caa0b51a1f2c6c": {
          "model_module": "@jupyter-widgets/controls",
          "model_name": "HTMLModel",
          "model_module_version": "1.5.0",
          "state": {
            "_dom_classes": [],
            "_model_module": "@jupyter-widgets/controls",
            "_model_module_version": "1.5.0",
            "_model_name": "HTMLModel",
            "_view_count": null,
            "_view_module": "@jupyter-widgets/controls",
            "_view_module_version": "1.5.0",
            "_view_name": "HTMLView",
            "description": "",
            "description_tooltip": null,
            "layout": "IPY_MODEL_2c79ea906adb4c09a33e1be40ae75051",
            "placeholder": "​",
            "style": "IPY_MODEL_be291d2c321c4e219bd5499afe8eb205",
            "value": " 100/100 [00:00&lt;00:00, 5029.26it/s]"
          }
        },
        "6263802c404942afac637893541f1478": {
          "model_module": "@jupyter-widgets/base",
          "model_name": "LayoutModel",
          "model_module_version": "1.2.0",
          "state": {
            "_model_module": "@jupyter-widgets/base",
            "_model_module_version": "1.2.0",
            "_model_name": "LayoutModel",
            "_view_count": null,
            "_view_module": "@jupyter-widgets/base",
            "_view_module_version": "1.2.0",
            "_view_name": "LayoutView",
            "align_content": null,
            "align_items": null,
            "align_self": null,
            "border": null,
            "bottom": null,
            "display": null,
            "flex": null,
            "flex_flow": null,
            "grid_area": null,
            "grid_auto_columns": null,
            "grid_auto_flow": null,
            "grid_auto_rows": null,
            "grid_column": null,
            "grid_gap": null,
            "grid_row": null,
            "grid_template_areas": null,
            "grid_template_columns": null,
            "grid_template_rows": null,
            "height": null,
            "justify_content": null,
            "justify_items": null,
            "left": null,
            "margin": null,
            "max_height": null,
            "max_width": null,
            "min_height": null,
            "min_width": null,
            "object_fit": null,
            "object_position": null,
            "order": null,
            "overflow": null,
            "overflow_x": null,
            "overflow_y": null,
            "padding": null,
            "right": null,
            "top": null,
            "visibility": null,
            "width": null
          }
        },
        "5b0d05e6f73949248a82320ea083b2c5": {
          "model_module": "@jupyter-widgets/base",
          "model_name": "LayoutModel",
          "model_module_version": "1.2.0",
          "state": {
            "_model_module": "@jupyter-widgets/base",
            "_model_module_version": "1.2.0",
            "_model_name": "LayoutModel",
            "_view_count": null,
            "_view_module": "@jupyter-widgets/base",
            "_view_module_version": "1.2.0",
            "_view_name": "LayoutView",
            "align_content": null,
            "align_items": null,
            "align_self": null,
            "border": null,
            "bottom": null,
            "display": null,
            "flex": null,
            "flex_flow": null,
            "grid_area": null,
            "grid_auto_columns": null,
            "grid_auto_flow": null,
            "grid_auto_rows": null,
            "grid_column": null,
            "grid_gap": null,
            "grid_row": null,
            "grid_template_areas": null,
            "grid_template_columns": null,
            "grid_template_rows": null,
            "height": null,
            "justify_content": null,
            "justify_items": null,
            "left": null,
            "margin": null,
            "max_height": null,
            "max_width": null,
            "min_height": null,
            "min_width": null,
            "object_fit": null,
            "object_position": null,
            "order": null,
            "overflow": null,
            "overflow_x": null,
            "overflow_y": null,
            "padding": null,
            "right": null,
            "top": null,
            "visibility": null,
            "width": null
          }
        },
        "5e7e4e45eb3d4d468b38b4191b7f3c9c": {
          "model_module": "@jupyter-widgets/controls",
          "model_name": "DescriptionStyleModel",
          "model_module_version": "1.5.0",
          "state": {
            "_model_module": "@jupyter-widgets/controls",
            "_model_module_version": "1.5.0",
            "_model_name": "DescriptionStyleModel",
            "_view_count": null,
            "_view_module": "@jupyter-widgets/base",
            "_view_module_version": "1.2.0",
            "_view_name": "StyleView",
            "description_width": ""
          }
        },
        "338d1a7bcea74508a508db3a05042f66": {
          "model_module": "@jupyter-widgets/base",
          "model_name": "LayoutModel",
          "model_module_version": "1.2.0",
          "state": {
            "_model_module": "@jupyter-widgets/base",
            "_model_module_version": "1.2.0",
            "_model_name": "LayoutModel",
            "_view_count": null,
            "_view_module": "@jupyter-widgets/base",
            "_view_module_version": "1.2.0",
            "_view_name": "LayoutView",
            "align_content": null,
            "align_items": null,
            "align_self": null,
            "border": null,
            "bottom": null,
            "display": null,
            "flex": null,
            "flex_flow": null,
            "grid_area": null,
            "grid_auto_columns": null,
            "grid_auto_flow": null,
            "grid_auto_rows": null,
            "grid_column": null,
            "grid_gap": null,
            "grid_row": null,
            "grid_template_areas": null,
            "grid_template_columns": null,
            "grid_template_rows": null,
            "height": null,
            "justify_content": null,
            "justify_items": null,
            "left": null,
            "margin": null,
            "max_height": null,
            "max_width": null,
            "min_height": null,
            "min_width": null,
            "object_fit": null,
            "object_position": null,
            "order": null,
            "overflow": null,
            "overflow_x": null,
            "overflow_y": null,
            "padding": null,
            "right": null,
            "top": null,
            "visibility": null,
            "width": null
          }
        },
        "5d74e259174447a49549cb2bf977ce7d": {
          "model_module": "@jupyter-widgets/controls",
          "model_name": "ProgressStyleModel",
          "model_module_version": "1.5.0",
          "state": {
            "_model_module": "@jupyter-widgets/controls",
            "_model_module_version": "1.5.0",
            "_model_name": "ProgressStyleModel",
            "_view_count": null,
            "_view_module": "@jupyter-widgets/base",
            "_view_module_version": "1.2.0",
            "_view_name": "StyleView",
            "bar_color": null,
            "description_width": ""
          }
        },
        "2c79ea906adb4c09a33e1be40ae75051": {
          "model_module": "@jupyter-widgets/base",
          "model_name": "LayoutModel",
          "model_module_version": "1.2.0",
          "state": {
            "_model_module": "@jupyter-widgets/base",
            "_model_module_version": "1.2.0",
            "_model_name": "LayoutModel",
            "_view_count": null,
            "_view_module": "@jupyter-widgets/base",
            "_view_module_version": "1.2.0",
            "_view_name": "LayoutView",
            "align_content": null,
            "align_items": null,
            "align_self": null,
            "border": null,
            "bottom": null,
            "display": null,
            "flex": null,
            "flex_flow": null,
            "grid_area": null,
            "grid_auto_columns": null,
            "grid_auto_flow": null,
            "grid_auto_rows": null,
            "grid_column": null,
            "grid_gap": null,
            "grid_row": null,
            "grid_template_areas": null,
            "grid_template_columns": null,
            "grid_template_rows": null,
            "height": null,
            "justify_content": null,
            "justify_items": null,
            "left": null,
            "margin": null,
            "max_height": null,
            "max_width": null,
            "min_height": null,
            "min_width": null,
            "object_fit": null,
            "object_position": null,
            "order": null,
            "overflow": null,
            "overflow_x": null,
            "overflow_y": null,
            "padding": null,
            "right": null,
            "top": null,
            "visibility": null,
            "width": null
          }
        },
        "be291d2c321c4e219bd5499afe8eb205": {
          "model_module": "@jupyter-widgets/controls",
          "model_name": "DescriptionStyleModel",
          "model_module_version": "1.5.0",
          "state": {
            "_model_module": "@jupyter-widgets/controls",
            "_model_module_version": "1.5.0",
            "_model_name": "DescriptionStyleModel",
            "_view_count": null,
            "_view_module": "@jupyter-widgets/base",
            "_view_module_version": "1.2.0",
            "_view_name": "StyleView",
            "description_width": ""
          }
        },
        "a72e9a538ec14c2ca3a5ed350e98ad73": {
          "model_module": "@jupyter-widgets/controls",
          "model_name": "HBoxModel",
          "model_module_version": "1.5.0",
          "state": {
            "_dom_classes": [],
            "_model_module": "@jupyter-widgets/controls",
            "_model_module_version": "1.5.0",
            "_model_name": "HBoxModel",
            "_view_count": null,
            "_view_module": "@jupyter-widgets/controls",
            "_view_module_version": "1.5.0",
            "_view_name": "HBoxView",
            "box_style": "",
            "children": [
              "IPY_MODEL_bea3d49500fb472a8e53925a0d70ebd9",
              "IPY_MODEL_e44302a74ed44b08ae939ed4ee4bdb27",
              "IPY_MODEL_d6b4a302175c4187a0fbade1578121a4"
            ],
            "layout": "IPY_MODEL_0aee4087279e4fbab7aed36c1916e61c"
          }
        },
        "bea3d49500fb472a8e53925a0d70ebd9": {
          "model_module": "@jupyter-widgets/controls",
          "model_name": "HTMLModel",
          "model_module_version": "1.5.0",
          "state": {
            "_dom_classes": [],
            "_model_module": "@jupyter-widgets/controls",
            "_model_module_version": "1.5.0",
            "_model_name": "HTMLModel",
            "_view_count": null,
            "_view_module": "@jupyter-widgets/controls",
            "_view_module_version": "1.5.0",
            "_view_name": "HTMLView",
            "description": "",
            "description_tooltip": null,
            "layout": "IPY_MODEL_3798eb0c392e4674829a809dcefec46d",
            "placeholder": "​",
            "style": "IPY_MODEL_b375351bff474196a256ea1060a1ff41",
            "value": "100%"
          }
        },
        "e44302a74ed44b08ae939ed4ee4bdb27": {
          "model_module": "@jupyter-widgets/controls",
          "model_name": "FloatProgressModel",
          "model_module_version": "1.5.0",
          "state": {
            "_dom_classes": [],
            "_model_module": "@jupyter-widgets/controls",
            "_model_module_version": "1.5.0",
            "_model_name": "FloatProgressModel",
            "_view_count": null,
            "_view_module": "@jupyter-widgets/controls",
            "_view_module_version": "1.5.0",
            "_view_name": "ProgressView",
            "bar_style": "success",
            "description": "",
            "description_tooltip": null,
            "layout": "IPY_MODEL_e8e95cef1f8e45b8be1a31f2e0fb2bc2",
            "max": 100,
            "min": 0,
            "orientation": "horizontal",
            "style": "IPY_MODEL_e8d4b9dc348543d2b667418c0d3b7d4d",
            "value": 100
          }
        },
        "d6b4a302175c4187a0fbade1578121a4": {
          "model_module": "@jupyter-widgets/controls",
          "model_name": "HTMLModel",
          "model_module_version": "1.5.0",
          "state": {
            "_dom_classes": [],
            "_model_module": "@jupyter-widgets/controls",
            "_model_module_version": "1.5.0",
            "_model_name": "HTMLModel",
            "_view_count": null,
            "_view_module": "@jupyter-widgets/controls",
            "_view_module_version": "1.5.0",
            "_view_name": "HTMLView",
            "description": "",
            "description_tooltip": null,
            "layout": "IPY_MODEL_2620f815a83347a3a195bf1d22d1300c",
            "placeholder": "​",
            "style": "IPY_MODEL_0eccf688d02b477681bae8d4f0ac24f3",
            "value": " 100/100 [00:00&lt;00:00, 5729.92it/s]"
          }
        },
        "0aee4087279e4fbab7aed36c1916e61c": {
          "model_module": "@jupyter-widgets/base",
          "model_name": "LayoutModel",
          "model_module_version": "1.2.0",
          "state": {
            "_model_module": "@jupyter-widgets/base",
            "_model_module_version": "1.2.0",
            "_model_name": "LayoutModel",
            "_view_count": null,
            "_view_module": "@jupyter-widgets/base",
            "_view_module_version": "1.2.0",
            "_view_name": "LayoutView",
            "align_content": null,
            "align_items": null,
            "align_self": null,
            "border": null,
            "bottom": null,
            "display": null,
            "flex": null,
            "flex_flow": null,
            "grid_area": null,
            "grid_auto_columns": null,
            "grid_auto_flow": null,
            "grid_auto_rows": null,
            "grid_column": null,
            "grid_gap": null,
            "grid_row": null,
            "grid_template_areas": null,
            "grid_template_columns": null,
            "grid_template_rows": null,
            "height": null,
            "justify_content": null,
            "justify_items": null,
            "left": null,
            "margin": null,
            "max_height": null,
            "max_width": null,
            "min_height": null,
            "min_width": null,
            "object_fit": null,
            "object_position": null,
            "order": null,
            "overflow": null,
            "overflow_x": null,
            "overflow_y": null,
            "padding": null,
            "right": null,
            "top": null,
            "visibility": null,
            "width": null
          }
        },
        "3798eb0c392e4674829a809dcefec46d": {
          "model_module": "@jupyter-widgets/base",
          "model_name": "LayoutModel",
          "model_module_version": "1.2.0",
          "state": {
            "_model_module": "@jupyter-widgets/base",
            "_model_module_version": "1.2.0",
            "_model_name": "LayoutModel",
            "_view_count": null,
            "_view_module": "@jupyter-widgets/base",
            "_view_module_version": "1.2.0",
            "_view_name": "LayoutView",
            "align_content": null,
            "align_items": null,
            "align_self": null,
            "border": null,
            "bottom": null,
            "display": null,
            "flex": null,
            "flex_flow": null,
            "grid_area": null,
            "grid_auto_columns": null,
            "grid_auto_flow": null,
            "grid_auto_rows": null,
            "grid_column": null,
            "grid_gap": null,
            "grid_row": null,
            "grid_template_areas": null,
            "grid_template_columns": null,
            "grid_template_rows": null,
            "height": null,
            "justify_content": null,
            "justify_items": null,
            "left": null,
            "margin": null,
            "max_height": null,
            "max_width": null,
            "min_height": null,
            "min_width": null,
            "object_fit": null,
            "object_position": null,
            "order": null,
            "overflow": null,
            "overflow_x": null,
            "overflow_y": null,
            "padding": null,
            "right": null,
            "top": null,
            "visibility": null,
            "width": null
          }
        },
        "b375351bff474196a256ea1060a1ff41": {
          "model_module": "@jupyter-widgets/controls",
          "model_name": "DescriptionStyleModel",
          "model_module_version": "1.5.0",
          "state": {
            "_model_module": "@jupyter-widgets/controls",
            "_model_module_version": "1.5.0",
            "_model_name": "DescriptionStyleModel",
            "_view_count": null,
            "_view_module": "@jupyter-widgets/base",
            "_view_module_version": "1.2.0",
            "_view_name": "StyleView",
            "description_width": ""
          }
        },
        "e8e95cef1f8e45b8be1a31f2e0fb2bc2": {
          "model_module": "@jupyter-widgets/base",
          "model_name": "LayoutModel",
          "model_module_version": "1.2.0",
          "state": {
            "_model_module": "@jupyter-widgets/base",
            "_model_module_version": "1.2.0",
            "_model_name": "LayoutModel",
            "_view_count": null,
            "_view_module": "@jupyter-widgets/base",
            "_view_module_version": "1.2.0",
            "_view_name": "LayoutView",
            "align_content": null,
            "align_items": null,
            "align_self": null,
            "border": null,
            "bottom": null,
            "display": null,
            "flex": null,
            "flex_flow": null,
            "grid_area": null,
            "grid_auto_columns": null,
            "grid_auto_flow": null,
            "grid_auto_rows": null,
            "grid_column": null,
            "grid_gap": null,
            "grid_row": null,
            "grid_template_areas": null,
            "grid_template_columns": null,
            "grid_template_rows": null,
            "height": null,
            "justify_content": null,
            "justify_items": null,
            "left": null,
            "margin": null,
            "max_height": null,
            "max_width": null,
            "min_height": null,
            "min_width": null,
            "object_fit": null,
            "object_position": null,
            "order": null,
            "overflow": null,
            "overflow_x": null,
            "overflow_y": null,
            "padding": null,
            "right": null,
            "top": null,
            "visibility": null,
            "width": null
          }
        },
        "e8d4b9dc348543d2b667418c0d3b7d4d": {
          "model_module": "@jupyter-widgets/controls",
          "model_name": "ProgressStyleModel",
          "model_module_version": "1.5.0",
          "state": {
            "_model_module": "@jupyter-widgets/controls",
            "_model_module_version": "1.5.0",
            "_model_name": "ProgressStyleModel",
            "_view_count": null,
            "_view_module": "@jupyter-widgets/base",
            "_view_module_version": "1.2.0",
            "_view_name": "StyleView",
            "bar_color": null,
            "description_width": ""
          }
        },
        "2620f815a83347a3a195bf1d22d1300c": {
          "model_module": "@jupyter-widgets/base",
          "model_name": "LayoutModel",
          "model_module_version": "1.2.0",
          "state": {
            "_model_module": "@jupyter-widgets/base",
            "_model_module_version": "1.2.0",
            "_model_name": "LayoutModel",
            "_view_count": null,
            "_view_module": "@jupyter-widgets/base",
            "_view_module_version": "1.2.0",
            "_view_name": "LayoutView",
            "align_content": null,
            "align_items": null,
            "align_self": null,
            "border": null,
            "bottom": null,
            "display": null,
            "flex": null,
            "flex_flow": null,
            "grid_area": null,
            "grid_auto_columns": null,
            "grid_auto_flow": null,
            "grid_auto_rows": null,
            "grid_column": null,
            "grid_gap": null,
            "grid_row": null,
            "grid_template_areas": null,
            "grid_template_columns": null,
            "grid_template_rows": null,
            "height": null,
            "justify_content": null,
            "justify_items": null,
            "left": null,
            "margin": null,
            "max_height": null,
            "max_width": null,
            "min_height": null,
            "min_width": null,
            "object_fit": null,
            "object_position": null,
            "order": null,
            "overflow": null,
            "overflow_x": null,
            "overflow_y": null,
            "padding": null,
            "right": null,
            "top": null,
            "visibility": null,
            "width": null
          }
        },
        "0eccf688d02b477681bae8d4f0ac24f3": {
          "model_module": "@jupyter-widgets/controls",
          "model_name": "DescriptionStyleModel",
          "model_module_version": "1.5.0",
          "state": {
            "_model_module": "@jupyter-widgets/controls",
            "_model_module_version": "1.5.0",
            "_model_name": "DescriptionStyleModel",
            "_view_count": null,
            "_view_module": "@jupyter-widgets/base",
            "_view_module_version": "1.2.0",
            "_view_name": "StyleView",
            "description_width": ""
          }
        },
        "be691fbce4224777a8be5a4cd80cc6c9": {
          "model_module": "@jupyter-widgets/controls",
          "model_name": "HBoxModel",
          "model_module_version": "1.5.0",
          "state": {
            "_dom_classes": [],
            "_model_module": "@jupyter-widgets/controls",
            "_model_module_version": "1.5.0",
            "_model_name": "HBoxModel",
            "_view_count": null,
            "_view_module": "@jupyter-widgets/controls",
            "_view_module_version": "1.5.0",
            "_view_name": "HBoxView",
            "box_style": "",
            "children": [
              "IPY_MODEL_d462991441c24fc19e0fd019685f2daf",
              "IPY_MODEL_6e8392f2c5c747b1855dae6e24b02f4e",
              "IPY_MODEL_baa5f135e91c487ebd8c60a04bd80db1"
            ],
            "layout": "IPY_MODEL_9504ae5b2036433fab8484b6b817cf7b"
          }
        },
        "d462991441c24fc19e0fd019685f2daf": {
          "model_module": "@jupyter-widgets/controls",
          "model_name": "HTMLModel",
          "model_module_version": "1.5.0",
          "state": {
            "_dom_classes": [],
            "_model_module": "@jupyter-widgets/controls",
            "_model_module_version": "1.5.0",
            "_model_name": "HTMLModel",
            "_view_count": null,
            "_view_module": "@jupyter-widgets/controls",
            "_view_module_version": "1.5.0",
            "_view_name": "HTMLView",
            "description": "",
            "description_tooltip": null,
            "layout": "IPY_MODEL_d1d9c36b802f42a7a927ae131f48f70d",
            "placeholder": "​",
            "style": "IPY_MODEL_5b750103503a491ab0013312252cdf7c",
            "value": "100%"
          }
        },
        "6e8392f2c5c747b1855dae6e24b02f4e": {
          "model_module": "@jupyter-widgets/controls",
          "model_name": "FloatProgressModel",
          "model_module_version": "1.5.0",
          "state": {
            "_dom_classes": [],
            "_model_module": "@jupyter-widgets/controls",
            "_model_module_version": "1.5.0",
            "_model_name": "FloatProgressModel",
            "_view_count": null,
            "_view_module": "@jupyter-widgets/controls",
            "_view_module_version": "1.5.0",
            "_view_name": "ProgressView",
            "bar_style": "success",
            "description": "",
            "description_tooltip": null,
            "layout": "IPY_MODEL_0a1b1e6fca4f4b5893e86d1a7ad03182",
            "max": 100,
            "min": 0,
            "orientation": "horizontal",
            "style": "IPY_MODEL_9b245f8f958d49f6b6988a9e0f10c68a",
            "value": 100
          }
        },
        "baa5f135e91c487ebd8c60a04bd80db1": {
          "model_module": "@jupyter-widgets/controls",
          "model_name": "HTMLModel",
          "model_module_version": "1.5.0",
          "state": {
            "_dom_classes": [],
            "_model_module": "@jupyter-widgets/controls",
            "_model_module_version": "1.5.0",
            "_model_name": "HTMLModel",
            "_view_count": null,
            "_view_module": "@jupyter-widgets/controls",
            "_view_module_version": "1.5.0",
            "_view_name": "HTMLView",
            "description": "",
            "description_tooltip": null,
            "layout": "IPY_MODEL_f2758d9621b14d028bfddd403da4e2a7",
            "placeholder": "​",
            "style": "IPY_MODEL_1b268cf1d37d4ac58a9a941e0842ca55",
            "value": " 100/100 [00:00&lt;00:00, 6471.99it/s]"
          }
        },
        "9504ae5b2036433fab8484b6b817cf7b": {
          "model_module": "@jupyter-widgets/base",
          "model_name": "LayoutModel",
          "model_module_version": "1.2.0",
          "state": {
            "_model_module": "@jupyter-widgets/base",
            "_model_module_version": "1.2.0",
            "_model_name": "LayoutModel",
            "_view_count": null,
            "_view_module": "@jupyter-widgets/base",
            "_view_module_version": "1.2.0",
            "_view_name": "LayoutView",
            "align_content": null,
            "align_items": null,
            "align_self": null,
            "border": null,
            "bottom": null,
            "display": null,
            "flex": null,
            "flex_flow": null,
            "grid_area": null,
            "grid_auto_columns": null,
            "grid_auto_flow": null,
            "grid_auto_rows": null,
            "grid_column": null,
            "grid_gap": null,
            "grid_row": null,
            "grid_template_areas": null,
            "grid_template_columns": null,
            "grid_template_rows": null,
            "height": null,
            "justify_content": null,
            "justify_items": null,
            "left": null,
            "margin": null,
            "max_height": null,
            "max_width": null,
            "min_height": null,
            "min_width": null,
            "object_fit": null,
            "object_position": null,
            "order": null,
            "overflow": null,
            "overflow_x": null,
            "overflow_y": null,
            "padding": null,
            "right": null,
            "top": null,
            "visibility": null,
            "width": null
          }
        },
        "d1d9c36b802f42a7a927ae131f48f70d": {
          "model_module": "@jupyter-widgets/base",
          "model_name": "LayoutModel",
          "model_module_version": "1.2.0",
          "state": {
            "_model_module": "@jupyter-widgets/base",
            "_model_module_version": "1.2.0",
            "_model_name": "LayoutModel",
            "_view_count": null,
            "_view_module": "@jupyter-widgets/base",
            "_view_module_version": "1.2.0",
            "_view_name": "LayoutView",
            "align_content": null,
            "align_items": null,
            "align_self": null,
            "border": null,
            "bottom": null,
            "display": null,
            "flex": null,
            "flex_flow": null,
            "grid_area": null,
            "grid_auto_columns": null,
            "grid_auto_flow": null,
            "grid_auto_rows": null,
            "grid_column": null,
            "grid_gap": null,
            "grid_row": null,
            "grid_template_areas": null,
            "grid_template_columns": null,
            "grid_template_rows": null,
            "height": null,
            "justify_content": null,
            "justify_items": null,
            "left": null,
            "margin": null,
            "max_height": null,
            "max_width": null,
            "min_height": null,
            "min_width": null,
            "object_fit": null,
            "object_position": null,
            "order": null,
            "overflow": null,
            "overflow_x": null,
            "overflow_y": null,
            "padding": null,
            "right": null,
            "top": null,
            "visibility": null,
            "width": null
          }
        },
        "5b750103503a491ab0013312252cdf7c": {
          "model_module": "@jupyter-widgets/controls",
          "model_name": "DescriptionStyleModel",
          "model_module_version": "1.5.0",
          "state": {
            "_model_module": "@jupyter-widgets/controls",
            "_model_module_version": "1.5.0",
            "_model_name": "DescriptionStyleModel",
            "_view_count": null,
            "_view_module": "@jupyter-widgets/base",
            "_view_module_version": "1.2.0",
            "_view_name": "StyleView",
            "description_width": ""
          }
        },
        "0a1b1e6fca4f4b5893e86d1a7ad03182": {
          "model_module": "@jupyter-widgets/base",
          "model_name": "LayoutModel",
          "model_module_version": "1.2.0",
          "state": {
            "_model_module": "@jupyter-widgets/base",
            "_model_module_version": "1.2.0",
            "_model_name": "LayoutModel",
            "_view_count": null,
            "_view_module": "@jupyter-widgets/base",
            "_view_module_version": "1.2.0",
            "_view_name": "LayoutView",
            "align_content": null,
            "align_items": null,
            "align_self": null,
            "border": null,
            "bottom": null,
            "display": null,
            "flex": null,
            "flex_flow": null,
            "grid_area": null,
            "grid_auto_columns": null,
            "grid_auto_flow": null,
            "grid_auto_rows": null,
            "grid_column": null,
            "grid_gap": null,
            "grid_row": null,
            "grid_template_areas": null,
            "grid_template_columns": null,
            "grid_template_rows": null,
            "height": null,
            "justify_content": null,
            "justify_items": null,
            "left": null,
            "margin": null,
            "max_height": null,
            "max_width": null,
            "min_height": null,
            "min_width": null,
            "object_fit": null,
            "object_position": null,
            "order": null,
            "overflow": null,
            "overflow_x": null,
            "overflow_y": null,
            "padding": null,
            "right": null,
            "top": null,
            "visibility": null,
            "width": null
          }
        },
        "9b245f8f958d49f6b6988a9e0f10c68a": {
          "model_module": "@jupyter-widgets/controls",
          "model_name": "ProgressStyleModel",
          "model_module_version": "1.5.0",
          "state": {
            "_model_module": "@jupyter-widgets/controls",
            "_model_module_version": "1.5.0",
            "_model_name": "ProgressStyleModel",
            "_view_count": null,
            "_view_module": "@jupyter-widgets/base",
            "_view_module_version": "1.2.0",
            "_view_name": "StyleView",
            "bar_color": null,
            "description_width": ""
          }
        },
        "f2758d9621b14d028bfddd403da4e2a7": {
          "model_module": "@jupyter-widgets/base",
          "model_name": "LayoutModel",
          "model_module_version": "1.2.0",
          "state": {
            "_model_module": "@jupyter-widgets/base",
            "_model_module_version": "1.2.0",
            "_model_name": "LayoutModel",
            "_view_count": null,
            "_view_module": "@jupyter-widgets/base",
            "_view_module_version": "1.2.0",
            "_view_name": "LayoutView",
            "align_content": null,
            "align_items": null,
            "align_self": null,
            "border": null,
            "bottom": null,
            "display": null,
            "flex": null,
            "flex_flow": null,
            "grid_area": null,
            "grid_auto_columns": null,
            "grid_auto_flow": null,
            "grid_auto_rows": null,
            "grid_column": null,
            "grid_gap": null,
            "grid_row": null,
            "grid_template_areas": null,
            "grid_template_columns": null,
            "grid_template_rows": null,
            "height": null,
            "justify_content": null,
            "justify_items": null,
            "left": null,
            "margin": null,
            "max_height": null,
            "max_width": null,
            "min_height": null,
            "min_width": null,
            "object_fit": null,
            "object_position": null,
            "order": null,
            "overflow": null,
            "overflow_x": null,
            "overflow_y": null,
            "padding": null,
            "right": null,
            "top": null,
            "visibility": null,
            "width": null
          }
        },
        "1b268cf1d37d4ac58a9a941e0842ca55": {
          "model_module": "@jupyter-widgets/controls",
          "model_name": "DescriptionStyleModel",
          "model_module_version": "1.5.0",
          "state": {
            "_model_module": "@jupyter-widgets/controls",
            "_model_module_version": "1.5.0",
            "_model_name": "DescriptionStyleModel",
            "_view_count": null,
            "_view_module": "@jupyter-widgets/base",
            "_view_module_version": "1.2.0",
            "_view_name": "StyleView",
            "description_width": ""
          }
        },
        "69f9661301594e85a600fcbeb88b5fd4": {
          "model_module": "@jupyter-widgets/controls",
          "model_name": "HBoxModel",
          "model_module_version": "1.5.0",
          "state": {
            "_dom_classes": [],
            "_model_module": "@jupyter-widgets/controls",
            "_model_module_version": "1.5.0",
            "_model_name": "HBoxModel",
            "_view_count": null,
            "_view_module": "@jupyter-widgets/controls",
            "_view_module_version": "1.5.0",
            "_view_name": "HBoxView",
            "box_style": "",
            "children": [
              "IPY_MODEL_242a34b86a764dacb7e1de3fc98714a1",
              "IPY_MODEL_7b9aa76b892b4749876a7ae813a086af",
              "IPY_MODEL_8361a1326521492cb6b9ab2a9f0d5a39"
            ],
            "layout": "IPY_MODEL_33c08e4291844691b2084804b593a1c3"
          }
        },
        "242a34b86a764dacb7e1de3fc98714a1": {
          "model_module": "@jupyter-widgets/controls",
          "model_name": "HTMLModel",
          "model_module_version": "1.5.0",
          "state": {
            "_dom_classes": [],
            "_model_module": "@jupyter-widgets/controls",
            "_model_module_version": "1.5.0",
            "_model_name": "HTMLModel",
            "_view_count": null,
            "_view_module": "@jupyter-widgets/controls",
            "_view_module_version": "1.5.0",
            "_view_name": "HTMLView",
            "description": "",
            "description_tooltip": null,
            "layout": "IPY_MODEL_977f16d0782b4c879f5ca59dc39a7654",
            "placeholder": "​",
            "style": "IPY_MODEL_2724ca9b5bc14f2aba09fbe6528c0e23",
            "value": "100%"
          }
        },
        "7b9aa76b892b4749876a7ae813a086af": {
          "model_module": "@jupyter-widgets/controls",
          "model_name": "FloatProgressModel",
          "model_module_version": "1.5.0",
          "state": {
            "_dom_classes": [],
            "_model_module": "@jupyter-widgets/controls",
            "_model_module_version": "1.5.0",
            "_model_name": "FloatProgressModel",
            "_view_count": null,
            "_view_module": "@jupyter-widgets/controls",
            "_view_module_version": "1.5.0",
            "_view_name": "ProgressView",
            "bar_style": "success",
            "description": "",
            "description_tooltip": null,
            "layout": "IPY_MODEL_960cc17aecfa493c89621f7fe4226400",
            "max": 100,
            "min": 0,
            "orientation": "horizontal",
            "style": "IPY_MODEL_47aa4e30210141c38f9c435d501dff13",
            "value": 100
          }
        },
        "8361a1326521492cb6b9ab2a9f0d5a39": {
          "model_module": "@jupyter-widgets/controls",
          "model_name": "HTMLModel",
          "model_module_version": "1.5.0",
          "state": {
            "_dom_classes": [],
            "_model_module": "@jupyter-widgets/controls",
            "_model_module_version": "1.5.0",
            "_model_name": "HTMLModel",
            "_view_count": null,
            "_view_module": "@jupyter-widgets/controls",
            "_view_module_version": "1.5.0",
            "_view_name": "HTMLView",
            "description": "",
            "description_tooltip": null,
            "layout": "IPY_MODEL_3f2779b3fc484cadb946dda039d89283",
            "placeholder": "​",
            "style": "IPY_MODEL_85d1262f14034d9d921fd74b53b2c42e",
            "value": " 100/100 [00:00&lt;00:00, 5613.21it/s]"
          }
        },
        "33c08e4291844691b2084804b593a1c3": {
          "model_module": "@jupyter-widgets/base",
          "model_name": "LayoutModel",
          "model_module_version": "1.2.0",
          "state": {
            "_model_module": "@jupyter-widgets/base",
            "_model_module_version": "1.2.0",
            "_model_name": "LayoutModel",
            "_view_count": null,
            "_view_module": "@jupyter-widgets/base",
            "_view_module_version": "1.2.0",
            "_view_name": "LayoutView",
            "align_content": null,
            "align_items": null,
            "align_self": null,
            "border": null,
            "bottom": null,
            "display": null,
            "flex": null,
            "flex_flow": null,
            "grid_area": null,
            "grid_auto_columns": null,
            "grid_auto_flow": null,
            "grid_auto_rows": null,
            "grid_column": null,
            "grid_gap": null,
            "grid_row": null,
            "grid_template_areas": null,
            "grid_template_columns": null,
            "grid_template_rows": null,
            "height": null,
            "justify_content": null,
            "justify_items": null,
            "left": null,
            "margin": null,
            "max_height": null,
            "max_width": null,
            "min_height": null,
            "min_width": null,
            "object_fit": null,
            "object_position": null,
            "order": null,
            "overflow": null,
            "overflow_x": null,
            "overflow_y": null,
            "padding": null,
            "right": null,
            "top": null,
            "visibility": null,
            "width": null
          }
        },
        "977f16d0782b4c879f5ca59dc39a7654": {
          "model_module": "@jupyter-widgets/base",
          "model_name": "LayoutModel",
          "model_module_version": "1.2.0",
          "state": {
            "_model_module": "@jupyter-widgets/base",
            "_model_module_version": "1.2.0",
            "_model_name": "LayoutModel",
            "_view_count": null,
            "_view_module": "@jupyter-widgets/base",
            "_view_module_version": "1.2.0",
            "_view_name": "LayoutView",
            "align_content": null,
            "align_items": null,
            "align_self": null,
            "border": null,
            "bottom": null,
            "display": null,
            "flex": null,
            "flex_flow": null,
            "grid_area": null,
            "grid_auto_columns": null,
            "grid_auto_flow": null,
            "grid_auto_rows": null,
            "grid_column": null,
            "grid_gap": null,
            "grid_row": null,
            "grid_template_areas": null,
            "grid_template_columns": null,
            "grid_template_rows": null,
            "height": null,
            "justify_content": null,
            "justify_items": null,
            "left": null,
            "margin": null,
            "max_height": null,
            "max_width": null,
            "min_height": null,
            "min_width": null,
            "object_fit": null,
            "object_position": null,
            "order": null,
            "overflow": null,
            "overflow_x": null,
            "overflow_y": null,
            "padding": null,
            "right": null,
            "top": null,
            "visibility": null,
            "width": null
          }
        },
        "2724ca9b5bc14f2aba09fbe6528c0e23": {
          "model_module": "@jupyter-widgets/controls",
          "model_name": "DescriptionStyleModel",
          "model_module_version": "1.5.0",
          "state": {
            "_model_module": "@jupyter-widgets/controls",
            "_model_module_version": "1.5.0",
            "_model_name": "DescriptionStyleModel",
            "_view_count": null,
            "_view_module": "@jupyter-widgets/base",
            "_view_module_version": "1.2.0",
            "_view_name": "StyleView",
            "description_width": ""
          }
        },
        "960cc17aecfa493c89621f7fe4226400": {
          "model_module": "@jupyter-widgets/base",
          "model_name": "LayoutModel",
          "model_module_version": "1.2.0",
          "state": {
            "_model_module": "@jupyter-widgets/base",
            "_model_module_version": "1.2.0",
            "_model_name": "LayoutModel",
            "_view_count": null,
            "_view_module": "@jupyter-widgets/base",
            "_view_module_version": "1.2.0",
            "_view_name": "LayoutView",
            "align_content": null,
            "align_items": null,
            "align_self": null,
            "border": null,
            "bottom": null,
            "display": null,
            "flex": null,
            "flex_flow": null,
            "grid_area": null,
            "grid_auto_columns": null,
            "grid_auto_flow": null,
            "grid_auto_rows": null,
            "grid_column": null,
            "grid_gap": null,
            "grid_row": null,
            "grid_template_areas": null,
            "grid_template_columns": null,
            "grid_template_rows": null,
            "height": null,
            "justify_content": null,
            "justify_items": null,
            "left": null,
            "margin": null,
            "max_height": null,
            "max_width": null,
            "min_height": null,
            "min_width": null,
            "object_fit": null,
            "object_position": null,
            "order": null,
            "overflow": null,
            "overflow_x": null,
            "overflow_y": null,
            "padding": null,
            "right": null,
            "top": null,
            "visibility": null,
            "width": null
          }
        },
        "47aa4e30210141c38f9c435d501dff13": {
          "model_module": "@jupyter-widgets/controls",
          "model_name": "ProgressStyleModel",
          "model_module_version": "1.5.0",
          "state": {
            "_model_module": "@jupyter-widgets/controls",
            "_model_module_version": "1.5.0",
            "_model_name": "ProgressStyleModel",
            "_view_count": null,
            "_view_module": "@jupyter-widgets/base",
            "_view_module_version": "1.2.0",
            "_view_name": "StyleView",
            "bar_color": null,
            "description_width": ""
          }
        },
        "3f2779b3fc484cadb946dda039d89283": {
          "model_module": "@jupyter-widgets/base",
          "model_name": "LayoutModel",
          "model_module_version": "1.2.0",
          "state": {
            "_model_module": "@jupyter-widgets/base",
            "_model_module_version": "1.2.0",
            "_model_name": "LayoutModel",
            "_view_count": null,
            "_view_module": "@jupyter-widgets/base",
            "_view_module_version": "1.2.0",
            "_view_name": "LayoutView",
            "align_content": null,
            "align_items": null,
            "align_self": null,
            "border": null,
            "bottom": null,
            "display": null,
            "flex": null,
            "flex_flow": null,
            "grid_area": null,
            "grid_auto_columns": null,
            "grid_auto_flow": null,
            "grid_auto_rows": null,
            "grid_column": null,
            "grid_gap": null,
            "grid_row": null,
            "grid_template_areas": null,
            "grid_template_columns": null,
            "grid_template_rows": null,
            "height": null,
            "justify_content": null,
            "justify_items": null,
            "left": null,
            "margin": null,
            "max_height": null,
            "max_width": null,
            "min_height": null,
            "min_width": null,
            "object_fit": null,
            "object_position": null,
            "order": null,
            "overflow": null,
            "overflow_x": null,
            "overflow_y": null,
            "padding": null,
            "right": null,
            "top": null,
            "visibility": null,
            "width": null
          }
        },
        "85d1262f14034d9d921fd74b53b2c42e": {
          "model_module": "@jupyter-widgets/controls",
          "model_name": "DescriptionStyleModel",
          "model_module_version": "1.5.0",
          "state": {
            "_model_module": "@jupyter-widgets/controls",
            "_model_module_version": "1.5.0",
            "_model_name": "DescriptionStyleModel",
            "_view_count": null,
            "_view_module": "@jupyter-widgets/base",
            "_view_module_version": "1.2.0",
            "_view_name": "StyleView",
            "description_width": ""
          }
        },
        "2411cfeb8b1643e5b8e51a3a08baeaca": {
          "model_module": "@jupyter-widgets/controls",
          "model_name": "HBoxModel",
          "model_module_version": "1.5.0",
          "state": {
            "_dom_classes": [],
            "_model_module": "@jupyter-widgets/controls",
            "_model_module_version": "1.5.0",
            "_model_name": "HBoxModel",
            "_view_count": null,
            "_view_module": "@jupyter-widgets/controls",
            "_view_module_version": "1.5.0",
            "_view_name": "HBoxView",
            "box_style": "",
            "children": [
              "IPY_MODEL_439cfb6438804ef1a7fb2e164568065a",
              "IPY_MODEL_2799e33d1df1481d9453968d36fdaff6",
              "IPY_MODEL_2a26cc0bf9c640e59ac1073e5f6e21c3"
            ],
            "layout": "IPY_MODEL_68e75ac3d23c4b1f80f6f240e46a6773"
          }
        },
        "439cfb6438804ef1a7fb2e164568065a": {
          "model_module": "@jupyter-widgets/controls",
          "model_name": "HTMLModel",
          "model_module_version": "1.5.0",
          "state": {
            "_dom_classes": [],
            "_model_module": "@jupyter-widgets/controls",
            "_model_module_version": "1.5.0",
            "_model_name": "HTMLModel",
            "_view_count": null,
            "_view_module": "@jupyter-widgets/controls",
            "_view_module_version": "1.5.0",
            "_view_name": "HTMLView",
            "description": "",
            "description_tooltip": null,
            "layout": "IPY_MODEL_e2df7038391041f8b290fd4de3ce30fc",
            "placeholder": "​",
            "style": "IPY_MODEL_a5cfaf714b8d41b5925201f730209bb0",
            "value": "100%"
          }
        },
        "2799e33d1df1481d9453968d36fdaff6": {
          "model_module": "@jupyter-widgets/controls",
          "model_name": "FloatProgressModel",
          "model_module_version": "1.5.0",
          "state": {
            "_dom_classes": [],
            "_model_module": "@jupyter-widgets/controls",
            "_model_module_version": "1.5.0",
            "_model_name": "FloatProgressModel",
            "_view_count": null,
            "_view_module": "@jupyter-widgets/controls",
            "_view_module_version": "1.5.0",
            "_view_name": "ProgressView",
            "bar_style": "success",
            "description": "",
            "description_tooltip": null,
            "layout": "IPY_MODEL_8d55cf1e425643d9818cb93ff1313075",
            "max": 100,
            "min": 0,
            "orientation": "horizontal",
            "style": "IPY_MODEL_4f5b7c978b3d41f48e1374682a168ad0",
            "value": 100
          }
        },
        "2a26cc0bf9c640e59ac1073e5f6e21c3": {
          "model_module": "@jupyter-widgets/controls",
          "model_name": "HTMLModel",
          "model_module_version": "1.5.0",
          "state": {
            "_dom_classes": [],
            "_model_module": "@jupyter-widgets/controls",
            "_model_module_version": "1.5.0",
            "_model_name": "HTMLModel",
            "_view_count": null,
            "_view_module": "@jupyter-widgets/controls",
            "_view_module_version": "1.5.0",
            "_view_name": "HTMLView",
            "description": "",
            "description_tooltip": null,
            "layout": "IPY_MODEL_227297e5e0a24ddab095d044f091d884",
            "placeholder": "​",
            "style": "IPY_MODEL_ae8b3aa805804678afff3c2e9f9d5716",
            "value": " 100/100 [00:00&lt;00:00, 5240.26it/s]"
          }
        },
        "68e75ac3d23c4b1f80f6f240e46a6773": {
          "model_module": "@jupyter-widgets/base",
          "model_name": "LayoutModel",
          "model_module_version": "1.2.0",
          "state": {
            "_model_module": "@jupyter-widgets/base",
            "_model_module_version": "1.2.0",
            "_model_name": "LayoutModel",
            "_view_count": null,
            "_view_module": "@jupyter-widgets/base",
            "_view_module_version": "1.2.0",
            "_view_name": "LayoutView",
            "align_content": null,
            "align_items": null,
            "align_self": null,
            "border": null,
            "bottom": null,
            "display": null,
            "flex": null,
            "flex_flow": null,
            "grid_area": null,
            "grid_auto_columns": null,
            "grid_auto_flow": null,
            "grid_auto_rows": null,
            "grid_column": null,
            "grid_gap": null,
            "grid_row": null,
            "grid_template_areas": null,
            "grid_template_columns": null,
            "grid_template_rows": null,
            "height": null,
            "justify_content": null,
            "justify_items": null,
            "left": null,
            "margin": null,
            "max_height": null,
            "max_width": null,
            "min_height": null,
            "min_width": null,
            "object_fit": null,
            "object_position": null,
            "order": null,
            "overflow": null,
            "overflow_x": null,
            "overflow_y": null,
            "padding": null,
            "right": null,
            "top": null,
            "visibility": null,
            "width": null
          }
        },
        "e2df7038391041f8b290fd4de3ce30fc": {
          "model_module": "@jupyter-widgets/base",
          "model_name": "LayoutModel",
          "model_module_version": "1.2.0",
          "state": {
            "_model_module": "@jupyter-widgets/base",
            "_model_module_version": "1.2.0",
            "_model_name": "LayoutModel",
            "_view_count": null,
            "_view_module": "@jupyter-widgets/base",
            "_view_module_version": "1.2.0",
            "_view_name": "LayoutView",
            "align_content": null,
            "align_items": null,
            "align_self": null,
            "border": null,
            "bottom": null,
            "display": null,
            "flex": null,
            "flex_flow": null,
            "grid_area": null,
            "grid_auto_columns": null,
            "grid_auto_flow": null,
            "grid_auto_rows": null,
            "grid_column": null,
            "grid_gap": null,
            "grid_row": null,
            "grid_template_areas": null,
            "grid_template_columns": null,
            "grid_template_rows": null,
            "height": null,
            "justify_content": null,
            "justify_items": null,
            "left": null,
            "margin": null,
            "max_height": null,
            "max_width": null,
            "min_height": null,
            "min_width": null,
            "object_fit": null,
            "object_position": null,
            "order": null,
            "overflow": null,
            "overflow_x": null,
            "overflow_y": null,
            "padding": null,
            "right": null,
            "top": null,
            "visibility": null,
            "width": null
          }
        },
        "a5cfaf714b8d41b5925201f730209bb0": {
          "model_module": "@jupyter-widgets/controls",
          "model_name": "DescriptionStyleModel",
          "model_module_version": "1.5.0",
          "state": {
            "_model_module": "@jupyter-widgets/controls",
            "_model_module_version": "1.5.0",
            "_model_name": "DescriptionStyleModel",
            "_view_count": null,
            "_view_module": "@jupyter-widgets/base",
            "_view_module_version": "1.2.0",
            "_view_name": "StyleView",
            "description_width": ""
          }
        },
        "8d55cf1e425643d9818cb93ff1313075": {
          "model_module": "@jupyter-widgets/base",
          "model_name": "LayoutModel",
          "model_module_version": "1.2.0",
          "state": {
            "_model_module": "@jupyter-widgets/base",
            "_model_module_version": "1.2.0",
            "_model_name": "LayoutModel",
            "_view_count": null,
            "_view_module": "@jupyter-widgets/base",
            "_view_module_version": "1.2.0",
            "_view_name": "LayoutView",
            "align_content": null,
            "align_items": null,
            "align_self": null,
            "border": null,
            "bottom": null,
            "display": null,
            "flex": null,
            "flex_flow": null,
            "grid_area": null,
            "grid_auto_columns": null,
            "grid_auto_flow": null,
            "grid_auto_rows": null,
            "grid_column": null,
            "grid_gap": null,
            "grid_row": null,
            "grid_template_areas": null,
            "grid_template_columns": null,
            "grid_template_rows": null,
            "height": null,
            "justify_content": null,
            "justify_items": null,
            "left": null,
            "margin": null,
            "max_height": null,
            "max_width": null,
            "min_height": null,
            "min_width": null,
            "object_fit": null,
            "object_position": null,
            "order": null,
            "overflow": null,
            "overflow_x": null,
            "overflow_y": null,
            "padding": null,
            "right": null,
            "top": null,
            "visibility": null,
            "width": null
          }
        },
        "4f5b7c978b3d41f48e1374682a168ad0": {
          "model_module": "@jupyter-widgets/controls",
          "model_name": "ProgressStyleModel",
          "model_module_version": "1.5.0",
          "state": {
            "_model_module": "@jupyter-widgets/controls",
            "_model_module_version": "1.5.0",
            "_model_name": "ProgressStyleModel",
            "_view_count": null,
            "_view_module": "@jupyter-widgets/base",
            "_view_module_version": "1.2.0",
            "_view_name": "StyleView",
            "bar_color": null,
            "description_width": ""
          }
        },
        "227297e5e0a24ddab095d044f091d884": {
          "model_module": "@jupyter-widgets/base",
          "model_name": "LayoutModel",
          "model_module_version": "1.2.0",
          "state": {
            "_model_module": "@jupyter-widgets/base",
            "_model_module_version": "1.2.0",
            "_model_name": "LayoutModel",
            "_view_count": null,
            "_view_module": "@jupyter-widgets/base",
            "_view_module_version": "1.2.0",
            "_view_name": "LayoutView",
            "align_content": null,
            "align_items": null,
            "align_self": null,
            "border": null,
            "bottom": null,
            "display": null,
            "flex": null,
            "flex_flow": null,
            "grid_area": null,
            "grid_auto_columns": null,
            "grid_auto_flow": null,
            "grid_auto_rows": null,
            "grid_column": null,
            "grid_gap": null,
            "grid_row": null,
            "grid_template_areas": null,
            "grid_template_columns": null,
            "grid_template_rows": null,
            "height": null,
            "justify_content": null,
            "justify_items": null,
            "left": null,
            "margin": null,
            "max_height": null,
            "max_width": null,
            "min_height": null,
            "min_width": null,
            "object_fit": null,
            "object_position": null,
            "order": null,
            "overflow": null,
            "overflow_x": null,
            "overflow_y": null,
            "padding": null,
            "right": null,
            "top": null,
            "visibility": null,
            "width": null
          }
        },
        "ae8b3aa805804678afff3c2e9f9d5716": {
          "model_module": "@jupyter-widgets/controls",
          "model_name": "DescriptionStyleModel",
          "model_module_version": "1.5.0",
          "state": {
            "_model_module": "@jupyter-widgets/controls",
            "_model_module_version": "1.5.0",
            "_model_name": "DescriptionStyleModel",
            "_view_count": null,
            "_view_module": "@jupyter-widgets/base",
            "_view_module_version": "1.2.0",
            "_view_name": "StyleView",
            "description_width": ""
          }
        }
      }
    }
  },
  "nbformat": 4,
  "nbformat_minor": 0
}